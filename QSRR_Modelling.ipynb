{
 "cells": [
  {
   "cell_type": "markdown",
   "source": [
    "# Description\n",
    "---\n",
    "\n",
    "This notebook can be used to reproduce results form the paper:\n",
    "\"Cross-column DFT-based QSRR model development powered by Machine Learning\".\n",
    "\n",
    "Data (molecular descriptors, column characteristics, and experimental retention times) are loaded, split into training, validation and blind test. QSRR models are built using four ML methods (Ridge Regression, Partial Least Squares, Random Forests and Gradient Boosting). Hyperparameters of the ML QSRR models are optimized using a grid search."
   ],
   "metadata": {
    "collapsed": false
   }
  },
  {
   "cell_type": "markdown",
   "source": [
    "# Requirements\n",
    "---\n",
    "\n",
    "1. jupyter\n",
    "2. notebook\n",
    "3. numpy\n",
    "4. pandas\n",
    "5. matplotlib\n",
    "6. seaborn\n",
    "7. scikit-learn\n",
    "8. shap"
   ],
   "metadata": {
    "collapsed": false
   }
  },
  {
   "cell_type": "markdown",
   "source": [
    "# Imports\n",
    "---"
   ],
   "metadata": {
    "collapsed": false
   }
  },
  {
   "cell_type": "code",
   "execution_count": 1,
   "outputs": [
    {
     "name": "stdout",
     "output_type": "stream",
     "text": [
      "Requirement already satisfied: numpy in c:\\users\\petar\\pycharmprojects\\cross_column_qsrr\\venv\\lib\\site-packages (1.24.4)\n",
      "Requirement already satisfied: pandas in c:\\users\\petar\\pycharmprojects\\cross_column_qsrr\\venv\\lib\\site-packages (2.0.3)\n",
      "Requirement already satisfied: matplotlib in c:\\users\\petar\\pycharmprojects\\cross_column_qsrr\\venv\\lib\\site-packages (3.7.2)\n",
      "Requirement already satisfied: seaborn in c:\\users\\petar\\pycharmprojects\\cross_column_qsrr\\venv\\lib\\site-packages (0.12.2)\n",
      "Requirement already satisfied: scikit-learn in c:\\users\\petar\\pycharmprojects\\cross_column_qsrr\\venv\\lib\\site-packages (1.3.0)\n",
      "Requirement already satisfied: shap in c:\\users\\petar\\pycharmprojects\\cross_column_qsrr\\venv\\lib\\site-packages (0.42.1)\n",
      "Requirement already satisfied: python-dateutil>=2.8.2 in c:\\users\\petar\\pycharmprojects\\cross_column_qsrr\\venv\\lib\\site-packages (from pandas) (2.8.2)\n",
      "Requirement already satisfied: pytz>=2020.1 in c:\\users\\petar\\pycharmprojects\\cross_column_qsrr\\venv\\lib\\site-packages (from pandas) (2023.3)\n",
      "Requirement already satisfied: tzdata>=2022.1 in c:\\users\\petar\\pycharmprojects\\cross_column_qsrr\\venv\\lib\\site-packages (from pandas) (2023.3)\n",
      "Requirement already satisfied: packaging>=20.0 in c:\\users\\petar\\pycharmprojects\\cross_column_qsrr\\venv\\lib\\site-packages (from matplotlib) (23.1)\n",
      "Requirement already satisfied: pillow>=6.2.0 in c:\\users\\petar\\pycharmprojects\\cross_column_qsrr\\venv\\lib\\site-packages (from matplotlib) (10.0.0)\n",
      "Requirement already satisfied: kiwisolver>=1.0.1 in c:\\users\\petar\\pycharmprojects\\cross_column_qsrr\\venv\\lib\\site-packages (from matplotlib) (1.4.4)\n",
      "Requirement already satisfied: cycler>=0.10 in c:\\users\\petar\\pycharmprojects\\cross_column_qsrr\\venv\\lib\\site-packages (from matplotlib) (0.11.0)\n",
      "Requirement already satisfied: contourpy>=1.0.1 in c:\\users\\petar\\pycharmprojects\\cross_column_qsrr\\venv\\lib\\site-packages (from matplotlib) (1.1.0)\n",
      "Requirement already satisfied: fonttools>=4.22.0 in c:\\users\\petar\\pycharmprojects\\cross_column_qsrr\\venv\\lib\\site-packages (from matplotlib) (4.41.0)\n",
      "Requirement already satisfied: pyparsing<3.1,>=2.3.1 in c:\\users\\petar\\pycharmprojects\\cross_column_qsrr\\venv\\lib\\site-packages (from matplotlib) (3.0.9)\n",
      "Requirement already satisfied: scipy>=1.5.0 in c:\\users\\petar\\pycharmprojects\\cross_column_qsrr\\venv\\lib\\site-packages (from scikit-learn) (1.11.1)\n",
      "Requirement already satisfied: joblib>=1.1.1 in c:\\users\\petar\\pycharmprojects\\cross_column_qsrr\\venv\\lib\\site-packages (from scikit-learn) (1.3.1)\n",
      "Requirement already satisfied: threadpoolctl>=2.0.0 in c:\\users\\petar\\pycharmprojects\\cross_column_qsrr\\venv\\lib\\site-packages (from scikit-learn) (3.2.0)\n",
      "Requirement already satisfied: numba in c:\\users\\petar\\pycharmprojects\\cross_column_qsrr\\venv\\lib\\site-packages (from shap) (0.57.1)\n",
      "Requirement already satisfied: tqdm>=4.27.0 in c:\\users\\petar\\pycharmprojects\\cross_column_qsrr\\venv\\lib\\site-packages (from shap) (4.65.0)\n",
      "Requirement already satisfied: slicer==0.0.7 in c:\\users\\petar\\pycharmprojects\\cross_column_qsrr\\venv\\lib\\site-packages (from shap) (0.0.7)\n",
      "Requirement already satisfied: cloudpickle in c:\\users\\petar\\pycharmprojects\\cross_column_qsrr\\venv\\lib\\site-packages (from shap) (2.2.1)\n",
      "Requirement already satisfied: six>=1.5 in c:\\users\\petar\\pycharmprojects\\cross_column_qsrr\\venv\\lib\\site-packages (from python-dateutil>=2.8.2->pandas) (1.16.0)\n",
      "Requirement already satisfied: colorama in c:\\users\\petar\\pycharmprojects\\cross_column_qsrr\\venv\\lib\\site-packages (from tqdm>=4.27.0->shap) (0.4.6)\n",
      "Requirement already satisfied: llvmlite<0.41,>=0.40.0dev0 in c:\\users\\petar\\pycharmprojects\\cross_column_qsrr\\venv\\lib\\site-packages (from numba->shap) (0.40.1)\n",
      "Note: you may need to restart the kernel to use updated packages.\n"
     ]
    },
    {
     "name": "stderr",
     "output_type": "stream",
     "text": [
      "\n",
      "[notice] A new release of pip available: 22.3.1 -> 23.2\n",
      "[notice] To update, run: python.exe -m pip install --upgrade pip\n"
     ]
    }
   ],
   "source": [
    "# Install requirements\n",
    "%pip install numpy pandas matplotlib seaborn scikit-learn shap"
   ],
   "metadata": {
    "collapsed": false,
    "ExecuteTime": {
     "end_time": "2023-07-20T13:56:38.164582100Z",
     "start_time": "2023-07-20T13:56:36.965306800Z"
    }
   }
  },
  {
   "cell_type": "code",
   "execution_count": 2,
   "metadata": {
    "colab": {
     "base_uri": "https://localhost:8080/"
    },
    "id": "BzdTSd3_BXBN",
    "outputId": "9fcc95a6-ec85-4c16-f814-a2a4cd553f7b",
    "ExecuteTime": {
     "end_time": "2023-07-20T13:56:38.707696400Z",
     "start_time": "2023-07-20T13:56:38.161589400Z"
    }
   },
   "outputs": [
    {
     "name": "stderr",
     "output_type": "stream",
     "text": [
      "Using `tqdm.autonotebook.tqdm` in notebook mode. Use `tqdm.tqdm` instead to force console mode (e.g. in jupyter console)\n"
     ]
    }
   ],
   "source": [
    "%load_ext autoreload\n",
    "%autoreload 2\n",
    "\n",
    "from typing import (\n",
    "    Any,\n",
    "    Dict,\n",
    "    List\n",
    ")\n",
    "\n",
    "import numpy as np\n",
    "from numpy import ndarray\n",
    "\n",
    "import pandas as pd\n",
    "from pandas import DataFrame\n",
    "\n",
    "import seaborn as sns\n",
    "import matplotlib.pyplot as plt\n",
    "\n",
    "from sklearn.ensemble import RandomForestRegressor\n",
    "from sklearn.cross_decomposition import PLSRegression\n",
    "from sklearn.ensemble import GradientBoostingRegressor\n",
    "from sklearn.linear_model import RidgeCV\n",
    "from sklearn.pipeline import make_pipeline\n",
    "from sklearn.model_selection import (\n",
    "    cross_val_score,\n",
    "    KFold,\n",
    "    GridSearchCV\n",
    ")\n",
    "from sklearn.preprocessing import StandardScaler\n",
    "from sklearn.model_selection import (\n",
    "    PredefinedSplit,\n",
    "    train_test_split\n",
    ")\n",
    "\n",
    "from src.analysis import analyze_model\n",
    "from src.config import (\n",
    "    plot_settings,\n",
    "    split_indices\n",
    ")\n",
    "from src.visuals import Visualizer\n",
    "\n",
    "plt.rcParams.update(plot_settings)\n",
    "\n",
    "sns.set()"
   ]
  },
  {
   "cell_type": "markdown",
   "source": [
    "# Data Loading & Processing\n",
    "---"
   ],
   "metadata": {
    "collapsed": false
   }
  },
  {
   "cell_type": "code",
   "execution_count": 3,
   "metadata": {
    "colab": {
     "base_uri": "https://localhost:8080/",
     "height": 623
    },
    "id": "mzz61DajwibY",
    "outputId": "e2e15d64-77b3-4c83-eb63-52cdb97a7780",
    "ExecuteTime": {
     "end_time": "2023-07-20T13:56:38.801747500Z",
     "start_time": "2023-07-20T13:56:38.704186400Z"
    }
   },
   "outputs": [
    {
     "data": {
      "text/plain": "   SE[kcal/mol]  Delta(min)[eV]  M(tot.)[D]  EnergyGap[eV]  \\\n0        -7.440          -0.503      5.3780          8.383   \n1        -6.145          -0.545      1.7540          7.810   \n2        -7.669          -0.679      2.4686          8.287   \n3        -9.395          -0.666      6.9915          9.167   \n4       -12.792          -0.680      3.8255          7.723   \n\n   Electrophilicity[eV]  IP[eV]  EA[eV]  GlobalHardness[eV]  \\\n0                 -3.93    8.12   -0.26                4.19   \n1                 -3.61    7.51   -0.30                3.90   \n2                 -3.68    7.82   -0.46                4.14   \n3                 -4.07    8.65   -0.52                4.58   \n4                 -2.63    6.49   -1.23                3.86   \n\n   Electronegativity[eV]  Electrophilicity [eV]  Temperature  Gradient  \\\n0                   3.93                   1.84           25        40   \n1                   3.61                   1.67           25        40   \n2                   3.68                   1.63           25        40   \n3                   4.07                   1.81           25        40   \n4                   2.63                   0.90           25        40   \n\n   ParticleSize  Carbon Load  PoreSize      TR  \n0           2.7           10       120  15.842  \n1           2.7           10       120  30.996  \n2           2.7           10       120  12.111  \n3           2.7           10       120   4.968  \n4           2.7           10       120  12.465  ",
      "text/html": "<div>\n<style scoped>\n    .dataframe tbody tr th:only-of-type {\n        vertical-align: middle;\n    }\n\n    .dataframe tbody tr th {\n        vertical-align: top;\n    }\n\n    .dataframe thead th {\n        text-align: right;\n    }\n</style>\n<table border=\"1\" class=\"dataframe\">\n  <thead>\n    <tr style=\"text-align: right;\">\n      <th></th>\n      <th>SE[kcal/mol]</th>\n      <th>Delta(min)[eV]</th>\n      <th>M(tot.)[D]</th>\n      <th>EnergyGap[eV]</th>\n      <th>Electrophilicity[eV]</th>\n      <th>IP[eV]</th>\n      <th>EA[eV]</th>\n      <th>GlobalHardness[eV]</th>\n      <th>Electronegativity[eV]</th>\n      <th>Electrophilicity [eV]</th>\n      <th>Temperature</th>\n      <th>Gradient</th>\n      <th>ParticleSize</th>\n      <th>Carbon Load</th>\n      <th>PoreSize</th>\n      <th>TR</th>\n    </tr>\n  </thead>\n  <tbody>\n    <tr>\n      <th>0</th>\n      <td>-7.440</td>\n      <td>-0.503</td>\n      <td>5.3780</td>\n      <td>8.383</td>\n      <td>-3.93</td>\n      <td>8.12</td>\n      <td>-0.26</td>\n      <td>4.19</td>\n      <td>3.93</td>\n      <td>1.84</td>\n      <td>25</td>\n      <td>40</td>\n      <td>2.7</td>\n      <td>10</td>\n      <td>120</td>\n      <td>15.842</td>\n    </tr>\n    <tr>\n      <th>1</th>\n      <td>-6.145</td>\n      <td>-0.545</td>\n      <td>1.7540</td>\n      <td>7.810</td>\n      <td>-3.61</td>\n      <td>7.51</td>\n      <td>-0.30</td>\n      <td>3.90</td>\n      <td>3.61</td>\n      <td>1.67</td>\n      <td>25</td>\n      <td>40</td>\n      <td>2.7</td>\n      <td>10</td>\n      <td>120</td>\n      <td>30.996</td>\n    </tr>\n    <tr>\n      <th>2</th>\n      <td>-7.669</td>\n      <td>-0.679</td>\n      <td>2.4686</td>\n      <td>8.287</td>\n      <td>-3.68</td>\n      <td>7.82</td>\n      <td>-0.46</td>\n      <td>4.14</td>\n      <td>3.68</td>\n      <td>1.63</td>\n      <td>25</td>\n      <td>40</td>\n      <td>2.7</td>\n      <td>10</td>\n      <td>120</td>\n      <td>12.111</td>\n    </tr>\n    <tr>\n      <th>3</th>\n      <td>-9.395</td>\n      <td>-0.666</td>\n      <td>6.9915</td>\n      <td>9.167</td>\n      <td>-4.07</td>\n      <td>8.65</td>\n      <td>-0.52</td>\n      <td>4.58</td>\n      <td>4.07</td>\n      <td>1.81</td>\n      <td>25</td>\n      <td>40</td>\n      <td>2.7</td>\n      <td>10</td>\n      <td>120</td>\n      <td>4.968</td>\n    </tr>\n    <tr>\n      <th>4</th>\n      <td>-12.792</td>\n      <td>-0.680</td>\n      <td>3.8255</td>\n      <td>7.723</td>\n      <td>-2.63</td>\n      <td>6.49</td>\n      <td>-1.23</td>\n      <td>3.86</td>\n      <td>2.63</td>\n      <td>0.90</td>\n      <td>25</td>\n      <td>40</td>\n      <td>2.7</td>\n      <td>10</td>\n      <td>120</td>\n      <td>12.465</td>\n    </tr>\n  </tbody>\n</table>\n</div>"
     },
     "metadata": {},
     "output_type": "display_data"
    }
   ],
   "source": [
    "# Load Data\n",
    "_data_df: DataFrame = pd.read_csv(\n",
    "    './data/2023-07-19-qsrr_dataset.csv'\n",
    ")\n",
    "\n",
    "# Drop columns= 'name' and '#', 'ID', \"Length\"\n",
    "_data_df.drop(\n",
    "    columns=['#','name', 'ID', \"Length\"],\n",
    "    errors=\"ignore\",\n",
    "    inplace=True\n",
    ")\n",
    "\n",
    "# Display Data\n",
    "display(_data_df.head())"
   ]
  },
  {
   "cell_type": "markdown",
   "source": [
    "# Data Analysis\n",
    "---"
   ],
   "metadata": {
    "collapsed": false
   }
  },
  {
   "cell_type": "code",
   "execution_count": 4,
   "metadata": {
    "ExecuteTime": {
     "end_time": "2023-07-20T13:56:39.017449800Z",
     "start_time": "2023-07-20T13:56:38.800750300Z"
    }
   },
   "outputs": [
    {
     "data": {
      "text/plain": "<Figure size 800x600 with 1 Axes>",
      "image/png": "[encoded data removed]"
     },
     "metadata": {},
     "output_type": "display_data"
    }
   ],
   "source": [
    "# Retention Times Boxplot\n",
    "\n",
    "_x: List[Any] = [\n",
    "    _data_df['TR'],\n",
    "    _data_df['TR'][_data_df['Carbon Load'] == 10],  # Column 1\n",
    "    _data_df['TR'][_data_df['Carbon Load'] == 17],  # Column 2\n",
    "    _data_df['TR'][_data_df['Carbon Load'] == 20]\n",
    "]\n",
    "\n",
    "_positions: List[int] = [5, 30, 61, 90]\n",
    "\n",
    "_labels: List[str] = [\n",
    "    'All\\n Columns',\n",
    "    'Agilent Poroshell 120 EC18,\\n 100 mm x 3 mm,\\n particle size 2.7μm ',\n",
    "    'Reprosil-Pur Basic-C18,\\n 100 mm x 3 mm,\\n particle size 3μm',\n",
    "    'ReproSil Gold 120 C18,\\n 100 mm x 3 mm, \\n particle size 3μm'\n",
    "]\n",
    "\n",
    "_y_label: str = 'Retention time (min)'\n",
    "\n",
    "Visualizer.boxplot(\n",
    "    x=_x,\n",
    "    positions=_positions,\n",
    "    labels=_labels,\n",
    "    y_label=_y_label\n",
    ")"
   ]
  },
  {
   "cell_type": "code",
   "execution_count": 5,
   "metadata": {
    "colab": {
     "base_uri": "https://localhost:8080/",
     "height": 854
    },
    "id": "5woSQCw1LhDW",
    "outputId": "995e30b2-6ad7-4ae6-8f96-5b7f5325a1bb",
    "ExecuteTime": {
     "end_time": "2023-07-20T13:56:39.558238400Z",
     "start_time": "2023-07-20T13:56:39.019443500Z"
    }
   },
   "outputs": [
    {
     "data": {
      "text/plain": "<Figure size 800x600 with 2 Axes>",
      "image/png": "[encoded data removed]"
     },
     "metadata": {},
     "output_type": "display_data"
    }
   ],
   "source": [
    "# Correlation Matrix Plot\n",
    "_correlation_df = _data_df.corr(method='spearman')\n",
    "\n",
    "Visualizer.correlation_heatmap(\n",
    "    _correlation_df\n",
    ")"
   ]
  },
  {
   "attachments": {},
   "cell_type": "markdown",
   "metadata": {
    "id": "FGm-0_W9hSBZ"
   },
   "source": [
    "# Train/Test Split"
   ]
  },
  {
   "cell_type": "code",
   "execution_count": 6,
   "metadata": {
    "colab": {
     "base_uri": "https://localhost:8080/"
    },
    "id": "V35UYvzN3AHR",
    "outputId": "790ab96d-4631-4c42-d07b-f4cee32def86",
    "ExecuteTime": {
     "end_time": "2023-07-20T13:56:39.637376300Z",
     "start_time": "2023-07-20T13:56:39.551662800Z"
    }
   },
   "outputs": [
    {
     "name": "stdout",
     "output_type": "stream",
     "text": [
      "X-train: (176, 15)\n",
      "y-train: (176,)\n",
      "- - - - - - - - - - - - - - - - - - - - \n",
      "X-validation: (76, 15)\n",
      "y-validation: (76,)\n",
      "- - - - - - - - - - - - - - - - - - - - \n",
      "X-BT: (108, 15)\n",
      "y-BT: (108,)\n",
      "- - - - - - - - - - - - - - - - - - - - \n"
     ]
    }
   ],
   "source": [
    "# X- and y- data\n",
    "_x: ndarray = _data_df.iloc[:,:-1].values  # Variables -> x1 to x15\n",
    "_y: ndarray = _data_df.iloc[:,-1].values   # Target: -> tR : retention tiime\n",
    "\n",
    "# Split initial data into training & blind test sets\n",
    "_x_train_all, _x_bt, _y_train_all, _y_bt = train_test_split(\n",
    "    _x,\n",
    "    _y,\n",
    "    test_size=0.3\n",
    "    ,shuffle=True,\n",
    "    random_state=12345  # For reproducibility\n",
    ")\n",
    "\n",
    "# Split the training data further into training and validation\n",
    "_x_train, _x_validation, _y_train, _y_validation = train_test_split(\n",
    "    _x_train_all,\n",
    "    _y_train_all,\n",
    "    test_size=0.3,\n",
    "    random_state=12345   # For reproducibility\n",
    ")\n",
    "\n",
    "# Summary\n",
    "print('X-train:', _x_train.shape)\n",
    "print('y-train:', _y_train.shape)\n",
    "print('- - '*10)\n",
    "print('X-validation:', _x_validation.shape)\n",
    "print('y-validation:', _y_validation.shape)\n",
    "print('- - '*10)\n",
    "print('X-BT:', _x_bt.shape)\n",
    "print('y-BT:', _y_bt.shape)\n",
    "print('- - '*10)\n",
    "\n",
    "# Using Predefiend Set of data for validation for hyper-parameter optimization\n",
    "ps = PredefinedSplit(test_fold=split_indices)"
   ]
  },
  {
   "attachments": {},
   "cell_type": "markdown",
   "metadata": {
    "id": "HHFwmW8AYCnt"
   },
   "source": [
    "# Hyper-Parameter Optimization, QSRR model building & analysis\n",
    "---"
   ]
  },
  {
   "cell_type": "markdown",
   "source": [
    "## Random Forests\n",
    "---"
   ],
   "metadata": {
    "collapsed": false
   }
  },
  {
   "cell_type": "code",
   "execution_count": 7,
   "metadata": {
    "ExecuteTime": {
     "end_time": "2023-07-20T13:56:39.718701100Z",
     "start_time": "2023-07-20T13:56:39.639376300Z"
    }
   },
   "outputs": [],
   "source": [
    "# RFs parameter grid\n",
    "_rfs_param_grid: Dict[str, Any] = {\n",
    "    'n_estimators': range(10, 210, 10),\n",
    "    'max_features': [None, 'sqrt'],\n",
    "    'max_depth': range(2, 30, 3),\n",
    "    'min_samples_split': [2, 5, 10],\n",
    "    'min_samples_leaf': [1, 3, 5],\n",
    "    'bootstrap': [True, False]\n",
    "}"
   ]
  },
  {
   "cell_type": "code",
   "execution_count": 8,
   "outputs": [],
   "source": [
    "# Instantiate model\n",
    "_rfs_model: GridSearchCV = GridSearchCV(\n",
    "    estimator=RandomForestRegressor(random_state=12345),\n",
    "    param_grid=_rfs_param_grid,\n",
    "    scoring='neg_root_mean_squared_error',\n",
    "    cv=ps,\n",
    "    n_jobs=6,\n",
    "    verbose=2,\n",
    "    refit=True\n",
    ")"
   ],
   "metadata": {
    "collapsed": false,
    "ExecuteTime": {
     "end_time": "2023-07-20T13:56:39.793380Z",
     "start_time": "2023-07-20T13:56:39.717676800Z"
    }
   }
  },
  {
   "cell_type": "code",
   "execution_count": null,
   "outputs": [
    {
     "name": "stdout",
     "output_type": "stream",
     "text": [
      "Fitting 1 folds for each of 7200 candidates, totalling 7200 fits\n"
     ]
    }
   ],
   "source": [
    "# Fit model\n",
    "_rfs_model.fit(\n",
    "    _x_train_all,  # Use all, because we extracted the validation indices previously for reproducibility\n",
    "    _y_train_all   # Use all, because we extracted the validation indices previously for reproducibility\n",
    ")"
   ],
   "metadata": {
    "collapsed": false,
    "is_executing": true,
    "ExecuteTime": {
     "start_time": "2023-07-20T13:56:39.794377500Z"
    }
   }
  },
  {
   "cell_type": "code",
   "execution_count": null,
   "outputs": [],
   "source": [
    "# Optimal Results\n",
    "print(f\"Optimal hyper-parameters : {_rfs_model.best_params_}\")\n",
    "print(f\"Optimal RMSE : {-_rfs_model.best_score_.round(3)}\")\n",
    "\n",
    "# Optimal Model\n",
    "_rfs_optimal_model: RandomForestRegressor = _rfs_model.best_estimator_\n",
    "\n",
    "display(_rfs_optimal_model)"
   ],
   "metadata": {
    "collapsed": false,
    "is_executing": true
   }
  },
  {
   "cell_type": "code",
   "execution_count": null,
   "metadata": {
    "colab": {
     "base_uri": "https://localhost:8080/",
     "height": 796
    },
    "id": "3W6BpRyiMdFD",
    "outputId": "2a2b690a-5a71-4f7a-cdcc-8b8a467fd8b6",
    "is_executing": true
   },
   "outputs": [],
   "source": [
    "# Analyze results\n",
    "_rf_predictions_df, _rf_metrics_df = analyze_model(\n",
    "    model=_rfs_optimal_model,\n",
    "    cv=ps,\n",
    "    title=\"Random Forests\",\n",
    "    x_train=_x_train,\n",
    "    y_train=_y_train,\n",
    "    x_validation=_x_validation,\n",
    "    y_validation=_y_validation,\n",
    "    x_bt=_x_bt,\n",
    "    y_bt=_y_bt,\n",
    "    x_train_all=_x_train_all,\n",
    "    y_train_all=_y_train_all,\n",
    "    x_all=_x,\n",
    "    y_all=_y,\n",
    "    column_names=np.array(list(_data_df.drop(columns=[\"TR\"]).columns))\n",
    ")"
   ]
  },
  {
   "cell_type": "code",
   "execution_count": null,
   "outputs": [],
   "source": [
    "display(_rf_predictions_df)\n",
    "display(_rf_metrics_df)"
   ],
   "metadata": {
    "collapsed": false,
    "is_executing": true
   }
  },
  {
   "attachments": {},
   "cell_type": "markdown",
   "metadata": {
    "id": "JpDAwnzhyOKV"
   },
   "source": [
    "##  Partial Least Squares\n",
    "---"
   ]
  },
  {
   "cell_type": "code",
   "execution_count": null,
   "metadata": {
    "colab": {
     "base_uri": "https://localhost:8080/",
     "height": 410
    },
    "id": "sCtQWsgAkvqt",
    "outputId": "d7cab141-a84d-44a0-da0c-d49fd80458f1",
    "is_executing": true
   },
   "outputs": [],
   "source": [
    "# Number of PLS components\n",
    "_n_latent_variables: ndarray = np.array(range(1, 14, 1))\n",
    "\n",
    "# Optimization of n(LVs)\n",
    "\n",
    "_rmsecvs: List[float] = []\n",
    "\n",
    "for _n_lvs in _n_latent_variables:\n",
    "\n",
    "    _pls_model = make_pipeline(StandardScaler(), PLSRegression(n_components=_n_lvs))\n",
    "\n",
    "    _cv = KFold(n_splits=10, shuffle=True, random_state=12345)\n",
    "\n",
    "    _score = cross_val_score(\n",
    "        _pls_model,\n",
    "        _x_train,\n",
    "        _y_train,\n",
    "        scoring='neg_root_mean_squared_error',\n",
    "        cv=_cv\n",
    "    )\n",
    "\n",
    "    _rmse = -_score.mean()\n",
    "    \n",
    "    _rmsecvs.append(_rmse)\n",
    "\n",
    "_rmsecvs: ndarray = np.array(_rmsecvs)\n",
    "\n",
    "Visualizer.latent_variable_plot(\n",
    "    rmsecvs=_rmsecvs,\n",
    "    latent_variables=_n_latent_variables,\n",
    "    optimal_n_lvs=6,  # For reproducibility\n",
    "    y_max=0.51  # For reproducibility\n",
    ")"
   ]
  },
  {
   "cell_type": "code",
   "execution_count": null,
   "metadata": {
    "colab": {
     "base_uri": "https://localhost:8080/",
     "height": 796
    },
    "id": "84A3k9xLyNyE",
    "outputId": "0fe66a20-37ff-496e-e229-cf2aa59fff46",
    "is_executing": true
   },
   "outputs": [],
   "source": [
    "# Train PLS Model\n",
    "_pls_optimal_model = make_pipeline(\n",
    "    StandardScaler(),\n",
    "    PLSRegression(n_components=6)\n",
    ")\n",
    "\n",
    "_pls_optimal_model.fit(\n",
    "    _x_train,\n",
    "    _y_train\n",
    ")\n",
    "\n",
    "display(_pls_optimal_model)"
   ]
  },
  {
   "cell_type": "code",
   "execution_count": null,
   "outputs": [],
   "source": [
    "# Analyze results\n",
    "_pls_predictions_df, _pls_metrics_df = analyze_model(\n",
    "    model=_pls_optimal_model,\n",
    "    cv=ps,\n",
    "    title=\"PLS\",\n",
    "    x_train=_x_train,\n",
    "    y_train=_y_train,\n",
    "    x_validation=_x_validation,\n",
    "    y_validation=_y_validation,\n",
    "    x_bt=_x_bt,\n",
    "    y_bt=_y_bt,\n",
    "    x_train_all=_x_train_all,\n",
    "    y_train_all=_y_train_all,\n",
    "    x_all=_x,\n",
    "    y_all=_y,\n",
    "    column_names=np.array(list(_data_df.drop(columns=[\"TR\"]).columns)),\n",
    "    b_plot_feature_importances=False\n",
    ")"
   ],
   "metadata": {
    "collapsed": false,
    "is_executing": true
   }
  },
  {
   "cell_type": "code",
   "execution_count": null,
   "metadata": {
    "colab": {
     "base_uri": "https://localhost:8080/",
     "height": 977
    },
    "id": "h-klcHq1jH9c",
    "outputId": "29670794-30e3-4cd7-f042-d9949a663666",
    "is_executing": true
   },
   "outputs": [],
   "source": [
    "# PLS Coefficient Plot\n",
    "Visualizer.coefficient_plot(\n",
    "    coefficients=_pls_optimal_model.named_steps[\"plsregression\"].coef_,\n",
    "    column_names=np.array(list(_data_df.drop(columns=[\"TR\"])))\n",
    ")"
   ]
  },
  {
   "cell_type": "code",
   "execution_count": null,
   "outputs": [],
   "source": [
    "display(_pls_predictions_df)\n",
    "display(_pls_metrics_df)"
   ],
   "metadata": {
    "collapsed": false,
    "is_executing": true
   }
  },
  {
   "attachments": {},
   "cell_type": "markdown",
   "metadata": {
    "id": "BNqRePQcXsmZ"
   },
   "source": [
    "## Gradient Boosting Regression\n",
    "---"
   ]
  },
  {
   "cell_type": "code",
   "execution_count": null,
   "metadata": {
    "colab": {
     "base_uri": "https://localhost:8080/"
    },
    "id": "ZRmRyRfAN3RF",
    "outputId": "2db2f895-6cd5-4420-d38b-3ff6df6762f4",
    "is_executing": true
   },
   "outputs": [],
   "source": [
    "# GB parameter grid\n",
    "_gb_param_grid = {\n",
    "    'n_estimators': np.arange(10, 210, 10),\n",
    "    'learning_rate':[.001, 0.01, .1],\n",
    "    'max_features': [None, 'sqrt'],\n",
    "    'max_depth': range(1, 6, 1),\n",
    "    'min_samples_split': [2, 5, 7],\n",
    "    'min_samples_leaf': [1, 3, 5],\n",
    "}"
   ]
  },
  {
   "cell_type": "code",
   "execution_count": null,
   "outputs": [],
   "source": [
    "# Instantiate GB model\n",
    "_gb_model = GridSearchCV(\n",
    "    estimator=GradientBoostingRegressor(random_state=12345),\n",
    "    param_grid=_gb_param_grid,\n",
    "    scoring='neg_root_mean_squared_error',\n",
    "    cv=ps,\n",
    "    n_jobs=6,\n",
    "    verbose=1\n",
    ")"
   ],
   "metadata": {
    "collapsed": false,
    "is_executing": true
   }
  },
  {
   "cell_type": "code",
   "execution_count": null,
   "outputs": [],
   "source": [
    "# Fit model\n",
    "_gb_model.fit(\n",
    "    _x_train_all,  # Use all, because we extracted the validation indices previously for reproducibility\n",
    "    _y_train_all.ravel()   # Use all, because we extracted the validation indices previously for reproducibility\n",
    ")"
   ],
   "metadata": {
    "collapsed": false,
    "is_executing": true
   }
  },
  {
   "cell_type": "code",
   "execution_count": null,
   "metadata": {
    "colab": {
     "base_uri": "https://localhost:8080/"
    },
    "id": "TZv_HUdYU4gV",
    "outputId": "097bab02-d141-4f41-a176-6727518f73aa",
    "is_executing": true
   },
   "outputs": [],
   "source": [
    "# Optimal Results\n",
    "print(f\"Optimal hyper-parameters : {_gb_model.best_params_}\")\n",
    "print(f\"Optimal RMSE : {-_gb_model.best_score_.round(3)}\")\n",
    "\n",
    "# Optimal Model\n",
    "_gb_optimal_model: GradientBoostingRegressor = _gb_model.best_estimator_\n",
    "\n",
    "display(_gb_optimal_model)"
   ]
  },
  {
   "cell_type": "code",
   "execution_count": null,
   "metadata": {
    "colab": {
     "base_uri": "https://localhost:8080/",
     "height": 796
    },
    "id": "h9_E_FB7ZMVZ",
    "outputId": "6102afb2-e877-4e3c-a615-f2ee5956a8a4",
    "is_executing": true
   },
   "outputs": [],
   "source": [
    "# Analyze results\n",
    "_gb_predictions_df, _gb_metrics_df = analyze_model(\n",
    "    model=_gb_optimal_model,\n",
    "    cv=ps,\n",
    "    title=\"Gradient Boosting\",\n",
    "    x_train=_x_train,\n",
    "    y_train=_y_train,\n",
    "    x_validation=_x_validation,\n",
    "    y_validation=_y_validation,\n",
    "    x_bt=_x_bt,\n",
    "    y_bt=_y_bt,\n",
    "    x_train_all=_x_train_all,\n",
    "    y_train_all=_y_train_all,\n",
    "    x_all=_x,\n",
    "    y_all=_y,\n",
    "    column_names=np.array(list(_data_df.drop(columns=[\"TR\"]).columns))\n",
    ")"
   ]
  },
  {
   "cell_type": "code",
   "execution_count": null,
   "outputs": [],
   "source": [
    "display(_gb_predictions_df)\n",
    "display(_gb_metrics_df)"
   ],
   "metadata": {
    "collapsed": false,
    "is_executing": true
   }
  },
  {
   "attachments": {},
   "cell_type": "markdown",
   "metadata": {
    "id": "vifR3xW_ZP_W"
   },
   "source": [
    "## Ridge Regression\n",
    "---"
   ]
  },
  {
   "cell_type": "code",
   "execution_count": null,
   "metadata": {
    "colab": {
     "base_uri": "https://localhost:8080/"
    },
    "id": "zNAo7Trj0omD",
    "outputId": "76fc33c3-d7dd-4040-a82d-0c0f7ca7d323",
    "is_executing": true
   },
   "outputs": [],
   "source": [
    "# Optimize the regularization parameter (alpha\n",
    "_ridge_model = make_pipeline(\n",
    "    StandardScaler(),\n",
    "    RidgeCV(\n",
    "        alphas=[0.01, 0.1, 1, 10, 50, 100, 200],\n",
    "        scoring= 'neg_root_mean_squared_error',\n",
    "        cv=ps\n",
    "    )\n",
    ")"
   ]
  },
  {
   "cell_type": "code",
   "execution_count": null,
   "outputs": [],
   "source": [
    "_ridge_model.fit(\n",
    "    _x_train_all,\n",
    "    _y_train_all\n",
    ")"
   ],
   "metadata": {
    "collapsed": false,
    "is_executing": true
   }
  },
  {
   "cell_type": "code",
   "execution_count": null,
   "outputs": [],
   "source": [
    "# Display Optimal Results\n",
    "print('Optimal alpha :',  _ridge_model.named_steps['ridgecv'].alpha_)\n",
    "print('Optimal RMSE : ',  -_ridge_model.named_steps['ridgecv'].best_score_)"
   ],
   "metadata": {
    "collapsed": false,
    "is_executing": true
   }
  },
  {
   "cell_type": "code",
   "execution_count": null,
   "metadata": {
    "colab": {
     "base_uri": "https://localhost:8080/",
     "height": 796
    },
    "id": "R16DZhVC0oVB",
    "outputId": "f9b1c285-e3fa-42c8-eece-09ee3799c812",
    "is_executing": true
   },
   "outputs": [],
   "source": [
    "# Analyze results\n",
    "_ridge_predictions_df, _ridge_metrics_df = analyze_model(\n",
    "    model=_ridge_model,\n",
    "    cv=ps,\n",
    "    title=\"Ridge Regression\",\n",
    "    x_train=_x_train,\n",
    "    y_train=_y_train,\n",
    "    x_validation=_x_validation,\n",
    "    y_validation=_y_validation,\n",
    "    x_bt=_x_bt,\n",
    "    y_bt=_y_bt,\n",
    "    x_train_all=_x_train_all,\n",
    "    y_train_all=_y_train_all,\n",
    "    x_all=_x,\n",
    "    y_all=_y,\n",
    "    column_names=np.array(list(_data_df.drop(columns=[\"TR\"]).columns))\n",
    ")"
   ]
  },
  {
   "cell_type": "code",
   "execution_count": null,
   "metadata": {
    "is_executing": true
   },
   "outputs": [],
   "source": [
    "# Ridge Coefficient Plot\n",
    "Visualizer.coefficient_plot(\n",
    "    coefficients=_pls_optimal_model.named_steps[\"ridge\"].coef_,\n",
    "    column_names=np.array(list(_data_df.drop(columns=[\"TR\"])))\n",
    ")"
   ]
  }
 ],
 "metadata": {
  "colab": {
   "collapsed_sections": [],
   "provenance": [],
   "toc_visible": true
  },
  "kernelspec": {
   "display_name": "Python 3.9.12 ('base')",
   "language": "python",
   "name": "python3"
  },
  "language_info": {
   "codemirror_mode": {
    "name": "ipython",
    "version": 3
   },
   "file_extension": ".py",
   "mimetype": "text/x-python",
   "name": "python",
   "nbconvert_exporter": "python",
   "pygments_lexer": "ipython3",
   "version": "3.10.11"
  },
  "vscode": {
   "interpreter": {
    "hash": "1003a366d2be130ea18141d3a0883ffc970bb735b1523c1f0e26084058f26b26"
   }
  }
 },
 "nbformat": 4,
 "nbformat_minor": 0
}
