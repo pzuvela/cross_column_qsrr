{
 "cells": [
  {
   "cell_type": "markdown",
   "metadata": {
    "jupyter": {
     "outputs_hidden": false
    }
   },
   "source": [
    "# Description\n",
    "---\n",
    "\n",
    "This notebook can be used to reproduce results form the paper:\n",
    "\"Cross-column DFT-based QSRR model development powered by Machine Learning\".\n",
    "\n",
    "Data (molecular descriptors, column characteristics, and experimental retention times) are loaded, split into training, validation and blind test. QSRR models are built using four ML methods (Ridge Regression, Partial Least Squares, Random Forests and Gradient Boosting). Hyperparameters of the ML QSRR models are optimized using a grid search."
   ]
  },
  {
   "cell_type": "markdown",
   "metadata": {
    "jupyter": {
     "outputs_hidden": false
    }
   },
   "source": [
    "# Requirements\n",
    "---\n",
    "\n",
    "1. jupyter\n",
    "2. notebook\n",
    "3. numpy\n",
    "4. pandas\n",
    "5. matplotlib\n",
    "6. seaborn\n",
    "7. scikit-learn\n",
    "8. shap"
   ]
  },
  {
   "cell_type": "markdown",
   "metadata": {
    "jupyter": {
     "outputs_hidden": false
    }
   },
   "source": [
    "# Imports\n",
    "---"
   ]
  },
  {
   "cell_type": "code",
   "execution_count": 1,
   "metadata": {
    "ExecuteTime": {
     "end_time": "2023-07-20T14:16:32.480084300Z",
     "start_time": "2023-07-20T14:16:31.173513Z"
    },
    "jupyter": {
     "outputs_hidden": false
    }
   },
   "outputs": [
    {
     "name": "stdout",
     "output_type": "stream",
     "text": [
      "Collecting numpy==1.22\n",
      "  Using cached numpy-1.22.0-cp39-cp39-macosx_10_9_x86_64.whl (17.7 MB)\n",
      "Requirement already satisfied: pandas in /Library/Frameworks/Python.framework/Versions/3.9/lib/python3.9/site-packages (2.0.3)\n",
      "Requirement already satisfied: matplotlib in /Library/Frameworks/Python.framework/Versions/3.9/lib/python3.9/site-packages (3.7.2)\n",
      "Requirement already satisfied: seaborn in /Library/Frameworks/Python.framework/Versions/3.9/lib/python3.9/site-packages (0.12.2)\n",
      "Requirement already satisfied: scikit-learn in /Library/Frameworks/Python.framework/Versions/3.9/lib/python3.9/site-packages (1.3.0)\n",
      "Requirement already satisfied: shap in /Library/Frameworks/Python.framework/Versions/3.9/lib/python3.9/site-packages (0.42.1)\n",
      "Requirement already satisfied: tzdata>=2022.1 in /Library/Frameworks/Python.framework/Versions/3.9/lib/python3.9/site-packages (from pandas) (2023.3)\n",
      "Requirement already satisfied: pytz>=2020.1 in /Library/Frameworks/Python.framework/Versions/3.9/lib/python3.9/site-packages (from pandas) (2023.3)\n",
      "Requirement already satisfied: python-dateutil>=2.8.2 in /Library/Frameworks/Python.framework/Versions/3.9/lib/python3.9/site-packages (from pandas) (2.8.2)\n",
      "Requirement already satisfied: packaging>=20.0 in /Library/Frameworks/Python.framework/Versions/3.9/lib/python3.9/site-packages (from matplotlib) (23.1)\n",
      "Requirement already satisfied: fonttools>=4.22.0 in /Library/Frameworks/Python.framework/Versions/3.9/lib/python3.9/site-packages (from matplotlib) (4.41.0)\n",
      "Requirement already satisfied: pillow>=6.2.0 in /Library/Frameworks/Python.framework/Versions/3.9/lib/python3.9/site-packages (from matplotlib) (10.0.0)\n",
      "Requirement already satisfied: kiwisolver>=1.0.1 in /Library/Frameworks/Python.framework/Versions/3.9/lib/python3.9/site-packages (from matplotlib) (1.4.4)\n",
      "Requirement already satisfied: pyparsing<3.1,>=2.3.1 in /Library/Frameworks/Python.framework/Versions/3.9/lib/python3.9/site-packages (from matplotlib) (3.0.9)\n",
      "Requirement already satisfied: importlib-resources>=3.2.0 in /Library/Frameworks/Python.framework/Versions/3.9/lib/python3.9/site-packages (from matplotlib) (6.0.0)\n",
      "Requirement already satisfied: cycler>=0.10 in /Library/Frameworks/Python.framework/Versions/3.9/lib/python3.9/site-packages (from matplotlib) (0.11.0)\n",
      "Requirement already satisfied: contourpy>=1.0.1 in /Library/Frameworks/Python.framework/Versions/3.9/lib/python3.9/site-packages (from matplotlib) (1.1.0)\n",
      "Requirement already satisfied: threadpoolctl>=2.0.0 in /Library/Frameworks/Python.framework/Versions/3.9/lib/python3.9/site-packages (from scikit-learn) (3.2.0)\n",
      "Requirement already satisfied: scipy>=1.5.0 in /Library/Frameworks/Python.framework/Versions/3.9/lib/python3.9/site-packages (from scikit-learn) (1.11.1)\n",
      "Requirement already satisfied: joblib>=1.1.1 in /Library/Frameworks/Python.framework/Versions/3.9/lib/python3.9/site-packages (from scikit-learn) (1.3.1)\n",
      "Requirement already satisfied: tqdm>=4.27.0 in /Library/Frameworks/Python.framework/Versions/3.9/lib/python3.9/site-packages (from shap) (4.65.0)\n",
      "Requirement already satisfied: numba in /Library/Frameworks/Python.framework/Versions/3.9/lib/python3.9/site-packages (from shap) (0.57.1)\n",
      "Requirement already satisfied: cloudpickle in /Library/Frameworks/Python.framework/Versions/3.9/lib/python3.9/site-packages (from shap) (2.2.1)\n",
      "Requirement already satisfied: slicer==0.0.7 in /Library/Frameworks/Python.framework/Versions/3.9/lib/python3.9/site-packages (from shap) (0.0.7)\n",
      "Requirement already satisfied: zipp>=3.1.0 in /Library/Frameworks/Python.framework/Versions/3.9/lib/python3.9/site-packages (from importlib-resources>=3.2.0->matplotlib) (3.16.2)\n",
      "Requirement already satisfied: six>=1.5 in /Library/Frameworks/Python.framework/Versions/3.9/lib/python3.9/site-packages (from python-dateutil>=2.8.2->pandas) (1.16.0)\n",
      "Requirement already satisfied: llvmlite<0.41,>=0.40.0dev0 in /Library/Frameworks/Python.framework/Versions/3.9/lib/python3.9/site-packages (from numba->shap) (0.40.1)\n",
      "Installing collected packages: numpy\n",
      "  Attempting uninstall: numpy\n",
      "    Found existing installation: numpy 1.24.4\n",
      "    Uninstalling numpy-1.24.4:\n",
      "      Successfully uninstalled numpy-1.24.4\n",
      "Successfully installed numpy-1.22.0\n",
      "\u001b[33mWARNING: You are using pip version 21.2.4; however, version 23.3.1 is available.\n",
      "You should consider upgrading via the '/usr/local/bin/python3.9 -m pip install --upgrade pip' command.\u001b[0m\n",
      "Note: you may need to restart the kernel to use updated packages.\n"
     ]
    }
   ],
   "source": [
    "# Install requirements\n",
    "%pip install numpy==1.22 pandas matplotlib seaborn scikit-learn shap"
   ]
  },
  {
   "cell_type": "code",
   "execution_count": null,
   "metadata": {
    "ExecuteTime": {
     "end_time": "2023-07-20T14:16:32.556275Z",
     "start_time": "2023-07-20T14:16:32.484102100Z"
    },
    "colab": {
     "base_uri": "https://localhost:8080/"
    },
    "id": "BzdTSd3_BXBN",
    "outputId": "9fcc95a6-ec85-4c16-f814-a2a4cd553f7b"
   },
   "outputs": [],
   "source": [
    "%load_ext autoreload\n",
    "%autoreload 2\n",
    "\n",
    "import os\n",
    "import sys\n",
    "from copy import deepcopy\n",
    "from typing import (\n",
    "    Any,\n",
    "    Dict,\n",
    "    List\n",
    ")\n",
    "\n",
    "import numpy as np\n",
    "from numpy import ndarray\n",
    "\n",
    "import pandas as pd\n",
    "from pandas import DataFrame\n",
    "\n",
    "import seaborn as sns\n",
    "import matplotlib.pyplot as plt\n",
    "\n",
    "from sklearn.ensemble import RandomForestRegressor\n",
    "from sklearn.cross_decomposition import PLSRegression\n",
    "from sklearn.ensemble import GradientBoostingRegressor\n",
    "from sklearn.linear_model import RidgeCV\n",
    "from sklearn.pipeline import make_pipeline\n",
    "from sklearn.model_selection import (\n",
    "    cross_val_score,\n",
    "    KFold,\n",
    "    GridSearchCV\n",
    ")\n",
    "from sklearn.preprocessing import StandardScaler\n",
    "from sklearn.model_selection import train_test_split"
   ]
  },
  {
   "cell_type": "code",
   "execution_count": 5,
   "metadata": {},
   "outputs": [],
   "source": [
    "# Place the package on the path\n",
    "\n",
    "QSRR_PATH: str = os.path.join(os.path.dirname(os.getcwd()))\n",
    "\n",
    "if QSRR_PATH not in sys.path:\n",
    "    sys.path.insert(0, QSRR_PATH)"
   ]
  },
  {
   "cell_type": "code",
   "execution_count": 6,
   "metadata": {},
   "outputs": [
    {
     "name": "stderr",
     "output_type": "stream",
     "text": [
      "Using `tqdm.autonotebook.tqdm` in notebook mode. Use `tqdm.tqdm` instead to force console mode (e.g. in jupyter console)\n"
     ]
    }
   ],
   "source": [
    "from qsrr.analysis import analyze_model\n",
    "from qsrr.config import (\n",
    "    plot_settings,\n",
    "    project1_split_indices\n",
    ")\n",
    "from qsrr.visuals import Visualizer\n",
    "\n",
    "plt.rcParams.update(plot_settings)\n",
    "\n",
    "sns.set()"
   ]
  },
  {
   "cell_type": "markdown",
   "metadata": {
    "jupyter": {
     "outputs_hidden": false
    }
   },
   "source": [
    "# Data Loading & Processing\n",
    "---"
   ]
  },
  {
   "cell_type": "code",
   "execution_count": 13,
   "metadata": {
    "ExecuteTime": {
     "end_time": "2023-07-20T14:16:32.634725800Z",
     "start_time": "2023-07-20T14:16:32.557314800Z"
    },
    "colab": {
     "base_uri": "https://localhost:8080/",
     "height": 623
    },
    "id": "mzz61DajwibY",
    "outputId": "e2e15d64-77b3-4c83-eb63-52cdb97a7780"
   },
   "outputs": [
    {
     "data": {
      "text/html": [
       "<div>\n",
       "<style scoped>\n",
       "    .dataframe tbody tr th:only-of-type {\n",
       "        vertical-align: middle;\n",
       "    }\n",
       "\n",
       "    .dataframe tbody tr th {\n",
       "        vertical-align: top;\n",
       "    }\n",
       "\n",
       "    .dataframe thead th {\n",
       "        text-align: right;\n",
       "    }\n",
       "</style>\n",
       "<table border=\"1\" class=\"dataframe\">\n",
       "  <thead>\n",
       "    <tr style=\"text-align: right;\">\n",
       "      <th></th>\n",
       "      <th>MaxEStateIndex</th>\n",
       "      <th>MinEStateIndex</th>\n",
       "      <th>MaxAbsEStateIndex</th>\n",
       "      <th>MinAbsEStateIndex</th>\n",
       "      <th>qed</th>\n",
       "      <th>MolWt</th>\n",
       "      <th>HeavyAtomMolWt</th>\n",
       "      <th>ExactMolWt</th>\n",
       "      <th>NumValenceElectrons</th>\n",
       "      <th>NumRadicalElectrons</th>\n",
       "      <th>...</th>\n",
       "      <th>NumHDonors</th>\n",
       "      <th>NumHeteroatoms</th>\n",
       "      <th>NumRotatableBonds</th>\n",
       "      <th>NumSaturatedCarbocycles</th>\n",
       "      <th>NumSaturatedHeterocycles</th>\n",
       "      <th>NumSaturatedRings</th>\n",
       "      <th>RingCount</th>\n",
       "      <th>MolLogP</th>\n",
       "      <th>MolMR</th>\n",
       "      <th>rt</th>\n",
       "    </tr>\n",
       "  </thead>\n",
       "  <tbody>\n",
       "    <tr>\n",
       "      <th>0</th>\n",
       "      <td>12.990628</td>\n",
       "      <td>-0.335181</td>\n",
       "      <td>12.990628</td>\n",
       "      <td>0.035905</td>\n",
       "      <td>0.760602</td>\n",
       "      <td>414.333</td>\n",
       "      <td>389.133</td>\n",
       "      <td>413.127297</td>\n",
       "      <td>148</td>\n",
       "      <td>0</td>\n",
       "      <td>...</td>\n",
       "      <td>0</td>\n",
       "      <td>8</td>\n",
       "      <td>4</td>\n",
       "      <td>0</td>\n",
       "      <td>2</td>\n",
       "      <td>2</td>\n",
       "      <td>3</td>\n",
       "      <td>2.9109</td>\n",
       "      <td>105.3190</td>\n",
       "      <td>687.8</td>\n",
       "    </tr>\n",
       "    <tr>\n",
       "      <th>1</th>\n",
       "      <td>12.609649</td>\n",
       "      <td>-3.521975</td>\n",
       "      <td>12.609649</td>\n",
       "      <td>0.030555</td>\n",
       "      <td>0.702317</td>\n",
       "      <td>369.487</td>\n",
       "      <td>342.271</td>\n",
       "      <td>369.172227</td>\n",
       "      <td>140</td>\n",
       "      <td>0</td>\n",
       "      <td>...</td>\n",
       "      <td>2</td>\n",
       "      <td>8</td>\n",
       "      <td>7</td>\n",
       "      <td>0</td>\n",
       "      <td>1</td>\n",
       "      <td>1</td>\n",
       "      <td>2</td>\n",
       "      <td>1.2851</td>\n",
       "      <td>97.7354</td>\n",
       "      <td>590.7</td>\n",
       "    </tr>\n",
       "    <tr>\n",
       "      <th>2</th>\n",
       "      <td>11.164259</td>\n",
       "      <td>-0.177407</td>\n",
       "      <td>11.164259</td>\n",
       "      <td>0.137593</td>\n",
       "      <td>0.610213</td>\n",
       "      <td>161.160</td>\n",
       "      <td>154.104</td>\n",
       "      <td>161.047678</td>\n",
       "      <td>60</td>\n",
       "      <td>0</td>\n",
       "      <td>...</td>\n",
       "      <td>2</td>\n",
       "      <td>3</td>\n",
       "      <td>0</td>\n",
       "      <td>0</td>\n",
       "      <td>0</td>\n",
       "      <td>0</td>\n",
       "      <td>2</td>\n",
       "      <td>1.2337</td>\n",
       "      <td>46.2335</td>\n",
       "      <td>583.6</td>\n",
       "    </tr>\n",
       "    <tr>\n",
       "      <th>3</th>\n",
       "      <td>11.161791</td>\n",
       "      <td>-0.252097</td>\n",
       "      <td>11.161791</td>\n",
       "      <td>0.221895</td>\n",
       "      <td>0.900805</td>\n",
       "      <td>260.337</td>\n",
       "      <td>240.177</td>\n",
       "      <td>260.152478</td>\n",
       "      <td>102</td>\n",
       "      <td>0</td>\n",
       "      <td>...</td>\n",
       "      <td>1</td>\n",
       "      <td>4</td>\n",
       "      <td>3</td>\n",
       "      <td>0</td>\n",
       "      <td>2</td>\n",
       "      <td>2</td>\n",
       "      <td>3</td>\n",
       "      <td>1.8035</td>\n",
       "      <td>73.0347</td>\n",
       "      <td>579.0</td>\n",
       "    </tr>\n",
       "    <tr>\n",
       "      <th>4</th>\n",
       "      <td>11.266054</td>\n",
       "      <td>-0.615607</td>\n",
       "      <td>11.266054</td>\n",
       "      <td>0.048741</td>\n",
       "      <td>0.656633</td>\n",
       "      <td>279.340</td>\n",
       "      <td>258.172</td>\n",
       "      <td>279.158292</td>\n",
       "      <td>110</td>\n",
       "      <td>0</td>\n",
       "      <td>...</td>\n",
       "      <td>4</td>\n",
       "      <td>6</td>\n",
       "      <td>5</td>\n",
       "      <td>0</td>\n",
       "      <td>0</td>\n",
       "      <td>0</td>\n",
       "      <td>2</td>\n",
       "      <td>0.9840</td>\n",
       "      <td>78.1769</td>\n",
       "      <td>603.1</td>\n",
       "    </tr>\n",
       "  </tbody>\n",
       "</table>\n",
       "<p>5 rows × 124 columns</p>\n",
       "</div>"
      ],
      "text/plain": [
       "   MaxEStateIndex  MinEStateIndex  MaxAbsEStateIndex  MinAbsEStateIndex  \\\n",
       "0       12.990628       -0.335181          12.990628           0.035905   \n",
       "1       12.609649       -3.521975          12.609649           0.030555   \n",
       "2       11.164259       -0.177407          11.164259           0.137593   \n",
       "3       11.161791       -0.252097          11.161791           0.221895   \n",
       "4       11.266054       -0.615607          11.266054           0.048741   \n",
       "\n",
       "        qed    MolWt  HeavyAtomMolWt  ExactMolWt  NumValenceElectrons  \\\n",
       "0  0.760602  414.333         389.133  413.127297                  148   \n",
       "1  0.702317  369.487         342.271  369.172227                  140   \n",
       "2  0.610213  161.160         154.104  161.047678                   60   \n",
       "3  0.900805  260.337         240.177  260.152478                  102   \n",
       "4  0.656633  279.340         258.172  279.158292                  110   \n",
       "\n",
       "   NumRadicalElectrons  ...  NumHDonors  NumHeteroatoms  NumRotatableBonds  \\\n",
       "0                    0  ...           0               8                  4   \n",
       "1                    0  ...           2               8                  7   \n",
       "2                    0  ...           2               3                  0   \n",
       "3                    0  ...           1               4                  3   \n",
       "4                    0  ...           4               6                  5   \n",
       "\n",
       "   NumSaturatedCarbocycles  NumSaturatedHeterocycles  NumSaturatedRings  \\\n",
       "0                        0                         2                  2   \n",
       "1                        0                         1                  1   \n",
       "2                        0                         0                  0   \n",
       "3                        0                         2                  2   \n",
       "4                        0                         0                  0   \n",
       "\n",
       "   RingCount  MolLogP     MolMR     rt  \n",
       "0          3   2.9109  105.3190  687.8  \n",
       "1          2   1.2851   97.7354  590.7  \n",
       "2          2   1.2337   46.2335  583.6  \n",
       "3          3   1.8035   73.0347  579.0  \n",
       "4          2   0.9840   78.1769  603.1  \n",
       "\n",
       "[5 rows x 124 columns]"
      ]
     },
     "metadata": {},
     "output_type": "display_data"
    }
   ],
   "source": [
    "# Load Data\n",
    "_data_df: DataFrame = pd.read_csv(\n",
    "    '../data/2023-09-25-qsrr_metlin_dataset.csv'\n",
    ")\n",
    "\n",
    "# Drop columns= 'name' and '#', 'ID', \"Length\"\n",
    "_data_df.drop(\n",
    "    columns=['#','name', 'ID', \"Length\"],\n",
    "    errors=\"ignore\",\n",
    "    inplace=True\n",
    ")\n",
    "\n",
    "# Display Data\n",
    "display(_data_df.head())"
   ]
  },
  {
   "cell_type": "markdown",
   "metadata": {
    "jupyter": {
     "outputs_hidden": false
    }
   },
   "source": [
    "# Data Analysis\n",
    "---"
   ]
  },
  {
   "cell_type": "markdown",
   "metadata": {
    "id": "FGm-0_W9hSBZ"
   },
   "source": [
    "# Train/Test Split"
   ]
  },
  {
   "cell_type": "code",
   "execution_count": null,
   "metadata": {
    "ExecuteTime": {
     "end_time": "2023-07-20T14:16:33.532486500Z",
     "start_time": "2023-07-20T14:16:33.457768800Z"
    },
    "colab": {
     "base_uri": "https://localhost:8080/"
    },
    "id": "V35UYvzN3AHR",
    "outputId": "790ab96d-4631-4c42-d07b-f4cee32def86"
   },
   "outputs": [],
   "source": [
    "# X- and y- data\n",
    "_x: ndarray = _data_df.iloc[:,:-1].values  # Variables -> x1 to x15\n",
    "_y: ndarray = _data_df.iloc[:,-1].values   # Target: -> tR : retention tiime\n",
    "\n",
    "# Split initial data into training & blind test sets\n",
    "_x_train_all, _x_bt, _y_train_all, _y_bt = train_test_split(\n",
    "    _x,\n",
    "    _y,\n",
    "    test_size=0.3\n",
    "    ,shuffle=True,\n",
    "    random_state=12345  # For reproducibility\n",
    ")\n",
    "\n",
    "# Split the training data further into training and validation\n",
    "_x_train, _x_validation, _y_train, _y_validation = train_test_split(\n",
    "    _x_train_all,\n",
    "    _y_train_all,\n",
    "    test_size=0.3,\n",
    "    random_state=12345   # For reproducibility\n",
    ")\n",
    "\n",
    "# Summary\n",
    "print('X-train:', _x_train.shape)\n",
    "print('y-train:', _y_train.shape)\n",
    "print('- - '*10)\n",
    "print('X-validation:', _x_validation.shape)\n",
    "print('y-validation:', _y_validation.shape)\n",
    "print('- - '*10)\n",
    "print('X-BT:', _x_bt.shape)\n",
    "print('y-BT:', _y_bt.shape)\n",
    "print('- - '*10)"
   ]
  },
  {
   "cell_type": "markdown",
   "metadata": {
    "id": "HHFwmW8AYCnt"
   },
   "source": [
    "# Hyper-Parameter Optimization, QSRR model building & analysis\n",
    "---"
   ]
  },
  {
   "cell_type": "markdown",
   "metadata": {
    "jupyter": {
     "outputs_hidden": false
    }
   },
   "source": [
    "## Random Forests\n",
    "---"
   ]
  },
  {
   "cell_type": "code",
   "execution_count": 8,
   "metadata": {
    "ExecuteTime": {
     "end_time": "2023-07-20T14:16:33.610542600Z",
     "start_time": "2023-07-20T14:16:33.532486500Z"
    }
   },
   "outputs": [],
   "source": [
    "# RFs parameter grid\n",
    "_rfs_param_grid: Dict[str, Any] = {\n",
    "    'n_estimators': range(10, 210, 10),\n",
    "    'max_features': [None, 'sqrt'],\n",
    "    'max_depth': range(2, 30, 3),\n",
    "    'min_samples_split': [2, 5, 10],\n",
    "    'min_samples_leaf': [1, 3, 5],\n",
    "    'bootstrap': [True, False]\n",
    "}"
   ]
  },
  {
   "cell_type": "code",
   "execution_count": 15,
   "metadata": {
    "ExecuteTime": {
     "end_time": "2023-07-20T14:16:33.689040200Z",
     "start_time": "2023-07-20T14:16:33.611540Z"
    },
    "jupyter": {
     "outputs_hidden": false
    }
   },
   "outputs": [],
   "source": [
    "# Instantiate model\n",
    "_rfs_model: GridSearchCV = GridSearchCV(\n",
    "    estimator=RandomForestRegressor(random_state=12345),\n",
    "    param_grid=_rfs_param_grid,\n",
    "    scoring='neg_root_mean_squared_error',\n",
    "    cv=KFold(3),\n",
    "    n_jobs=20,\n",
    "    verbose=10,\n",
    "    refit=True\n",
    ")"
   ]
  },
  {
   "cell_type": "code",
   "execution_count": 17,
   "metadata": {
    "ExecuteTime": {
     "end_time": "2023-07-20T14:17:34.354075300Z",
     "start_time": "2023-07-20T14:16:33.689040200Z"
    },
    "jupyter": {
     "outputs_hidden": false
    },
    "scrolled": true
   },
   "outputs": [
    {
     "name": "stdout",
     "output_type": "stream",
     "text": [
      "Fitting 3 folds for each of 7200 candidates, totalling 21600 fits\n"
     ]
    },
    {
     "ename": "KeyboardInterrupt",
     "evalue": "",
     "output_type": "error",
     "traceback": [
      "\u001b[0;31m---------------------------------------------------------------------------\u001b[0m",
      "\u001b[0;31mKeyboardInterrupt\u001b[0m                         Traceback (most recent call last)",
      "Cell \u001b[0;32mIn[17], line 2\u001b[0m\n\u001b[1;32m      1\u001b[0m \u001b[38;5;66;03m# Fit model\u001b[39;00m\n\u001b[0;32m----> 2\u001b[0m \u001b[43m_rfs_model\u001b[49m\u001b[38;5;241;43m.\u001b[39;49m\u001b[43mfit\u001b[49m\u001b[43m(\u001b[49m\n\u001b[1;32m      3\u001b[0m \u001b[43m    \u001b[49m\u001b[43mdeepcopy\u001b[49m\u001b[43m(\u001b[49m\u001b[43m_x_train\u001b[49m\u001b[43m)\u001b[49m\u001b[43m,\u001b[49m\n\u001b[1;32m      4\u001b[0m \u001b[43m    \u001b[49m\u001b[43mdeepcopy\u001b[49m\u001b[43m(\u001b[49m\u001b[43m_y_train\u001b[49m\u001b[43m)\u001b[49m\n\u001b[1;32m      5\u001b[0m \u001b[43m)\u001b[49m\n",
      "File \u001b[0;32m/Library/Frameworks/Python.framework/Versions/3.9/lib/python3.9/site-packages/sklearn/base.py:1151\u001b[0m, in \u001b[0;36m_fit_context.<locals>.decorator.<locals>.wrapper\u001b[0;34m(estimator, *args, **kwargs)\u001b[0m\n\u001b[1;32m   1144\u001b[0m     estimator\u001b[38;5;241m.\u001b[39m_validate_params()\n\u001b[1;32m   1146\u001b[0m \u001b[38;5;28;01mwith\u001b[39;00m config_context(\n\u001b[1;32m   1147\u001b[0m     skip_parameter_validation\u001b[38;5;241m=\u001b[39m(\n\u001b[1;32m   1148\u001b[0m         prefer_skip_nested_validation \u001b[38;5;129;01mor\u001b[39;00m global_skip_validation\n\u001b[1;32m   1149\u001b[0m     )\n\u001b[1;32m   1150\u001b[0m ):\n\u001b[0;32m-> 1151\u001b[0m     \u001b[38;5;28;01mreturn\u001b[39;00m \u001b[43mfit_method\u001b[49m\u001b[43m(\u001b[49m\u001b[43mestimator\u001b[49m\u001b[43m,\u001b[49m\u001b[43m \u001b[49m\u001b[38;5;241;43m*\u001b[39;49m\u001b[43margs\u001b[49m\u001b[43m,\u001b[49m\u001b[43m \u001b[49m\u001b[38;5;241;43m*\u001b[39;49m\u001b[38;5;241;43m*\u001b[39;49m\u001b[43mkwargs\u001b[49m\u001b[43m)\u001b[49m\n",
      "File \u001b[0;32m/Library/Frameworks/Python.framework/Versions/3.9/lib/python3.9/site-packages/sklearn/model_selection/_search.py:898\u001b[0m, in \u001b[0;36mBaseSearchCV.fit\u001b[0;34m(self, X, y, groups, **fit_params)\u001b[0m\n\u001b[1;32m    892\u001b[0m     results \u001b[38;5;241m=\u001b[39m \u001b[38;5;28mself\u001b[39m\u001b[38;5;241m.\u001b[39m_format_results(\n\u001b[1;32m    893\u001b[0m         all_candidate_params, n_splits, all_out, all_more_results\n\u001b[1;32m    894\u001b[0m     )\n\u001b[1;32m    896\u001b[0m     \u001b[38;5;28;01mreturn\u001b[39;00m results\n\u001b[0;32m--> 898\u001b[0m \u001b[38;5;28;43mself\u001b[39;49m\u001b[38;5;241;43m.\u001b[39;49m\u001b[43m_run_search\u001b[49m\u001b[43m(\u001b[49m\u001b[43mevaluate_candidates\u001b[49m\u001b[43m)\u001b[49m\n\u001b[1;32m    900\u001b[0m \u001b[38;5;66;03m# multimetric is determined here because in the case of a callable\u001b[39;00m\n\u001b[1;32m    901\u001b[0m \u001b[38;5;66;03m# self.scoring the return type is only known after calling\u001b[39;00m\n\u001b[1;32m    902\u001b[0m first_test_score \u001b[38;5;241m=\u001b[39m all_out[\u001b[38;5;241m0\u001b[39m][\u001b[38;5;124m\"\u001b[39m\u001b[38;5;124mtest_scores\u001b[39m\u001b[38;5;124m\"\u001b[39m]\n",
      "File \u001b[0;32m/Library/Frameworks/Python.framework/Versions/3.9/lib/python3.9/site-packages/sklearn/model_selection/_search.py:1419\u001b[0m, in \u001b[0;36mGridSearchCV._run_search\u001b[0;34m(self, evaluate_candidates)\u001b[0m\n\u001b[1;32m   1417\u001b[0m \u001b[38;5;28;01mdef\u001b[39;00m \u001b[38;5;21m_run_search\u001b[39m(\u001b[38;5;28mself\u001b[39m, evaluate_candidates):\n\u001b[1;32m   1418\u001b[0m \u001b[38;5;250m    \u001b[39m\u001b[38;5;124;03m\"\"\"Search all candidates in param_grid\"\"\"\u001b[39;00m\n\u001b[0;32m-> 1419\u001b[0m     \u001b[43mevaluate_candidates\u001b[49m\u001b[43m(\u001b[49m\u001b[43mParameterGrid\u001b[49m\u001b[43m(\u001b[49m\u001b[38;5;28;43mself\u001b[39;49m\u001b[38;5;241;43m.\u001b[39;49m\u001b[43mparam_grid\u001b[49m\u001b[43m)\u001b[49m\u001b[43m)\u001b[49m\n",
      "File \u001b[0;32m/Library/Frameworks/Python.framework/Versions/3.9/lib/python3.9/site-packages/sklearn/model_selection/_search.py:845\u001b[0m, in \u001b[0;36mBaseSearchCV.fit.<locals>.evaluate_candidates\u001b[0;34m(candidate_params, cv, more_results)\u001b[0m\n\u001b[1;32m    837\u001b[0m \u001b[38;5;28;01mif\u001b[39;00m \u001b[38;5;28mself\u001b[39m\u001b[38;5;241m.\u001b[39mverbose \u001b[38;5;241m>\u001b[39m \u001b[38;5;241m0\u001b[39m:\n\u001b[1;32m    838\u001b[0m     \u001b[38;5;28mprint\u001b[39m(\n\u001b[1;32m    839\u001b[0m         \u001b[38;5;124m\"\u001b[39m\u001b[38;5;124mFitting \u001b[39m\u001b[38;5;132;01m{0}\u001b[39;00m\u001b[38;5;124m folds for each of \u001b[39m\u001b[38;5;132;01m{1}\u001b[39;00m\u001b[38;5;124m candidates,\u001b[39m\u001b[38;5;124m\"\u001b[39m\n\u001b[1;32m    840\u001b[0m         \u001b[38;5;124m\"\u001b[39m\u001b[38;5;124m totalling \u001b[39m\u001b[38;5;132;01m{2}\u001b[39;00m\u001b[38;5;124m fits\u001b[39m\u001b[38;5;124m\"\u001b[39m\u001b[38;5;241m.\u001b[39mformat(\n\u001b[1;32m    841\u001b[0m             n_splits, n_candidates, n_candidates \u001b[38;5;241m*\u001b[39m n_splits\n\u001b[1;32m    842\u001b[0m         )\n\u001b[1;32m    843\u001b[0m     )\n\u001b[0;32m--> 845\u001b[0m out \u001b[38;5;241m=\u001b[39m \u001b[43mparallel\u001b[49m\u001b[43m(\u001b[49m\n\u001b[1;32m    846\u001b[0m \u001b[43m    \u001b[49m\u001b[43mdelayed\u001b[49m\u001b[43m(\u001b[49m\u001b[43m_fit_and_score\u001b[49m\u001b[43m)\u001b[49m\u001b[43m(\u001b[49m\n\u001b[1;32m    847\u001b[0m \u001b[43m        \u001b[49m\u001b[43mclone\u001b[49m\u001b[43m(\u001b[49m\u001b[43mbase_estimator\u001b[49m\u001b[43m)\u001b[49m\u001b[43m,\u001b[49m\n\u001b[1;32m    848\u001b[0m \u001b[43m        \u001b[49m\u001b[43mX\u001b[49m\u001b[43m,\u001b[49m\n\u001b[1;32m    849\u001b[0m \u001b[43m        \u001b[49m\u001b[43my\u001b[49m\u001b[43m,\u001b[49m\n\u001b[1;32m    850\u001b[0m \u001b[43m        \u001b[49m\u001b[43mtrain\u001b[49m\u001b[38;5;241;43m=\u001b[39;49m\u001b[43mtrain\u001b[49m\u001b[43m,\u001b[49m\n\u001b[1;32m    851\u001b[0m \u001b[43m        \u001b[49m\u001b[43mtest\u001b[49m\u001b[38;5;241;43m=\u001b[39;49m\u001b[43mtest\u001b[49m\u001b[43m,\u001b[49m\n\u001b[1;32m    852\u001b[0m \u001b[43m        \u001b[49m\u001b[43mparameters\u001b[49m\u001b[38;5;241;43m=\u001b[39;49m\u001b[43mparameters\u001b[49m\u001b[43m,\u001b[49m\n\u001b[1;32m    853\u001b[0m \u001b[43m        \u001b[49m\u001b[43msplit_progress\u001b[49m\u001b[38;5;241;43m=\u001b[39;49m\u001b[43m(\u001b[49m\u001b[43msplit_idx\u001b[49m\u001b[43m,\u001b[49m\u001b[43m \u001b[49m\u001b[43mn_splits\u001b[49m\u001b[43m)\u001b[49m\u001b[43m,\u001b[49m\n\u001b[1;32m    854\u001b[0m \u001b[43m        \u001b[49m\u001b[43mcandidate_progress\u001b[49m\u001b[38;5;241;43m=\u001b[39;49m\u001b[43m(\u001b[49m\u001b[43mcand_idx\u001b[49m\u001b[43m,\u001b[49m\u001b[43m \u001b[49m\u001b[43mn_candidates\u001b[49m\u001b[43m)\u001b[49m\u001b[43m,\u001b[49m\n\u001b[1;32m    855\u001b[0m \u001b[43m        \u001b[49m\u001b[38;5;241;43m*\u001b[39;49m\u001b[38;5;241;43m*\u001b[39;49m\u001b[43mfit_and_score_kwargs\u001b[49m\u001b[43m,\u001b[49m\n\u001b[1;32m    856\u001b[0m \u001b[43m    \u001b[49m\u001b[43m)\u001b[49m\n\u001b[1;32m    857\u001b[0m \u001b[43m    \u001b[49m\u001b[38;5;28;43;01mfor\u001b[39;49;00m\u001b[43m \u001b[49m\u001b[43m(\u001b[49m\u001b[43mcand_idx\u001b[49m\u001b[43m,\u001b[49m\u001b[43m \u001b[49m\u001b[43mparameters\u001b[49m\u001b[43m)\u001b[49m\u001b[43m,\u001b[49m\u001b[43m \u001b[49m\u001b[43m(\u001b[49m\u001b[43msplit_idx\u001b[49m\u001b[43m,\u001b[49m\u001b[43m \u001b[49m\u001b[43m(\u001b[49m\u001b[43mtrain\u001b[49m\u001b[43m,\u001b[49m\u001b[43m \u001b[49m\u001b[43mtest\u001b[49m\u001b[43m)\u001b[49m\u001b[43m)\u001b[49m\u001b[43m \u001b[49m\u001b[38;5;129;43;01min\u001b[39;49;00m\u001b[43m \u001b[49m\u001b[43mproduct\u001b[49m\u001b[43m(\u001b[49m\n\u001b[1;32m    858\u001b[0m \u001b[43m        \u001b[49m\u001b[38;5;28;43menumerate\u001b[39;49m\u001b[43m(\u001b[49m\u001b[43mcandidate_params\u001b[49m\u001b[43m)\u001b[49m\u001b[43m,\u001b[49m\u001b[43m \u001b[49m\u001b[38;5;28;43menumerate\u001b[39;49m\u001b[43m(\u001b[49m\u001b[43mcv\u001b[49m\u001b[38;5;241;43m.\u001b[39;49m\u001b[43msplit\u001b[49m\u001b[43m(\u001b[49m\u001b[43mX\u001b[49m\u001b[43m,\u001b[49m\u001b[43m \u001b[49m\u001b[43my\u001b[49m\u001b[43m,\u001b[49m\u001b[43m \u001b[49m\u001b[43mgroups\u001b[49m\u001b[43m)\u001b[49m\u001b[43m)\u001b[49m\n\u001b[1;32m    859\u001b[0m \u001b[43m    \u001b[49m\u001b[43m)\u001b[49m\n\u001b[1;32m    860\u001b[0m \u001b[43m\u001b[49m\u001b[43m)\u001b[49m\n\u001b[1;32m    862\u001b[0m \u001b[38;5;28;01mif\u001b[39;00m \u001b[38;5;28mlen\u001b[39m(out) \u001b[38;5;241m<\u001b[39m \u001b[38;5;241m1\u001b[39m:\n\u001b[1;32m    863\u001b[0m     \u001b[38;5;28;01mraise\u001b[39;00m \u001b[38;5;167;01mValueError\u001b[39;00m(\n\u001b[1;32m    864\u001b[0m         \u001b[38;5;124m\"\u001b[39m\u001b[38;5;124mNo fits were performed. \u001b[39m\u001b[38;5;124m\"\u001b[39m\n\u001b[1;32m    865\u001b[0m         \u001b[38;5;124m\"\u001b[39m\u001b[38;5;124mWas the CV iterator empty? \u001b[39m\u001b[38;5;124m\"\u001b[39m\n\u001b[1;32m    866\u001b[0m         \u001b[38;5;124m\"\u001b[39m\u001b[38;5;124mWere there no candidates?\u001b[39m\u001b[38;5;124m\"\u001b[39m\n\u001b[1;32m    867\u001b[0m     )\n",
      "File \u001b[0;32m/Library/Frameworks/Python.framework/Versions/3.9/lib/python3.9/site-packages/sklearn/utils/parallel.py:65\u001b[0m, in \u001b[0;36mParallel.__call__\u001b[0;34m(self, iterable)\u001b[0m\n\u001b[1;32m     60\u001b[0m config \u001b[38;5;241m=\u001b[39m get_config()\n\u001b[1;32m     61\u001b[0m iterable_with_config \u001b[38;5;241m=\u001b[39m (\n\u001b[1;32m     62\u001b[0m     (_with_config(delayed_func, config), args, kwargs)\n\u001b[1;32m     63\u001b[0m     \u001b[38;5;28;01mfor\u001b[39;00m delayed_func, args, kwargs \u001b[38;5;129;01min\u001b[39;00m iterable\n\u001b[1;32m     64\u001b[0m )\n\u001b[0;32m---> 65\u001b[0m \u001b[38;5;28;01mreturn\u001b[39;00m \u001b[38;5;28;43msuper\u001b[39;49m\u001b[43m(\u001b[49m\u001b[43m)\u001b[49m\u001b[38;5;241;43m.\u001b[39;49m\u001b[38;5;21;43m__call__\u001b[39;49m\u001b[43m(\u001b[49m\u001b[43miterable_with_config\u001b[49m\u001b[43m)\u001b[49m\n",
      "File \u001b[0;32m/Library/Frameworks/Python.framework/Versions/3.9/lib/python3.9/site-packages/joblib/parallel.py:1944\u001b[0m, in \u001b[0;36mParallel.__call__\u001b[0;34m(self, iterable)\u001b[0m\n\u001b[1;32m   1938\u001b[0m \u001b[38;5;66;03m# The first item from the output is blank, but it makes the interpreter\u001b[39;00m\n\u001b[1;32m   1939\u001b[0m \u001b[38;5;66;03m# progress until it enters the Try/Except block of the generator and\u001b[39;00m\n\u001b[1;32m   1940\u001b[0m \u001b[38;5;66;03m# reach the first `yield` statement. This starts the aynchronous\u001b[39;00m\n\u001b[1;32m   1941\u001b[0m \u001b[38;5;66;03m# dispatch of the tasks to the workers.\u001b[39;00m\n\u001b[1;32m   1942\u001b[0m \u001b[38;5;28mnext\u001b[39m(output)\n\u001b[0;32m-> 1944\u001b[0m \u001b[38;5;28;01mreturn\u001b[39;00m output \u001b[38;5;28;01mif\u001b[39;00m \u001b[38;5;28mself\u001b[39m\u001b[38;5;241m.\u001b[39mreturn_generator \u001b[38;5;28;01melse\u001b[39;00m \u001b[38;5;28;43mlist\u001b[39;49m\u001b[43m(\u001b[49m\u001b[43moutput\u001b[49m\u001b[43m)\u001b[49m\n",
      "File \u001b[0;32m/Library/Frameworks/Python.framework/Versions/3.9/lib/python3.9/site-packages/joblib/parallel.py:1587\u001b[0m, in \u001b[0;36mParallel._get_outputs\u001b[0;34m(self, iterator, pre_dispatch)\u001b[0m\n\u001b[1;32m   1584\u001b[0m     \u001b[38;5;28;01myield\u001b[39;00m\n\u001b[1;32m   1586\u001b[0m     \u001b[38;5;28;01mwith\u001b[39;00m \u001b[38;5;28mself\u001b[39m\u001b[38;5;241m.\u001b[39m_backend\u001b[38;5;241m.\u001b[39mretrieval_context():\n\u001b[0;32m-> 1587\u001b[0m         \u001b[38;5;28;01myield from\u001b[39;00m \u001b[38;5;28mself\u001b[39m\u001b[38;5;241m.\u001b[39m_retrieve()\n\u001b[1;32m   1589\u001b[0m \u001b[38;5;28;01mexcept\u001b[39;00m \u001b[38;5;167;01mGeneratorExit\u001b[39;00m:\n\u001b[1;32m   1590\u001b[0m     \u001b[38;5;66;03m# The generator has been garbage collected before being fully\u001b[39;00m\n\u001b[1;32m   1591\u001b[0m     \u001b[38;5;66;03m# consumed. This aborts the remaining tasks if possible and warn\u001b[39;00m\n\u001b[1;32m   1592\u001b[0m     \u001b[38;5;66;03m# the user if necessary.\u001b[39;00m\n\u001b[1;32m   1593\u001b[0m     \u001b[38;5;28mself\u001b[39m\u001b[38;5;241m.\u001b[39m_exception \u001b[38;5;241m=\u001b[39m \u001b[38;5;28;01mTrue\u001b[39;00m\n",
      "File \u001b[0;32m/Library/Frameworks/Python.framework/Versions/3.9/lib/python3.9/site-packages/joblib/parallel.py:1699\u001b[0m, in \u001b[0;36mParallel._retrieve\u001b[0;34m(self)\u001b[0m\n\u001b[1;32m   1694\u001b[0m \u001b[38;5;66;03m# If the next job is not ready for retrieval yet, we just wait for\u001b[39;00m\n\u001b[1;32m   1695\u001b[0m \u001b[38;5;66;03m# async callbacks to progress.\u001b[39;00m\n\u001b[1;32m   1696\u001b[0m \u001b[38;5;28;01mif\u001b[39;00m ((\u001b[38;5;28mlen\u001b[39m(\u001b[38;5;28mself\u001b[39m\u001b[38;5;241m.\u001b[39m_jobs) \u001b[38;5;241m==\u001b[39m \u001b[38;5;241m0\u001b[39m) \u001b[38;5;129;01mor\u001b[39;00m\n\u001b[1;32m   1697\u001b[0m     (\u001b[38;5;28mself\u001b[39m\u001b[38;5;241m.\u001b[39m_jobs[\u001b[38;5;241m0\u001b[39m]\u001b[38;5;241m.\u001b[39mget_status(\n\u001b[1;32m   1698\u001b[0m         timeout\u001b[38;5;241m=\u001b[39m\u001b[38;5;28mself\u001b[39m\u001b[38;5;241m.\u001b[39mtimeout) \u001b[38;5;241m==\u001b[39m TASK_PENDING)):\n\u001b[0;32m-> 1699\u001b[0m     \u001b[43mtime\u001b[49m\u001b[38;5;241;43m.\u001b[39;49m\u001b[43msleep\u001b[49m\u001b[43m(\u001b[49m\u001b[38;5;241;43m0.01\u001b[39;49m\u001b[43m)\u001b[49m\n\u001b[1;32m   1700\u001b[0m     \u001b[38;5;28;01mcontinue\u001b[39;00m\n\u001b[1;32m   1702\u001b[0m \u001b[38;5;66;03m# We need to be careful: the job list can be filling up as\u001b[39;00m\n\u001b[1;32m   1703\u001b[0m \u001b[38;5;66;03m# we empty it and Python list are not thread-safe by\u001b[39;00m\n\u001b[1;32m   1704\u001b[0m \u001b[38;5;66;03m# default hence the use of the lock\u001b[39;00m\n",
      "\u001b[0;31mKeyboardInterrupt\u001b[0m: "
     ]
    }
   ],
   "source": [
    "# Fit model\n",
    "_rfs_model.fit(\n",
    "    deepcopy(_x_train),\n",
    "    deepcopy(_y_train)\n",
    ")"
   ]
  },
  {
   "cell_type": "code",
   "execution_count": null,
   "metadata": {
    "ExecuteTime": {
     "end_time": "2023-07-20T14:17:34.432569500Z",
     "start_time": "2023-07-20T14:17:34.355071800Z"
    },
    "jupyter": {
     "outputs_hidden": false
    }
   },
   "outputs": [],
   "source": [
    "# Optimal Results\n",
    "print(f\"Optimal hyper-parameters : {_rfs_model.best_params_}\")\n",
    "print(f\"Optimal RMSE : {-_rfs_model.best_score_.round(3)}\")\n",
    "\n",
    "# Optimal Model\n",
    "_rfs_optimal_model: RandomForestRegressor = _rfs_model.best_estimator_\n",
    "\n",
    "display(_rfs_optimal_model)"
   ]
  },
  {
   "cell_type": "code",
   "execution_count": null,
   "metadata": {
    "ExecuteTime": {
     "end_time": "2023-07-20T14:17:42.022586500Z",
     "start_time": "2023-07-20T14:17:34.434563600Z"
    },
    "colab": {
     "base_uri": "https://localhost:8080/",
     "height": 796
    },
    "id": "3W6BpRyiMdFD",
    "outputId": "2a2b690a-5a71-4f7a-cdcc-8b8a467fd8b6",
    "scrolled": true
   },
   "outputs": [],
   "source": [
    "# Analyze results\n",
    "_rf_predictions_df, _rf_metrics_df = analyze_model(\n",
    "    model=_rfs_optimal_model,\n",
    "    cv=ps,\n",
    "    title=\"Random Forests\",\n",
    "    x_train=deepcopy(_x_train),\n",
    "    y_train=deepcopy(_y_train.ravel()),\n",
    "    x_validation=deepcopy(_x_validation),\n",
    "    y_validation=deepcopy(_y_validation.ravel()),\n",
    "    x_bt=deepcopy(_x_bt),\n",
    "    y_bt=deepcopy(_y_bt.ravel()),\n",
    "    x_train_all=deepcopy(_x_train_all),\n",
    "    y_train_all=deepcopy(_y_train_all.ravel()),\n",
    "    x_all=deepcopy(_x),\n",
    "    y_all=deepcopy(_y.ravel()),\n",
    "    column_names=np.array(list(_data_df.drop(columns=[\"rt\"]).columns))\n",
    ")"
   ]
  },
  {
   "cell_type": "code",
   "execution_count": null,
   "metadata": {
    "ExecuteTime": {
     "end_time": "2023-07-20T14:17:42.118167500Z",
     "start_time": "2023-07-20T14:17:42.016585600Z"
    },
    "jupyter": {
     "outputs_hidden": false
    }
   },
   "outputs": [],
   "source": [
    "display(_rf_predictions_df.head())\n",
    "display(_rf_metrics_df.head())"
   ]
  },
  {
   "cell_type": "markdown",
   "metadata": {
    "id": "JpDAwnzhyOKV"
   },
   "source": [
    "##  Partial Least Squares\n",
    "---"
   ]
  },
  {
   "cell_type": "code",
   "execution_count": null,
   "metadata": {
    "ExecuteTime": {
     "end_time": "2023-07-20T14:17:42.659958700Z",
     "start_time": "2023-07-20T14:17:42.118167500Z"
    },
    "colab": {
     "base_uri": "https://localhost:8080/",
     "height": 410
    },
    "id": "sCtQWsgAkvqt",
    "outputId": "d7cab141-a84d-44a0-da0c-d49fd80458f1"
   },
   "outputs": [],
   "source": [
    "# Number of PLS components\n",
    "_n_latent_variables: ndarray = np.array(range(1, 14, 1))\n",
    "\n",
    "# Optimization of n(LVs)\n",
    "\n",
    "_rmsecvs: List[float] = []\n",
    "\n",
    "for _n_lvs in _n_latent_variables:\n",
    "\n",
    "    _pls_model = make_pipeline(StandardScaler(), PLSRegression(n_components=_n_lvs))\n",
    "\n",
    "    _cv = KFold(n_splits=10, shuffle=True, random_state=12345)\n",
    "\n",
    "    _score = cross_val_score(\n",
    "        _pls_model,\n",
    "        deepcopy(_x_train),\n",
    "        deepcopy(_y_train),\n",
    "        scoring='neg_root_mean_squared_error',\n",
    "        cv=_cv\n",
    "    )\n",
    "\n",
    "    _rmse = -_score.mean()\n",
    "    \n",
    "    _rmsecvs.append(_rmse)\n",
    "\n",
    "_rmsecvs: ndarray = np.array(_rmsecvs)\n",
    "\n",
    "Visualizer.latent_variable_plot(\n",
    "    rmsecvs=_rmsecvs,\n",
    "    latent_variables=_n_latent_variables,\n",
    "    optimal_n_lvs=6,  # For reproducibility\n",
    "    y_max=0.51  # For reproducibility\n",
    ")"
   ]
  },
  {
   "cell_type": "code",
   "execution_count": null,
   "metadata": {
    "ExecuteTime": {
     "end_time": "2023-07-20T14:17:42.754783600Z",
     "start_time": "2023-07-20T14:17:42.662934100Z"
    },
    "colab": {
     "base_uri": "https://localhost:8080/",
     "height": 796
    },
    "id": "84A3k9xLyNyE",
    "outputId": "0fe66a20-37ff-496e-e229-cf2aa59fff46"
   },
   "outputs": [],
   "source": [
    "# Train PLS Model\n",
    "_pls_optimal_model = make_pipeline(\n",
    "    StandardScaler(),\n",
    "    PLSRegression(n_components=6)\n",
    ")\n",
    "\n",
    "_pls_optimal_model.fit(\n",
    "    deepcopy(_x_train),\n",
    "    deepcopy(_y_train)\n",
    ")\n",
    "\n",
    "display(_pls_optimal_model)"
   ]
  },
  {
   "cell_type": "code",
   "execution_count": null,
   "metadata": {
    "ExecuteTime": {
     "end_time": "2023-07-20T14:17:42.908518400Z",
     "start_time": "2023-07-20T14:17:42.756289500Z"
    },
    "jupyter": {
     "outputs_hidden": false
    }
   },
   "outputs": [],
   "source": [
    "# Analyze results\n",
    "_pls_predictions_df, _pls_metrics_df = analyze_model(\n",
    "    model=_pls_optimal_model,\n",
    "    cv=ps,\n",
    "    title=\"PLS\",\n",
    "    x_train=deepcopy(_x_train),\n",
    "    y_train=deepcopy(_y_train.ravel()),\n",
    "    x_validation=deepcopy(_x_validation),\n",
    "    y_validation=deepcopy(_y_validation.ravel()),\n",
    "    x_bt=deepcopy(_x_bt),\n",
    "    y_bt=deepcopy(_y_bt.ravel()),\n",
    "    x_train_all=deepcopy(_x_train_all),\n",
    "    y_train_all=deepcopy(_y_train_all.ravel()),\n",
    "    x_all=deepcopy(_x),\n",
    "    y_all=deepcopy(_y.ravel()),\n",
    "    column_names=np.array(list(_data_df.drop(columns=[\"rt\"]).columns)),\n",
    "    b_plot_feature_importances=False\n",
    ")"
   ]
  },
  {
   "cell_type": "code",
   "execution_count": null,
   "metadata": {
    "colab": {
     "base_uri": "https://localhost:8080/",
     "height": 977
    },
    "id": "h-klcHq1jH9c",
    "outputId": "29670794-30e3-4cd7-f042-d9949a663666"
   },
   "outputs": [],
   "source": [
    "# PLS Coefficient Plot\n",
    "Visualizer.coefficient_plot(\n",
    "    coefficients=_pls_optimal_model.named_steps[\"plsregression\"].coef_,\n",
    "    column_names=np.array(list(_data_df.drop(columns=[\"rt\"])))\n",
    ")"
   ]
  },
  {
   "cell_type": "code",
   "execution_count": null,
   "metadata": {
    "jupyter": {
     "outputs_hidden": false
    }
   },
   "outputs": [],
   "source": [
    "display(_pls_predictions_df.head())\n",
    "display(_pls_metrics_df)"
   ]
  },
  {
   "cell_type": "markdown",
   "metadata": {
    "id": "BNqRePQcXsmZ"
   },
   "source": [
    "## Gradient Boosting Regression\n",
    "---"
   ]
  },
  {
   "cell_type": "code",
   "execution_count": null,
   "metadata": {
    "colab": {
     "base_uri": "https://localhost:8080/"
    },
    "id": "ZRmRyRfAN3RF",
    "outputId": "2db2f895-6cd5-4420-d38b-3ff6df6762f4"
   },
   "outputs": [],
   "source": [
    "# GB parameter grid\n",
    "_gb_param_grid = {\n",
    "    'n_estimators': np.arange(10, 210, 10),\n",
    "    'learning_rate':[.001, 0.01, .1],\n",
    "    'max_features': [None, 'sqrt'],\n",
    "    'max_depth': range(1, 6, 1),\n",
    "    'min_samples_split': [2, 5, 7],\n",
    "    'min_samples_leaf': [1, 3, 5],\n",
    "}"
   ]
  },
  {
   "cell_type": "code",
   "execution_count": null,
   "metadata": {
    "jupyter": {
     "outputs_hidden": false
    }
   },
   "outputs": [],
   "source": [
    "# Instantiate GB model\n",
    "_gb_model = GridSearchCV(\n",
    "    estimator=GradientBoostingRegressor(random_state=12345),\n",
    "    param_grid=_gb_param_grid,\n",
    "    scoring='neg_root_mean_squared_error',\n",
    "    cv=ps,\n",
    "    n_jobs=6,\n",
    "    verbose=1\n",
    ")"
   ]
  },
  {
   "cell_type": "code",
   "execution_count": null,
   "metadata": {
    "jupyter": {
     "outputs_hidden": false
    }
   },
   "outputs": [],
   "source": [
    "# Fit model\n",
    "_gb_model.fit(\n",
    "    deepcopy(_x_train_all),  # Use all, because we extracted the validation indices previously for reproducibility\n",
    "    deepcopy(_y_train_all.ravel())   # Use all, because we extracted the validation indices previously for reproducibility\n",
    ")"
   ]
  },
  {
   "cell_type": "code",
   "execution_count": null,
   "metadata": {
    "colab": {
     "base_uri": "https://localhost:8080/"
    },
    "id": "TZv_HUdYU4gV",
    "outputId": "097bab02-d141-4f41-a176-6727518f73aa"
   },
   "outputs": [],
   "source": [
    "# Optimal Results\n",
    "print(f\"Optimal hyper-parameters : {_gb_model.best_params_}\")\n",
    "print(f\"Optimal RMSE : {-_gb_model.best_score_.round(3)}\")\n",
    "\n",
    "# Optimal Model\n",
    "_gb_optimal_model: GradientBoostingRegressor = _gb_model.best_estimator_\n",
    "\n",
    "display(_gb_optimal_model)"
   ]
  },
  {
   "cell_type": "code",
   "execution_count": null,
   "metadata": {
    "colab": {
     "base_uri": "https://localhost:8080/",
     "height": 796
    },
    "id": "h9_E_FB7ZMVZ",
    "outputId": "6102afb2-e877-4e3c-a615-f2ee5956a8a4"
   },
   "outputs": [],
   "source": [
    "# Analyze results\n",
    "_gb_predictions_df, _gb_metrics_df = analyze_model(\n",
    "    model=_gb_optimal_model,\n",
    "    cv=ps,\n",
    "    title=\"Gradient Boosting\",\n",
    "    x_train=deepcopy(_x_train),\n",
    "    y_train=deepcopy(_y_train.ravel()),\n",
    "    x_validation=deepcopy(_x_validation),\n",
    "    y_validation=deepcopy(_y_validation.ravel()),\n",
    "    x_bt=deepcopy(_x_bt),\n",
    "    y_bt=deepcopy(_y_bt.ravel()),\n",
    "    x_train_all=deepcopy(_x_train_all),\n",
    "    y_train_all=deepcopy(_y_train_all.ravel()),\n",
    "    x_all=deepcopy(_x),\n",
    "    y_all=deepcopy(_y.ravel()),\n",
    "    column_names=np.array(list(_data_df.drop(columns=[\"rt\"]).columns)),\n",
    "    b_plot_y_randomization=True\n",
    ")"
   ]
  },
  {
   "cell_type": "code",
   "execution_count": null,
   "metadata": {
    "jupyter": {
     "outputs_hidden": false
    }
   },
   "outputs": [],
   "source": [
    "display(_gb_predictions_df.head())\n",
    "display(_gb_metrics_df.head())"
   ]
  },
  {
   "cell_type": "markdown",
   "metadata": {
    "id": "vifR3xW_ZP_W"
   },
   "source": [
    "## Ridge Regression\n",
    "---"
   ]
  },
  {
   "cell_type": "code",
   "execution_count": null,
   "metadata": {
    "colab": {
     "base_uri": "https://localhost:8080/"
    },
    "id": "zNAo7Trj0omD",
    "outputId": "76fc33c3-d7dd-4040-a82d-0c0f7ca7d323"
   },
   "outputs": [],
   "source": [
    "# Optimize the regularization parameter (alpha)\n",
    "_ridge_model = make_pipeline(\n",
    "    StandardScaler(),\n",
    "    RidgeCV(\n",
    "        alphas=[0.01, 0.1, 1, 10, 50, 100, 200],\n",
    "        scoring= 'neg_root_mean_squared_error',\n",
    "        cv=ps\n",
    "    )\n",
    ")"
   ]
  },
  {
   "cell_type": "code",
   "execution_count": null,
   "metadata": {
    "jupyter": {
     "outputs_hidden": false
    }
   },
   "outputs": [],
   "source": [
    "_ridge_model.fit(\n",
    "    X=deepcopy(_x_train_all),\n",
    "    y=deepcopy(_y_train_all.ravel())\n",
    ")"
   ]
  },
  {
   "cell_type": "code",
   "execution_count": null,
   "metadata": {
    "jupyter": {
     "outputs_hidden": false
    }
   },
   "outputs": [],
   "source": [
    "# Display Optimal Results\n",
    "print('Optimal alpha :',  _ridge_model.named_steps['ridgecv'].alpha_)\n",
    "print('Optimal RMSE : ',  -_ridge_model.named_steps['ridgecv'].best_score_)"
   ]
  },
  {
   "cell_type": "code",
   "execution_count": null,
   "metadata": {
    "colab": {
     "base_uri": "https://localhost:8080/",
     "height": 796
    },
    "id": "R16DZhVC0oVB",
    "outputId": "f9b1c285-e3fa-42c8-eece-09ee3799c812"
   },
   "outputs": [],
   "source": [
    "# Analyze results\n",
    "_ridge_predictions_df, _ridge_metrics_df = analyze_model(\n",
    "    model=_ridge_model,\n",
    "    cv=ps,\n",
    "    title=\"Ridge Regression\",\n",
    "    x_train=deepcopy(_x_train),\n",
    "    y_train=deepcopy(_y_train.ravel()),\n",
    "    x_validation=deepcopy(_x_validation),\n",
    "    y_validation=deepcopy(_y_validation.ravel()),\n",
    "    x_bt=deepcopy(_x_bt),\n",
    "    y_bt=deepcopy(_y_bt.ravel()),\n",
    "    x_train_all=deepcopy(_x_train_all),\n",
    "    y_train_all=deepcopy(_y_train_all.ravel()),\n",
    "    x_all=deepcopy(_x),\n",
    "    y_all=deepcopy(_y.ravel()),\n",
    "    column_names=np.array(list(_data_df.drop(columns=[\"TR\"]).columns)),\n",
    "    b_plot_feature_importances=False\n",
    ")"
   ]
  },
  {
   "cell_type": "code",
   "execution_count": null,
   "metadata": {},
   "outputs": [],
   "source": [
    "# Ridge Coefficient Plot\n",
    "Visualizer.coefficient_plot(\n",
    "    coefficients=_ridge_model.named_steps[\"ridgecv\"].coef_,\n",
    "    column_names=np.array(list(_data_df.drop(columns=[\"rt\"])))\n",
    ")"
   ]
  },
  {
   "cell_type": "code",
   "execution_count": null,
   "metadata": {
    "jupyter": {
     "outputs_hidden": false
    }
   },
   "outputs": [],
   "source": [
    "display(_ridge_predictions_df.head())\n",
    "display(_ridge_metrics_df.head())"
   ]
  },
  {
   "cell_type": "code",
   "execution_count": null,
   "metadata": {},
   "outputs": [],
   "source": []
  }
 ],
 "metadata": {
  "colab": {
   "collapsed_sections": [],
   "provenance": [],
   "toc_visible": true
  },
  "kernelspec": {
   "display_name": "Python 3 (ipykernel)",
   "language": "python",
   "name": "python3"
  },
  "language_info": {
   "codemirror_mode": {
    "name": "ipython",
    "version": 3
   },
   "file_extension": ".py",
   "mimetype": "text/x-python",
   "name": "python",
   "nbconvert_exporter": "python",
   "pygments_lexer": "ipython3",
   "version": "3.9.10"
  },
  "vscode": {
   "interpreter": {
    "hash": "1003a366d2be130ea18141d3a0883ffc970bb735b1523c1f0e26084058f26b26"
   }
  }
 },
 "nbformat": 4,
 "nbformat_minor": 4
}
