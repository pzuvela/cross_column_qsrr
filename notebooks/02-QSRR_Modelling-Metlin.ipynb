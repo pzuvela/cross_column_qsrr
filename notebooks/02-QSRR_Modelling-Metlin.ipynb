{
 "cells": [
  {
   "cell_type": "markdown",
   "metadata": {
    "collapsed": false,
    "jupyter": {
     "outputs_hidden": false
    }
   },
   "source": [
    "# Description\n",
    "---\n",
    "\n",
    "This notebook can be used to reproduce results form the paper:\n",
    "\"Cross-column DFT-based QSRR model development powered by Machine Learning\".\n",
    "\n",
    "Data (molecular descriptors, column characteristics, and experimental retention times) are loaded, split into training, validation and blind test. QSRR models are built using four ML methods (Ridge Regression, Partial Least Squares, Random Forests and Gradient Boosting). Hyperparameters of the ML QSRR models are optimized using a grid search."
   ]
  },
  {
   "cell_type": "markdown",
   "metadata": {
    "collapsed": false,
    "jupyter": {
     "outputs_hidden": false
    }
   },
   "source": [
    "# Requirements\n",
    "---\n",
    "\n",
    "1. jupyter\n",
    "2. notebook\n",
    "3. numpy\n",
    "4. pandas\n",
    "5. matplotlib\n",
    "6. seaborn\n",
    "7. scikit-learn\n",
    "8. shap"
   ]
  },
  {
   "cell_type": "markdown",
   "metadata": {
    "collapsed": false,
    "jupyter": {
     "outputs_hidden": false
    }
   },
   "source": [
    "# Imports\n",
    "---"
   ]
  },
  {
   "cell_type": "code",
   "execution_count": 1,
   "metadata": {
    "ExecuteTime": {
     "end_time": "2023-07-20T14:16:32.480084300Z",
     "start_time": "2023-07-20T14:16:31.173513Z"
    },
    "collapsed": false,
    "jupyter": {
     "outputs_hidden": false
    }
   },
   "outputs": [
    {
     "name": "stdout",
     "output_type": "stream",
     "text": [
      "Collecting numpy==1.22\n",
      "  Downloading numpy-1.22.0-cp310-cp310-win_amd64.whl (14.7 MB)\n",
      "     --------------------------------------- 14.7/14.7 MB 10.6 MB/s eta 0:00:00\n",
      "Requirement already satisfied: pandas in c:\\users\\user4\\pycharmprojects\\cross_column_qsrr\\venv\\lib\\site-packages (2.0.3)\n",
      "Requirement already satisfied: matplotlib in c:\\users\\user4\\pycharmprojects\\cross_column_qsrr\\venv\\lib\\site-packages (3.7.2)\n",
      "Requirement already satisfied: seaborn in c:\\users\\user4\\pycharmprojects\\cross_column_qsrr\\venv\\lib\\site-packages (0.12.2)\n",
      "Requirement already satisfied: scikit-learn in c:\\users\\user4\\pycharmprojects\\cross_column_qsrr\\venv\\lib\\site-packages (1.3.0)\n",
      "Requirement already satisfied: shap in c:\\users\\user4\\pycharmprojects\\cross_column_qsrr\\venv\\lib\\site-packages (0.42.1)\n",
      "Requirement already satisfied: python-dateutil>=2.8.2 in c:\\users\\user4\\pycharmprojects\\cross_column_qsrr\\venv\\lib\\site-packages (from pandas) (2.8.2)\n",
      "Requirement already satisfied: pytz>=2020.1 in c:\\users\\user4\\pycharmprojects\\cross_column_qsrr\\venv\\lib\\site-packages (from pandas) (2023.3)\n",
      "Requirement already satisfied: tzdata>=2022.1 in c:\\users\\user4\\pycharmprojects\\cross_column_qsrr\\venv\\lib\\site-packages (from pandas) (2023.3)\n",
      "Requirement already satisfied: contourpy>=1.0.1 in c:\\users\\user4\\pycharmprojects\\cross_column_qsrr\\venv\\lib\\site-packages (from matplotlib) (1.1.0)\n",
      "Requirement already satisfied: pillow>=6.2.0 in c:\\users\\user4\\pycharmprojects\\cross_column_qsrr\\venv\\lib\\site-packages (from matplotlib) (10.0.0)\n",
      "Requirement already satisfied: pyparsing<3.1,>=2.3.1 in c:\\users\\user4\\pycharmprojects\\cross_column_qsrr\\venv\\lib\\site-packages (from matplotlib) (3.0.9)\n",
      "Requirement already satisfied: fonttools>=4.22.0 in c:\\users\\user4\\pycharmprojects\\cross_column_qsrr\\venv\\lib\\site-packages (from matplotlib) (4.41.0)\n",
      "Requirement already satisfied: kiwisolver>=1.0.1 in c:\\users\\user4\\pycharmprojects\\cross_column_qsrr\\venv\\lib\\site-packages (from matplotlib) (1.4.4)\n",
      "Requirement already satisfied: packaging>=20.0 in c:\\users\\user4\\pycharmprojects\\cross_column_qsrr\\venv\\lib\\site-packages (from matplotlib) (23.1)\n",
      "Requirement already satisfied: cycler>=0.10 in c:\\users\\user4\\pycharmprojects\\cross_column_qsrr\\venv\\lib\\site-packages (from matplotlib) (0.11.0)\n",
      "Requirement already satisfied: threadpoolctl>=2.0.0 in c:\\users\\user4\\pycharmprojects\\cross_column_qsrr\\venv\\lib\\site-packages (from scikit-learn) (3.2.0)\n",
      "Requirement already satisfied: joblib>=1.1.1 in c:\\users\\user4\\pycharmprojects\\cross_column_qsrr\\venv\\lib\\site-packages (from scikit-learn) (1.3.1)\n",
      "Requirement already satisfied: scipy>=1.5.0 in c:\\users\\user4\\pycharmprojects\\cross_column_qsrr\\venv\\lib\\site-packages (from scikit-learn) (1.11.1)\n",
      "Requirement already satisfied: slicer==0.0.7 in c:\\users\\user4\\pycharmprojects\\cross_column_qsrr\\venv\\lib\\site-packages (from shap) (0.0.7)\n",
      "Requirement already satisfied: cloudpickle in c:\\users\\user4\\pycharmprojects\\cross_column_qsrr\\venv\\lib\\site-packages (from shap) (2.2.1)\n",
      "Requirement already satisfied: tqdm>=4.27.0 in c:\\users\\user4\\pycharmprojects\\cross_column_qsrr\\venv\\lib\\site-packages (from shap) (4.65.0)\n",
      "Requirement already satisfied: numba in c:\\users\\user4\\pycharmprojects\\cross_column_qsrr\\venv\\lib\\site-packages (from shap) (0.57.1)\n",
      "Requirement already satisfied: six>=1.5 in c:\\users\\user4\\pycharmprojects\\cross_column_qsrr\\venv\\lib\\site-packages (from python-dateutil>=2.8.2->pandas) (1.16.0)\n",
      "Requirement already satisfied: colorama in c:\\users\\user4\\pycharmprojects\\cross_column_qsrr\\venv\\lib\\site-packages (from tqdm>=4.27.0->shap) (0.4.6)\n",
      "Requirement already satisfied: llvmlite<0.41,>=0.40.0dev0 in c:\\users\\user4\\pycharmprojects\\cross_column_qsrr\\venv\\lib\\site-packages (from numba->shap) (0.40.1)\n",
      "Installing collected packages: numpy\n",
      "  Attempting uninstall: numpy\n",
      "    Found existing installation: numpy 1.24.4\n",
      "    Uninstalling numpy-1.24.4:\n",
      "      Successfully uninstalled numpy-1.24.4\n",
      "Note: you may need to restart the kernel to use updated packages.\n"
     ]
    },
    {
     "name": "stderr",
     "output_type": "stream",
     "text": [
      "ERROR: Could not install packages due to an OSError: [WinError 5] Access is denied: 'C:\\\\Users\\\\user4\\\\PycharmProjects\\\\cross_column_qsrr\\\\venv\\\\Lib\\\\site-packages\\\\~umpy\\\\.libs\\\\libopenblas64__v0.3.21-gcc_10_3_0.dll'\n",
      "Check the permissions.\n",
      "\n",
      "\n",
      "[notice] A new release of pip available: 22.2.2 -> 23.3.1\n",
      "[notice] To update, run: python.exe -m pip install --upgrade pip\n"
     ]
    }
   ],
   "source": [
    "# Install requirements\n",
    "%pip install numpy==1.22 pandas matplotlib seaborn scikit-learn shap"
   ]
  },
  {
   "cell_type": "code",
   "execution_count": 2,
   "metadata": {
    "ExecuteTime": {
     "end_time": "2023-07-20T14:16:32.556275Z",
     "start_time": "2023-07-20T14:16:32.484102100Z"
    },
    "colab": {
     "base_uri": "https://localhost:8080/"
    },
    "id": "BzdTSd3_BXBN",
    "outputId": "9fcc95a6-ec85-4c16-f814-a2a4cd553f7b"
   },
   "outputs": [],
   "source": [
    "%load_ext autoreload\n",
    "%autoreload 2\n",
    "\n",
    "import os\n",
    "import sys\n",
    "from copy import deepcopy\n",
    "from typing import (\n",
    "    Any,\n",
    "    Dict,\n",
    "    List\n",
    ")\n",
    "\n",
    "import numpy as np\n",
    "from numpy import ndarray\n",
    "\n",
    "import pandas as pd\n",
    "from pandas import DataFrame\n",
    "\n",
    "import seaborn as sns\n",
    "import matplotlib.pyplot as plt\n",
    "\n",
    "from sklearn.ensemble import RandomForestRegressor\n",
    "from sklearn.cross_decomposition import PLSRegression\n",
    "from sklearn.ensemble import GradientBoostingRegressor\n",
    "from sklearn.linear_model import RidgeCV\n",
    "from sklearn.pipeline import make_pipeline\n",
    "from sklearn.model_selection import (\n",
    "    cross_val_score,\n",
    "    KFold,\n",
    "    GridSearchCV\n",
    ")\n",
    "from sklearn.preprocessing import StandardScaler\n",
    "from sklearn.model_selection import train_test_split"
   ]
  },
  {
   "cell_type": "code",
   "execution_count": 3,
   "metadata": {},
   "outputs": [],
   "source": [
    "# Place the package on the path\n",
    "\n",
    "QSRR_PATH: str = os.path.join(os.path.dirname(os.getcwd()))\n",
    "\n",
    "if QSRR_PATH not in sys.path:\n",
    "    sys.path.insert(0, QSRR_PATH)"
   ]
  },
  {
   "cell_type": "code",
   "execution_count": 4,
   "metadata": {},
   "outputs": [
    {
     "ename": "ImportError",
     "evalue": "cannot import name 'Exception' from 'qsrr.exceptions' (C:\\Users\\user4\\PycharmProjects\\cross_column_qsrr\\qsrr\\exceptions\\__init__.py)",
     "output_type": "error",
     "traceback": [
      "\u001b[1;31m---------------------------------------------------------------------------\u001b[0m",
      "\u001b[1;31mImportError\u001b[0m                               Traceback (most recent call last)",
      "Cell \u001b[1;32mIn[4], line 1\u001b[0m\n\u001b[1;32m----> 1\u001b[0m \u001b[38;5;28;01mfrom\u001b[39;00m \u001b[38;5;21;01mqsrr\u001b[39;00m\u001b[38;5;21;01m.\u001b[39;00m\u001b[38;5;21;01manalysis\u001b[39;00m \u001b[38;5;28;01mimport\u001b[39;00m analyze_model\n\u001b[0;32m      2\u001b[0m \u001b[38;5;28;01mfrom\u001b[39;00m \u001b[38;5;21;01mqsrr\u001b[39;00m\u001b[38;5;21;01m.\u001b[39;00m\u001b[38;5;21;01mconfig\u001b[39;00m \u001b[38;5;28;01mimport\u001b[39;00m (\n\u001b[0;32m      3\u001b[0m     plot_settings,\n\u001b[0;32m      4\u001b[0m     project1_split_indices\n\u001b[0;32m      5\u001b[0m )\n\u001b[0;32m      6\u001b[0m \u001b[38;5;28;01mfrom\u001b[39;00m \u001b[38;5;21;01mqsrr\u001b[39;00m\u001b[38;5;21;01m.\u001b[39;00m\u001b[38;5;21;01mvisuals\u001b[39;00m \u001b[38;5;28;01mimport\u001b[39;00m Visualizer\n",
      "File \u001b[1;32m~\\PycharmProjects\\cross_column_qsrr\\qsrr\\analysis\\__init__.py:1\u001b[0m\n\u001b[1;32m----> 1\u001b[0m \u001b[38;5;28;01mfrom\u001b[39;00m \u001b[38;5;21;01m.\u001b[39;00m\u001b[38;5;21;01m_model_analysis\u001b[39;00m \u001b[38;5;28;01mimport\u001b[39;00m analyze_model\n\u001b[0;32m      3\u001b[0m __all__ \u001b[38;5;241m=\u001b[39m [\n\u001b[0;32m      4\u001b[0m     \u001b[38;5;124m\"\u001b[39m\u001b[38;5;124manalyze_model\u001b[39m\u001b[38;5;124m\"\u001b[39m\n\u001b[0;32m      5\u001b[0m ]\n",
      "File \u001b[1;32m~\\PycharmProjects\\cross_column_qsrr\\qsrr\\analysis\\_model_analysis.py:18\u001b[0m\n\u001b[0;32m     13\u001b[0m \u001b[38;5;28;01mfrom\u001b[39;00m \u001b[38;5;21;01mqsrr\u001b[39;00m\u001b[38;5;21;01m.\u001b[39;00m\u001b[38;5;21;01mapplicability_domain\u001b[39;00m \u001b[38;5;28;01mimport\u001b[39;00m ApplicabilityDomain\n\u001b[0;32m     14\u001b[0m \u001b[38;5;28;01mfrom\u001b[39;00m \u001b[38;5;21;01mqsrr\u001b[39;00m\u001b[38;5;21;01m.\u001b[39;00m\u001b[38;5;21;01menums\u001b[39;00m \u001b[38;5;28;01mimport\u001b[39;00m (\n\u001b[0;32m     15\u001b[0m     FeatureImportanceType,\n\u001b[0;32m     16\u001b[0m     MetricType\n\u001b[0;32m     17\u001b[0m )\n\u001b[1;32m---> 18\u001b[0m \u001b[38;5;28;01mfrom\u001b[39;00m \u001b[38;5;21;01mqsrr\u001b[39;00m\u001b[38;5;21;01m.\u001b[39;00m\u001b[38;5;21;01mmetrics\u001b[39;00m \u001b[38;5;28;01mimport\u001b[39;00m Metrics\n\u001b[0;32m     19\u001b[0m \u001b[38;5;28;01mfrom\u001b[39;00m \u001b[38;5;21;01mqsrr\u001b[39;00m\u001b[38;5;21;01m.\u001b[39;00m\u001b[38;5;21;01mvisuals\u001b[39;00m \u001b[38;5;28;01mimport\u001b[39;00m Visualizer\n\u001b[0;32m     22\u001b[0m \u001b[38;5;28;01mdef\u001b[39;00m \u001b[38;5;21manalyze_model\u001b[39m(\n\u001b[0;32m     23\u001b[0m     model: Any,\n\u001b[0;32m     24\u001b[0m     x_train: ndarray,\n\u001b[1;32m   (...)\u001b[0m\n\u001b[0;32m     38\u001b[0m     title: \u001b[38;5;28mstr\u001b[39m \u001b[38;5;241m=\u001b[39m \u001b[38;5;124m'\u001b[39m\u001b[38;5;124mQSRR Model\u001b[39m\u001b[38;5;124m'\u001b[39m\n\u001b[0;32m     39\u001b[0m ) \u001b[38;5;241m-\u001b[39m\u001b[38;5;241m>\u001b[39m Tuple[DataFrame, DataFrame]:\n",
      "File \u001b[1;32m~\\PycharmProjects\\cross_column_qsrr\\qsrr\\metrics\\__init__.py:1\u001b[0m\n\u001b[1;32m----> 1\u001b[0m \u001b[38;5;28;01mfrom\u001b[39;00m \u001b[38;5;21;01m.\u001b[39;00m\u001b[38;5;21;01m_metrics\u001b[39;00m \u001b[38;5;28;01mimport\u001b[39;00m Metrics\n\u001b[0;32m      3\u001b[0m __all__ \u001b[38;5;241m=\u001b[39m [\n\u001b[0;32m      4\u001b[0m     \u001b[38;5;124m\"\u001b[39m\u001b[38;5;124mMetrics\u001b[39m\u001b[38;5;124m\"\u001b[39m\n\u001b[0;32m      5\u001b[0m ]\n",
      "File \u001b[1;32m~\\PycharmProjects\\cross_column_qsrr\\qsrr\\metrics\\_metrics.py:10\u001b[0m\n\u001b[0;32m      7\u001b[0m \u001b[38;5;28;01mfrom\u001b[39;00m \u001b[38;5;21;01mnumpy\u001b[39;00m \u001b[38;5;28;01mimport\u001b[39;00m ndarray\n\u001b[0;32m      9\u001b[0m \u001b[38;5;28;01mfrom\u001b[39;00m \u001b[38;5;21;01mqsrr\u001b[39;00m\u001b[38;5;21;01m.\u001b[39;00m\u001b[38;5;21;01menums\u001b[39;00m \u001b[38;5;28;01mimport\u001b[39;00m MetricType\n\u001b[1;32m---> 10\u001b[0m \u001b[38;5;28;01mfrom\u001b[39;00m \u001b[38;5;21;01mqsrr\u001b[39;00m\u001b[38;5;21;01m.\u001b[39;00m\u001b[38;5;21;01mexceptions\u001b[39;00m \u001b[38;5;28;01mimport\u001b[39;00m \u001b[38;5;167;01mException\u001b[39;00m\n\u001b[0;32m     13\u001b[0m \u001b[38;5;28;01mclass\u001b[39;00m \u001b[38;5;21;01mMetrics\u001b[39;00m:\n\u001b[0;32m     15\u001b[0m     \u001b[38;5;129m@staticmethod\u001b[39m\n\u001b[0;32m     16\u001b[0m     \u001b[38;5;28;01mdef\u001b[39;00m \u001b[38;5;21mget_metric\u001b[39m(\n\u001b[0;32m     17\u001b[0m         y: ndarray,\n\u001b[0;32m     18\u001b[0m         y_hat: ndarray,\n\u001b[0;32m     19\u001b[0m         metric_type: MetricType\n\u001b[0;32m     20\u001b[0m     ) \u001b[38;5;241m-\u001b[39m\u001b[38;5;241m>\u001b[39m \u001b[38;5;28mfloat\u001b[39m:\n",
      "\u001b[1;31mImportError\u001b[0m: cannot import name 'Exception' from 'qsrr.exceptions' (C:\\Users\\user4\\PycharmProjects\\cross_column_qsrr\\qsrr\\exceptions\\__init__.py)"
     ]
    }
   ],
   "source": [
    "from qsrr.analysis import analyze_model\n",
    "from qsrr.config import (\n",
    "    plot_settings,\n",
    "    project1_split_indices\n",
    ")\n",
    "from qsrr.visuals import Visualizer\n",
    "\n",
    "plt.rcParams.update(plot_settings)\n",
    "\n",
    "sns.set()"
   ]
  },
  {
   "cell_type": "markdown",
   "metadata": {
    "collapsed": false,
    "jupyter": {
     "outputs_hidden": false
    }
   },
   "source": [
    "# Data Loading & Processing\n",
    "---"
   ]
  },
  {
   "cell_type": "code",
   "execution_count": null,
   "metadata": {
    "ExecuteTime": {
     "end_time": "2023-07-20T14:16:32.634725800Z",
     "start_time": "2023-07-20T14:16:32.557314800Z"
    },
    "colab": {
     "base_uri": "https://localhost:8080/",
     "height": 623
    },
    "id": "mzz61DajwibY",
    "outputId": "e2e15d64-77b3-4c83-eb63-52cdb97a7780"
   },
   "outputs": [],
   "source": [
    "# Load Data\n",
    "_data_df: DataFrame = pd.read_csv(\n",
    "    '../data/2023-09-25-qsrr_metlin_dataset.csv'\n",
    ")\n",
    "\n",
    "# Drop columns= 'name' and '#', 'ID', \"Length\"\n",
    "_data_df.drop(\n",
    "    columns=['#','name', 'ID', \"Length\"],\n",
    "    errors=\"ignore\",\n",
    "    inplace=True\n",
    ")\n",
    "\n",
    "# Display Data\n",
    "display(_data_df.head())"
   ]
  },
  {
   "cell_type": "markdown",
   "metadata": {
    "collapsed": false,
    "jupyter": {
     "outputs_hidden": false
    }
   },
   "source": [
    "# Data Analysis\n",
    "---"
   ]
  },
  {
   "cell_type": "markdown",
   "metadata": {
    "id": "FGm-0_W9hSBZ"
   },
   "source": [
    "# Train/Test Split"
   ]
  },
  {
   "cell_type": "code",
   "execution_count": null,
   "metadata": {
    "ExecuteTime": {
     "end_time": "2023-07-20T14:16:33.532486500Z",
     "start_time": "2023-07-20T14:16:33.457768800Z"
    },
    "colab": {
     "base_uri": "https://localhost:8080/"
    },
    "id": "V35UYvzN3AHR",
    "outputId": "790ab96d-4631-4c42-d07b-f4cee32def86"
   },
   "outputs": [],
   "source": [
    "# X- and y- data\n",
    "_x: ndarray = _data_df.iloc[:,:-1].values  # Variables -> x1 to x15\n",
    "_y: ndarray = _data_df.iloc[:,-1].values   # Target: -> tR : retention tiime\n",
    "\n",
    "# Split initial data into training & blind test sets\n",
    "_x_train_all, _x_bt, _y_train_all, _y_bt = train_test_split(\n",
    "    _x,\n",
    "    _y,\n",
    "    test_size=0.3\n",
    "    ,shuffle=True,\n",
    "    random_state=12345  # For reproducibility\n",
    ")\n",
    "\n",
    "# Split the training data further into training and validation\n",
    "_x_train, _x_validation, _y_train, _y_validation = train_test_split(\n",
    "    _x_train_all,\n",
    "    _y_train_all,\n",
    "    test_size=0.3,\n",
    "    random_state=12345   # For reproducibility\n",
    ")\n",
    "\n",
    "# Summary\n",
    "print('X-train:', _x_train.shape)\n",
    "print('y-train:', _y_train.shape)\n",
    "print('- - '*10)\n",
    "print('X-validation:', _x_validation.shape)\n",
    "print('y-validation:', _y_validation.shape)\n",
    "print('- - '*10)\n",
    "print('X-BT:', _x_bt.shape)\n",
    "print('y-BT:', _y_bt.shape)\n",
    "print('- - '*10)"
   ]
  },
  {
   "cell_type": "markdown",
   "metadata": {
    "id": "HHFwmW8AYCnt"
   },
   "source": [
    "# Hyper-Parameter Optimization, QSRR model building & analysis\n",
    "---"
   ]
  },
  {
   "cell_type": "markdown",
   "metadata": {
    "collapsed": false,
    "jupyter": {
     "outputs_hidden": false
    }
   },
   "source": [
    "## Random Forests\n",
    "---"
   ]
  },
  {
   "cell_type": "code",
   "execution_count": null,
   "metadata": {
    "ExecuteTime": {
     "end_time": "2023-07-20T14:16:33.610542600Z",
     "start_time": "2023-07-20T14:16:33.532486500Z"
    }
   },
   "outputs": [],
   "source": [
    "# RFs parameter grid\n",
    "_rfs_param_grid: Dict[str, Any] = {\n",
    "    'n_estimators': range(10, 210, 10),\n",
    "    'max_features': [None, 'sqrt'],\n",
    "    'max_depth': range(2, 30, 3),\n",
    "    'min_samples_split': [2, 5, 10],\n",
    "    'min_samples_leaf': [1, 3, 5],\n",
    "    'bootstrap': [True, False]\n",
    "}"
   ]
  },
  {
   "cell_type": "code",
   "execution_count": null,
   "metadata": {
    "ExecuteTime": {
     "end_time": "2023-07-20T14:16:33.689040200Z",
     "start_time": "2023-07-20T14:16:33.611540Z"
    },
    "collapsed": false,
    "jupyter": {
     "outputs_hidden": false
    }
   },
   "outputs": [],
   "source": [
    "# Instantiate model\n",
    "_rfs_model: GridSearchCV = GridSearchCV(\n",
    "    estimator=RandomForestRegressor(random_state=12345),\n",
    "    param_grid=_rfs_param_grid,\n",
    "    scoring='neg_root_mean_squared_error',\n",
    "    cv=KFold(3),\n",
    "    n_jobs=20,\n",
    "    verbose=2,\n",
    "    refit=True\n",
    ")"
   ]
  },
  {
   "cell_type": "code",
   "execution_count": null,
   "metadata": {
    "ExecuteTime": {
     "end_time": "2023-07-20T14:17:34.354075300Z",
     "start_time": "2023-07-20T14:16:33.689040200Z"
    },
    "collapsed": false,
    "jupyter": {
     "outputs_hidden": false
    },
    "scrolled": true
   },
   "outputs": [],
   "source": [
    "# Fit model\n",
    "_rfs_model.fit(\n",
    "    deepcopy(_x_train),\n",
    "    deepcopy(_y_train)\n",
    ")"
   ]
  },
  {
   "cell_type": "code",
   "execution_count": null,
   "metadata": {
    "ExecuteTime": {
     "end_time": "2023-07-20T14:17:34.432569500Z",
     "start_time": "2023-07-20T14:17:34.355071800Z"
    },
    "collapsed": false,
    "jupyter": {
     "outputs_hidden": false
    }
   },
   "outputs": [],
   "source": [
    "# Optimal Results\n",
    "print(f\"Optimal hyper-parameters : {_rfs_model.best_params_}\")\n",
    "print(f\"Optimal RMSE : {-_rfs_model.best_score_.round(3)}\")\n",
    "\n",
    "# Optimal Model\n",
    "_rfs_optimal_model: RandomForestRegressor = _rfs_model.best_estimator_\n",
    "\n",
    "display(_rfs_optimal_model)"
   ]
  },
  {
   "cell_type": "code",
   "execution_count": null,
   "metadata": {
    "ExecuteTime": {
     "end_time": "2023-07-20T14:17:42.022586500Z",
     "start_time": "2023-07-20T14:17:34.434563600Z"
    },
    "colab": {
     "base_uri": "https://localhost:8080/",
     "height": 796
    },
    "id": "3W6BpRyiMdFD",
    "outputId": "2a2b690a-5a71-4f7a-cdcc-8b8a467fd8b6",
    "scrolled": true
   },
   "outputs": [],
   "source": [
    "# Analyze results\n",
    "_rf_predictions_df, _rf_metrics_df = analyze_model(\n",
    "    model=_rfs_optimal_model,\n",
    "    cv=ps,\n",
    "    title=\"Random Forests\",\n",
    "    x_train=deepcopy(_x_train),\n",
    "    y_train=deepcopy(_y_train.ravel()),\n",
    "    x_validation=deepcopy(_x_validation),\n",
    "    y_validation=deepcopy(_y_validation.ravel()),\n",
    "    x_bt=deepcopy(_x_bt),\n",
    "    y_bt=deepcopy(_y_bt.ravel()),\n",
    "    x_train_all=deepcopy(_x_train_all),\n",
    "    y_train_all=deepcopy(_y_train_all.ravel()),\n",
    "    x_all=deepcopy(_x),\n",
    "    y_all=deepcopy(_y.ravel()),\n",
    "    column_names=np.array(list(_data_df.drop(columns=[\"rt\"]).columns))\n",
    ")"
   ]
  },
  {
   "cell_type": "code",
   "execution_count": null,
   "metadata": {
    "ExecuteTime": {
     "end_time": "2023-07-20T14:17:42.118167500Z",
     "start_time": "2023-07-20T14:17:42.016585600Z"
    },
    "collapsed": false,
    "jupyter": {
     "outputs_hidden": false
    }
   },
   "outputs": [],
   "source": [
    "display(_rf_predictions_df.head())\n",
    "display(_rf_metrics_df.head())"
   ]
  },
  {
   "cell_type": "markdown",
   "metadata": {
    "id": "JpDAwnzhyOKV"
   },
   "source": [
    "##  Partial Least Squares\n",
    "---"
   ]
  },
  {
   "cell_type": "code",
   "execution_count": null,
   "metadata": {
    "ExecuteTime": {
     "end_time": "2023-07-20T14:17:42.659958700Z",
     "start_time": "2023-07-20T14:17:42.118167500Z"
    },
    "colab": {
     "base_uri": "https://localhost:8080/",
     "height": 410
    },
    "id": "sCtQWsgAkvqt",
    "outputId": "d7cab141-a84d-44a0-da0c-d49fd80458f1"
   },
   "outputs": [],
   "source": [
    "# Number of PLS components\n",
    "_n_latent_variables: ndarray = np.array(range(1, 14, 1))\n",
    "\n",
    "# Optimization of n(LVs)\n",
    "\n",
    "_rmsecvs: List[float] = []\n",
    "\n",
    "for _n_lvs in _n_latent_variables:\n",
    "\n",
    "    _pls_model = make_pipeline(StandardScaler(), PLSRegression(n_components=_n_lvs))\n",
    "\n",
    "    _cv = KFold(n_splits=10, shuffle=True, random_state=12345)\n",
    "\n",
    "    _score = cross_val_score(\n",
    "        _pls_model,\n",
    "        deepcopy(_x_train),\n",
    "        deepcopy(_y_train),\n",
    "        scoring='neg_root_mean_squared_error',\n",
    "        cv=_cv\n",
    "    )\n",
    "\n",
    "    _rmse = -_score.mean()\n",
    "    \n",
    "    _rmsecvs.append(_rmse)\n",
    "\n",
    "_rmsecvs: ndarray = np.array(_rmsecvs)\n",
    "\n",
    "Visualizer.latent_variable_plot(\n",
    "    rmsecvs=_rmsecvs,\n",
    "    latent_variables=_n_latent_variables,\n",
    "    optimal_n_lvs=6,  # For reproducibility\n",
    "    y_max=0.51  # For reproducibility\n",
    ")"
   ]
  },
  {
   "cell_type": "code",
   "execution_count": null,
   "metadata": {
    "ExecuteTime": {
     "end_time": "2023-07-20T14:17:42.754783600Z",
     "start_time": "2023-07-20T14:17:42.662934100Z"
    },
    "colab": {
     "base_uri": "https://localhost:8080/",
     "height": 796
    },
    "id": "84A3k9xLyNyE",
    "outputId": "0fe66a20-37ff-496e-e229-cf2aa59fff46"
   },
   "outputs": [],
   "source": [
    "# Train PLS Model\n",
    "_pls_optimal_model = make_pipeline(\n",
    "    StandardScaler(),\n",
    "    PLSRegression(n_components=6)\n",
    ")\n",
    "\n",
    "_pls_optimal_model.fit(\n",
    "    deepcopy(_x_train),\n",
    "    deepcopy(_y_train)\n",
    ")\n",
    "\n",
    "display(_pls_optimal_model)"
   ]
  },
  {
   "cell_type": "code",
   "execution_count": null,
   "metadata": {
    "ExecuteTime": {
     "end_time": "2023-07-20T14:17:42.908518400Z",
     "start_time": "2023-07-20T14:17:42.756289500Z"
    },
    "collapsed": false,
    "jupyter": {
     "outputs_hidden": false
    }
   },
   "outputs": [],
   "source": [
    "# Analyze results\n",
    "_pls_predictions_df, _pls_metrics_df = analyze_model(\n",
    "    model=_pls_optimal_model,\n",
    "    cv=ps,\n",
    "    title=\"PLS\",\n",
    "    x_train=deepcopy(_x_train),\n",
    "    y_train=deepcopy(_y_train.ravel()),\n",
    "    x_validation=deepcopy(_x_validation),\n",
    "    y_validation=deepcopy(_y_validation.ravel()),\n",
    "    x_bt=deepcopy(_x_bt),\n",
    "    y_bt=deepcopy(_y_bt.ravel()),\n",
    "    x_train_all=deepcopy(_x_train_all),\n",
    "    y_train_all=deepcopy(_y_train_all.ravel()),\n",
    "    x_all=deepcopy(_x),\n",
    "    y_all=deepcopy(_y.ravel()),\n",
    "    column_names=np.array(list(_data_df.drop(columns=[\"rt\"]).columns)),\n",
    "    b_plot_feature_importances=False\n",
    ")"
   ]
  },
  {
   "cell_type": "code",
   "execution_count": null,
   "metadata": {
    "colab": {
     "base_uri": "https://localhost:8080/",
     "height": 977
    },
    "id": "h-klcHq1jH9c",
    "outputId": "29670794-30e3-4cd7-f042-d9949a663666"
   },
   "outputs": [],
   "source": [
    "# PLS Coefficient Plot\n",
    "Visualizer.coefficient_plot(\n",
    "    coefficients=_pls_optimal_model.named_steps[\"plsregression\"].coef_,\n",
    "    column_names=np.array(list(_data_df.drop(columns=[\"rt\"])))\n",
    ")"
   ]
  },
  {
   "cell_type": "code",
   "execution_count": null,
   "metadata": {
    "collapsed": false,
    "jupyter": {
     "outputs_hidden": false
    }
   },
   "outputs": [],
   "source": [
    "display(_pls_predictions_df.head())\n",
    "display(_pls_metrics_df)"
   ]
  },
  {
   "cell_type": "markdown",
   "metadata": {
    "id": "BNqRePQcXsmZ"
   },
   "source": [
    "## Gradient Boosting Regression\n",
    "---"
   ]
  },
  {
   "cell_type": "code",
   "execution_count": null,
   "metadata": {
    "colab": {
     "base_uri": "https://localhost:8080/"
    },
    "id": "ZRmRyRfAN3RF",
    "outputId": "2db2f895-6cd5-4420-d38b-3ff6df6762f4"
   },
   "outputs": [],
   "source": [
    "# GB parameter grid\n",
    "_gb_param_grid = {\n",
    "    'n_estimators': np.arange(10, 210, 10),\n",
    "    'learning_rate':[.001, 0.01, .1],\n",
    "    'max_features': [None, 'sqrt'],\n",
    "    'max_depth': range(1, 6, 1),\n",
    "    'min_samples_split': [2, 5, 7],\n",
    "    'min_samples_leaf': [1, 3, 5],\n",
    "}"
   ]
  },
  {
   "cell_type": "code",
   "execution_count": null,
   "metadata": {
    "collapsed": false,
    "jupyter": {
     "outputs_hidden": false
    }
   },
   "outputs": [],
   "source": [
    "# Instantiate GB model\n",
    "_gb_model = GridSearchCV(\n",
    "    estimator=GradientBoostingRegressor(random_state=12345),\n",
    "    param_grid=_gb_param_grid,\n",
    "    scoring='neg_root_mean_squared_error',\n",
    "    cv=ps,\n",
    "    n_jobs=6,\n",
    "    verbose=1\n",
    ")"
   ]
  },
  {
   "cell_type": "code",
   "execution_count": null,
   "metadata": {
    "collapsed": false,
    "jupyter": {
     "outputs_hidden": false
    }
   },
   "outputs": [],
   "source": [
    "# Fit model\n",
    "_gb_model.fit(\n",
    "    deepcopy(_x_train_all),  # Use all, because we extracted the validation indices previously for reproducibility\n",
    "    deepcopy(_y_train_all.ravel())   # Use all, because we extracted the validation indices previously for reproducibility\n",
    ")"
   ]
  },
  {
   "cell_type": "code",
   "execution_count": null,
   "metadata": {
    "colab": {
     "base_uri": "https://localhost:8080/"
    },
    "id": "TZv_HUdYU4gV",
    "outputId": "097bab02-d141-4f41-a176-6727518f73aa"
   },
   "outputs": [],
   "source": [
    "# Optimal Results\n",
    "print(f\"Optimal hyper-parameters : {_gb_model.best_params_}\")\n",
    "print(f\"Optimal RMSE : {-_gb_model.best_score_.round(3)}\")\n",
    "\n",
    "# Optimal Model\n",
    "_gb_optimal_model: GradientBoostingRegressor = _gb_model.best_estimator_\n",
    "\n",
    "display(_gb_optimal_model)"
   ]
  },
  {
   "cell_type": "code",
   "execution_count": null,
   "metadata": {
    "colab": {
     "base_uri": "https://localhost:8080/",
     "height": 796
    },
    "id": "h9_E_FB7ZMVZ",
    "outputId": "6102afb2-e877-4e3c-a615-f2ee5956a8a4"
   },
   "outputs": [],
   "source": [
    "# Analyze results\n",
    "_gb_predictions_df, _gb_metrics_df = analyze_model(\n",
    "    model=_gb_optimal_model,\n",
    "    cv=ps,\n",
    "    title=\"Gradient Boosting\",\n",
    "    x_train=deepcopy(_x_train),\n",
    "    y_train=deepcopy(_y_train.ravel()),\n",
    "    x_validation=deepcopy(_x_validation),\n",
    "    y_validation=deepcopy(_y_validation.ravel()),\n",
    "    x_bt=deepcopy(_x_bt),\n",
    "    y_bt=deepcopy(_y_bt.ravel()),\n",
    "    x_train_all=deepcopy(_x_train_all),\n",
    "    y_train_all=deepcopy(_y_train_all.ravel()),\n",
    "    x_all=deepcopy(_x),\n",
    "    y_all=deepcopy(_y.ravel()),\n",
    "    column_names=np.array(list(_data_df.drop(columns=[\"rt\"]).columns)),\n",
    "    b_plot_y_randomization=True\n",
    ")"
   ]
  },
  {
   "cell_type": "code",
   "execution_count": null,
   "metadata": {
    "collapsed": false,
    "jupyter": {
     "outputs_hidden": false
    }
   },
   "outputs": [],
   "source": [
    "display(_gb_predictions_df.head())\n",
    "display(_gb_metrics_df.head())"
   ]
  },
  {
   "cell_type": "markdown",
   "metadata": {
    "id": "vifR3xW_ZP_W"
   },
   "source": [
    "## Ridge Regression\n",
    "---"
   ]
  },
  {
   "cell_type": "code",
   "execution_count": null,
   "metadata": {
    "colab": {
     "base_uri": "https://localhost:8080/"
    },
    "id": "zNAo7Trj0omD",
    "outputId": "76fc33c3-d7dd-4040-a82d-0c0f7ca7d323"
   },
   "outputs": [],
   "source": [
    "# Optimize the regularization parameter (alpha)\n",
    "_ridge_model = make_pipeline(\n",
    "    StandardScaler(),\n",
    "    RidgeCV(\n",
    "        alphas=[0.01, 0.1, 1, 10, 50, 100, 200],\n",
    "        scoring= 'neg_root_mean_squared_error',\n",
    "        cv=ps\n",
    "    )\n",
    ")"
   ]
  },
  {
   "cell_type": "code",
   "execution_count": null,
   "metadata": {
    "collapsed": false,
    "jupyter": {
     "outputs_hidden": false
    }
   },
   "outputs": [],
   "source": [
    "_ridge_model.fit(\n",
    "    X=deepcopy(_x_train_all),\n",
    "    y=deepcopy(_y_train_all.ravel())\n",
    ")"
   ]
  },
  {
   "cell_type": "code",
   "execution_count": null,
   "metadata": {
    "collapsed": false,
    "jupyter": {
     "outputs_hidden": false
    }
   },
   "outputs": [],
   "source": [
    "# Display Optimal Results\n",
    "print('Optimal alpha :',  _ridge_model.named_steps['ridgecv'].alpha_)\n",
    "print('Optimal RMSE : ',  -_ridge_model.named_steps['ridgecv'].best_score_)"
   ]
  },
  {
   "cell_type": "code",
   "execution_count": null,
   "metadata": {
    "colab": {
     "base_uri": "https://localhost:8080/",
     "height": 796
    },
    "id": "R16DZhVC0oVB",
    "outputId": "f9b1c285-e3fa-42c8-eece-09ee3799c812"
   },
   "outputs": [],
   "source": [
    "# Analyze results\n",
    "_ridge_predictions_df, _ridge_metrics_df = analyze_model(\n",
    "    model=_ridge_model,\n",
    "    cv=ps,\n",
    "    title=\"Ridge Regression\",\n",
    "    x_train=deepcopy(_x_train),\n",
    "    y_train=deepcopy(_y_train.ravel()),\n",
    "    x_validation=deepcopy(_x_validation),\n",
    "    y_validation=deepcopy(_y_validation.ravel()),\n",
    "    x_bt=deepcopy(_x_bt),\n",
    "    y_bt=deepcopy(_y_bt.ravel()),\n",
    "    x_train_all=deepcopy(_x_train_all),\n",
    "    y_train_all=deepcopy(_y_train_all.ravel()),\n",
    "    x_all=deepcopy(_x),\n",
    "    y_all=deepcopy(_y.ravel()),\n",
    "    column_names=np.array(list(_data_df.drop(columns=[\"TR\"]).columns)),\n",
    "    b_plot_feature_importances=False\n",
    ")"
   ]
  },
  {
   "cell_type": "code",
   "execution_count": null,
   "metadata": {},
   "outputs": [],
   "source": [
    "# Ridge Coefficient Plot\n",
    "Visualizer.coefficient_plot(\n",
    "    coefficients=_ridge_model.named_steps[\"ridgecv\"].coef_,\n",
    "    column_names=np.array(list(_data_df.drop(columns=[\"rt\"])))\n",
    ")"
   ]
  },
  {
   "cell_type": "code",
   "execution_count": null,
   "metadata": {
    "collapsed": false,
    "jupyter": {
     "outputs_hidden": false
    }
   },
   "outputs": [],
   "source": [
    "display(_ridge_predictions_df.head())\n",
    "display(_ridge_metrics_df.head())"
   ]
  },
  {
   "cell_type": "code",
   "execution_count": null,
   "metadata": {},
   "outputs": [],
   "source": []
  }
 ],
 "metadata": {
  "colab": {
   "collapsed_sections": [],
   "provenance": [],
   "toc_visible": true
  },
  "kernelspec": {
   "display_name": "Python 3 (ipykernel)",
   "language": "python",
   "name": "python3"
  },
  "language_info": {
   "codemirror_mode": {
    "name": "ipython",
    "version": 3
   },
   "file_extension": ".py",
   "mimetype": "text/x-python",
   "name": "python",
   "nbconvert_exporter": "python",
   "pygments_lexer": "ipython3",
   "version": "3.10.6"
  },
  "vscode": {
   "interpreter": {
    "hash": "1003a366d2be130ea18141d3a0883ffc970bb735b1523c1f0e26084058f26b26"
   }
  }
 },
 "nbformat": 4,
 "nbformat_minor": 4
}
