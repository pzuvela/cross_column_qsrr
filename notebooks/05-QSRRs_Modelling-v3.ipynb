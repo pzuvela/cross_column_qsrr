{
 "cells": [
  {
   "cell_type": "markdown",
   "metadata": {},
   "source": [
    "# Imports"
   ]
  },
  {
   "cell_type": "code",
   "execution_count": 30,
   "metadata": {},
   "outputs": [],
   "source": [
    "import os\n",
    "import pickle\n",
    "from typing import Tuple\n",
    "\n",
    "import pandas as pd\n",
    "from pandas import DataFrame\n",
    "\n",
    "import numpy as np\n",
    "from numpy import ndarray\n",
    "\n",
    "from sklearn.model_selection import train_test_split\n",
    "from sklearn.preprocessing import StandardScaler\n",
    "\n",
    "from keras.models import Sequential\n",
    "from keras.layers import (\n",
    "    Conv2D,\n",
    "    Dense,\n",
    "    Dropout,\n",
    "    Flatten\n",
    ")\n",
    "from keras.optimizers import Adam"
   ]
  },
  {
   "cell_type": "markdown",
   "metadata": {},
   "source": [
    "# Code"
   ]
  },
  {
   "cell_type": "code",
   "execution_count": 31,
   "metadata": {},
   "outputs": [],
   "source": [
    "def get_model(\n",
    "    input_shape: Tuple[int, ...]\n",
    "):\n",
    "    \n",
    "    _model: Sequential = Sequential()\n",
    "    \n",
    "    _model.add(\n",
    "        Conv2D(\n",
    "            filters=64,\n",
    "            kernel_size=(3, 3),\n",
    "            input_shape=input_shape,\n",
    "            activation='relu'\n",
    "        )\n",
    "    )\n",
    "        \n",
    "    _model.add(Flatten())\n",
    "\n",
    "    _model.add(Dense(64, activation='relu'))\n",
    "        \n",
    "    _model.add(Dropout(0.1))\n",
    "    \n",
    "    _model.add(Dense(32, activation='relu'))\n",
    "    _model.add(Dense(16, activation='relu'))\n",
    "    \n",
    "    _model.add(Dense(1, activation='linear'))\n",
    "\n",
    "    _model.compile(\n",
    "        loss='mean_squared_error',\n",
    "        optimizer=Adam(0.001)\n",
    "    )\n",
    "\n",
    "    return _model"
   ]
  },
  {
   "cell_type": "markdown",
   "metadata": {},
   "source": [
    "# Load Data"
   ]
  },
  {
   "cell_type": "code",
   "execution_count": 32,
   "metadata": {},
   "outputs": [],
   "source": [
    "CROSS_COLUMN_QSRR_PATH: str = os.path.dirname(os.getcwd())\n",
    "DATA_PATH: str = os.path.join(CROSS_COLUMN_QSRR_PATH, \"data\")\n",
    "SMRT_DATASET: str = os.path.join(DATA_PATH, \"2023-11-18-smrt_dataset.csv\")\n",
    "SMRT_DATASET_SMILES: str = os.path.join(DATA_PATH, \"2023-11-18-smrt_dataset_smiles.csv\")\n",
    "SMRT_DATASET_ENCODED_SMILES: str = os.path.join(DATA_PATH, \"2023-11-18-smrt_dataset_encoded_smiles.pkl\")"
   ]
  },
  {
   "cell_type": "code",
   "execution_count": 33,
   "metadata": {},
   "outputs": [],
   "source": [
    "_data_df = pd.read_csv(\n",
    "    SMRT_DATASET_SMILES, \n",
    "    delimiter=','\n",
    ")"
   ]
  },
  {
   "cell_type": "code",
   "execution_count": 34,
   "metadata": {},
   "outputs": [
    {
     "data": {
      "text/html": [
       "<div>\n",
       "<style scoped>\n",
       "    .dataframe tbody tr th:only-of-type {\n",
       "        vertical-align: middle;\n",
       "    }\n",
       "\n",
       "    .dataframe tbody tr th {\n",
       "        vertical-align: top;\n",
       "    }\n",
       "\n",
       "    .dataframe thead th {\n",
       "        text-align: right;\n",
       "    }\n",
       "</style>\n",
       "<table border=\"1\" class=\"dataframe\">\n",
       "  <thead>\n",
       "    <tr style=\"text-align: right;\">\n",
       "      <th></th>\n",
       "      <th>smiles</th>\n",
       "      <th>rt</th>\n",
       "    </tr>\n",
       "  </thead>\n",
       "  <tbody>\n",
       "    <tr>\n",
       "      <th>0</th>\n",
       "      <td>COC(=O)N1CCN(C(=O)Cc2ccc(Cl)c(Cl)c2)[C@H](CN2C...</td>\n",
       "      <td>687.8</td>\n",
       "    </tr>\n",
       "    <tr>\n",
       "      <th>1</th>\n",
       "      <td>CCN1CCC[C@@H]1CN=C(O)c1cc(S(=O)(=O)CC)c(N)cc1OC</td>\n",
       "      <td>590.7</td>\n",
       "    </tr>\n",
       "    <tr>\n",
       "      <th>2</th>\n",
       "      <td>Oc1cccc2c(O)nccc12</td>\n",
       "      <td>583.6</td>\n",
       "    </tr>\n",
       "    <tr>\n",
       "      <th>3</th>\n",
       "      <td>OC1=NCC2(CCN(CCc3ccccc3)CC2)O1</td>\n",
       "      <td>579.0</td>\n",
       "    </tr>\n",
       "    <tr>\n",
       "      <th>4</th>\n",
       "      <td>CC(C)(C)NC[C@H](O)COc1cccc2nc(O)[nH]c12</td>\n",
       "      <td>603.1</td>\n",
       "    </tr>\n",
       "    <tr>\n",
       "      <th>...</th>\n",
       "      <td>...</td>\n",
       "      <td>...</td>\n",
       "    </tr>\n",
       "    <tr>\n",
       "      <th>77890</th>\n",
       "      <td>CCOc1ccc(OCC)c(NS(=O)(=O)c2ccc(/C=C/c3onc(C)c3...</td>\n",
       "      <td>946.4</td>\n",
       "    </tr>\n",
       "    <tr>\n",
       "      <th>77891</th>\n",
       "      <td>COCCCN=C(O)N1C[C@@H]2CN(S(=O)(=O)c3cccc(F)c3)C...</td>\n",
       "      <td>653.1</td>\n",
       "    </tr>\n",
       "    <tr>\n",
       "      <th>77892</th>\n",
       "      <td>COCCN=C(O)N1C[C@@H]2CN(S(=O)(=O)c3cccc(C)c3)C[...</td>\n",
       "      <td>648.2</td>\n",
       "    </tr>\n",
       "    <tr>\n",
       "      <th>77893</th>\n",
       "      <td>Cc1ccc(S(=O)(=O)N2C[C@@H]3CN(C(O)=Nc4ccccc4C)C...</td>\n",
       "      <td>783.9</td>\n",
       "    </tr>\n",
       "    <tr>\n",
       "      <th>77894</th>\n",
       "      <td>O=C1[C@H]2CNC[C@H]2C(=O)N1CCc1ccccc1</td>\n",
       "      <td>603.7</td>\n",
       "    </tr>\n",
       "  </tbody>\n",
       "</table>\n",
       "<p>77895 rows × 2 columns</p>\n",
       "</div>"
      ],
      "text/plain": [
       "                                                  smiles     rt\n",
       "0      COC(=O)N1CCN(C(=O)Cc2ccc(Cl)c(Cl)c2)[C@H](CN2C...  687.8\n",
       "1        CCN1CCC[C@@H]1CN=C(O)c1cc(S(=O)(=O)CC)c(N)cc1OC  590.7\n",
       "2                                     Oc1cccc2c(O)nccc12  583.6\n",
       "3                         OC1=NCC2(CCN(CCc3ccccc3)CC2)O1  579.0\n",
       "4                CC(C)(C)NC[C@H](O)COc1cccc2nc(O)[nH]c12  603.1\n",
       "...                                                  ...    ...\n",
       "77890  CCOc1ccc(OCC)c(NS(=O)(=O)c2ccc(/C=C/c3onc(C)c3...  946.4\n",
       "77891  COCCCN=C(O)N1C[C@@H]2CN(S(=O)(=O)c3cccc(F)c3)C...  653.1\n",
       "77892  COCCN=C(O)N1C[C@@H]2CN(S(=O)(=O)c3cccc(C)c3)C[...  648.2\n",
       "77893  Cc1ccc(S(=O)(=O)N2C[C@@H]3CN(C(O)=Nc4ccccc4C)C...  783.9\n",
       "77894               O=C1[C@H]2CNC[C@H]2C(=O)N1CCc1ccccc1  603.7\n",
       "\n",
       "[77895 rows x 2 columns]"
      ]
     },
     "metadata": {},
     "output_type": "display_data"
    }
   ],
   "source": [
    "display(_data_df)"
   ]
  },
  {
   "cell_type": "code",
   "execution_count": 35,
   "metadata": {},
   "outputs": [],
   "source": [
    "with open(SMRT_DATASET_ENCODED_SMILES, \"rb\") as f:\n",
    "    _encoded_smiles_arr: ndarray = pickle.load(f)"
   ]
  },
  {
   "cell_type": "code",
   "execution_count": 36,
   "metadata": {},
   "outputs": [
    {
     "data": {
      "text/plain": [
       "(77895, 90, 54)"
      ]
     },
     "execution_count": 36,
     "metadata": {},
     "output_type": "execute_result"
    }
   ],
   "source": [
    "_encoded_smiles_arr.shape"
   ]
  },
  {
   "cell_type": "markdown",
   "metadata": {},
   "source": [
    "# Train/Test Split"
   ]
  },
  {
   "cell_type": "code",
   "execution_count": 37,
   "metadata": {},
   "outputs": [],
   "source": [
    "TEST_RATIO: float = 0.3\n",
    "RANDOM_STATE: int = 12345"
   ]
  },
  {
   "cell_type": "code",
   "execution_count": 38,
   "metadata": {},
   "outputs": [],
   "source": [
    "_y_train, _y_test, _x_train, _x_test = train_test_split(\n",
    "    _data_df[\"rt\"],\n",
    "    _encoded_smiles_arr,\n",
    "    test_size=TEST_RATIO,\n",
    "    random_state=RANDOM_STATE\n",
    ")"
   ]
  },
  {
   "cell_type": "code",
   "execution_count": 39,
   "metadata": {},
   "outputs": [
    {
     "data": {
      "text/plain": [
       "(54526, 90, 54)"
      ]
     },
     "metadata": {},
     "output_type": "display_data"
    },
    {
     "data": {
      "text/plain": [
       "(23369, 90, 54)"
      ]
     },
     "metadata": {},
     "output_type": "display_data"
    }
   ],
   "source": [
    "display(_x_train.shape)\n",
    "display(_x_test.shape)"
   ]
  },
  {
   "cell_type": "code",
   "execution_count": 40,
   "metadata": {},
   "outputs": [
    {
     "data": {
      "text/plain": [
       "(54526,)"
      ]
     },
     "metadata": {},
     "output_type": "display_data"
    },
    {
     "data": {
      "text/plain": [
       "(23369,)"
      ]
     },
     "metadata": {},
     "output_type": "display_data"
    }
   ],
   "source": [
    "display(_y_train.shape)\n",
    "display(_y_test.shape)"
   ]
  },
  {
   "cell_type": "code",
   "execution_count": 41,
   "metadata": {},
   "outputs": [],
   "source": [
    "max_length, vocabulary_size = _x_train.shape[1:]"
   ]
  },
  {
   "cell_type": "code",
   "execution_count": 42,
   "metadata": {},
   "outputs": [],
   "source": [
    "_x_train = _x_train.reshape(_x_train.shape[0], max_length, vocabulary_size, 1)\n",
    "_x_test = _x_test.reshape(_x_test.shape[0], max_length, vocabulary_size, 1)\n",
    "_input_shape = (max_length, vocabulary_size, 1)"
   ]
  },
  {
   "cell_type": "code",
   "execution_count": 43,
   "metadata": {},
   "outputs": [
    {
     "data": {
      "text/plain": [
       "(90, 54, 1)"
      ]
     },
     "metadata": {},
     "output_type": "display_data"
    }
   ],
   "source": [
    "display(_input_shape)"
   ]
  },
  {
   "cell_type": "code",
   "execution_count": 49,
   "metadata": {},
   "outputs": [],
   "source": [
    "_scaler = StandardScaler()\n",
    "_y_train_sc: ndarray = _scaler.fit_transform(_y_train.values.reshape(-1, 1))"
   ]
  },
  {
   "cell_type": "markdown",
   "metadata": {},
   "source": [
    "# Get & Train Model"
   ]
  },
  {
   "cell_type": "code",
   "execution_count": 56,
   "metadata": {},
   "outputs": [],
   "source": [
    "_model = get_model(input_shape=_input_shape)"
   ]
  },
  {
   "cell_type": "code",
   "execution_count": 57,
   "metadata": {},
   "outputs": [
    {
     "name": "stdout",
     "output_type": "stream",
     "text": [
      "Model: \"sequential_2\"\n",
      "_________________________________________________________________\n",
      " Layer (type)                Output Shape              Param #   \n",
      "=================================================================\n",
      " conv2d_2 (Conv2D)           (None, 88, 52, 64)        640       \n",
      "                                                                 \n",
      " flatten_2 (Flatten)         (None, 292864)            0         \n",
      "                                                                 \n",
      " dense_8 (Dense)             (None, 64)                18743360  \n",
      "                                                                 \n",
      " dropout_2 (Dropout)         (None, 64)                0         \n",
      "                                                                 \n",
      " dense_9 (Dense)             (None, 32)                2080      \n",
      "                                                                 \n",
      " dense_10 (Dense)            (None, 16)                528       \n",
      "                                                                 \n",
      " dense_11 (Dense)            (None, 1)                 17        \n",
      "                                                                 \n",
      "=================================================================\n",
      "Total params: 18746625 (71.51 MB)\n",
      "Trainable params: 18746625 (71.51 MB)\n",
      "Non-trainable params: 0 (0.00 Byte)\n",
      "_________________________________________________________________\n"
     ]
    }
   ],
   "source": [
    "_model.summary()"
   ]
  },
  {
   "cell_type": "code",
   "execution_count": 58,
   "metadata": {},
   "outputs": [],
   "source": [
    "# 100 + 100"
   ]
  },
  {
   "cell_type": "code",
   "execution_count": 59,
   "metadata": {},
   "outputs": [
    {
     "name": "stdout",
     "output_type": "stream",
     "text": [
      "Epoch 1/100\n",
      "107/107 [==============================] - 22s 203ms/step - loss: 0.6516\n",
      "Epoch 2/100\n",
      "107/107 [==============================] - 22s 203ms/step - loss: 0.4982\n",
      "Epoch 3/100\n",
      "107/107 [==============================] - 22s 204ms/step - loss: 0.4249\n",
      "Epoch 4/100\n",
      "107/107 [==============================] - 22s 204ms/step - loss: 0.3754\n",
      "Epoch 5/100\n",
      "107/107 [==============================] - 22s 204ms/step - loss: 0.3381\n",
      "Epoch 6/100\n",
      "107/107 [==============================] - 22s 204ms/step - loss: 0.3061\n",
      "Epoch 7/100\n",
      "107/107 [==============================] - 22s 204ms/step - loss: 0.2833\n",
      "Epoch 8/100\n",
      "107/107 [==============================] - 22s 203ms/step - loss: 0.2660\n",
      "Epoch 9/100\n",
      "107/107 [==============================] - 22s 203ms/step - loss: 0.2450\n",
      "Epoch 10/100\n",
      "107/107 [==============================] - 22s 204ms/step - loss: 0.2316\n",
      "Epoch 11/100\n",
      "107/107 [==============================] - 22s 203ms/step - loss: 0.2170\n",
      "Epoch 12/100\n",
      "107/107 [==============================] - 22s 203ms/step - loss: 0.2092\n",
      "Epoch 13/100\n",
      "107/107 [==============================] - 22s 203ms/step - loss: 0.2002\n",
      "Epoch 14/100\n",
      "107/107 [==============================] - 22s 203ms/step - loss: 0.1893\n",
      "Epoch 15/100\n",
      "107/107 [==============================] - 22s 203ms/step - loss: 0.1825\n",
      "Epoch 16/100\n",
      "107/107 [==============================] - 22s 206ms/step - loss: 0.1772\n",
      "Epoch 17/100\n",
      "107/107 [==============================] - 22s 207ms/step - loss: 0.1743\n",
      "Epoch 18/100\n",
      "107/107 [==============================] - 22s 205ms/step - loss: 0.1666\n",
      "Epoch 19/100\n",
      "107/107 [==============================] - 22s 205ms/step - loss: 0.1594\n",
      "Epoch 20/100\n",
      "107/107 [==============================] - 22s 205ms/step - loss: 0.1569\n",
      "Epoch 21/100\n",
      "107/107 [==============================] - 22s 205ms/step - loss: 0.1511\n",
      "Epoch 22/100\n",
      "107/107 [==============================] - 22s 206ms/step - loss: 0.1462\n",
      "Epoch 23/100\n",
      "107/107 [==============================] - 22s 206ms/step - loss: 0.1460\n",
      "Epoch 24/100\n",
      "107/107 [==============================] - 22s 206ms/step - loss: 0.1405\n",
      "Epoch 25/100\n",
      "107/107 [==============================] - 22s 207ms/step - loss: 0.1371\n",
      "Epoch 26/100\n",
      "107/107 [==============================] - 22s 205ms/step - loss: 0.1325\n",
      "Epoch 27/100\n",
      "107/107 [==============================] - 22s 206ms/step - loss: 0.1316\n",
      "Epoch 28/100\n",
      "107/107 [==============================] - 22s 205ms/step - loss: 0.1306\n",
      "Epoch 29/100\n",
      "107/107 [==============================] - 22s 205ms/step - loss: 0.1245\n",
      "Epoch 30/100\n",
      "107/107 [==============================] - 22s 207ms/step - loss: 0.1227\n",
      "Epoch 31/100\n",
      "107/107 [==============================] - 22s 205ms/step - loss: 0.1210\n",
      "Epoch 32/100\n",
      "107/107 [==============================] - 22s 205ms/step - loss: 0.1188\n",
      "Epoch 33/100\n",
      "107/107 [==============================] - 22s 206ms/step - loss: 0.1164\n",
      "Epoch 34/100\n",
      "107/107 [==============================] - 22s 205ms/step - loss: 0.1137\n",
      "Epoch 35/100\n",
      "107/107 [==============================] - 22s 205ms/step - loss: 0.1117\n",
      "Epoch 36/100\n",
      "107/107 [==============================] - 22s 205ms/step - loss: 0.1093\n",
      "Epoch 37/100\n",
      "107/107 [==============================] - 22s 206ms/step - loss: 0.1073\n",
      "Epoch 38/100\n",
      "107/107 [==============================] - 22s 206ms/step - loss: 0.1070\n",
      "Epoch 39/100\n",
      "107/107 [==============================] - 22s 206ms/step - loss: 0.1059\n",
      "Epoch 40/100\n",
      "107/107 [==============================] - 22s 206ms/step - loss: 0.1039\n",
      "Epoch 41/100\n",
      "107/107 [==============================] - 22s 205ms/step - loss: 0.1023\n",
      "Epoch 42/100\n",
      "107/107 [==============================] - 22s 206ms/step - loss: 0.1003\n",
      "Epoch 43/100\n",
      "107/107 [==============================] - 22s 206ms/step - loss: 0.0990\n",
      "Epoch 44/100\n",
      "107/107 [==============================] - 22s 205ms/step - loss: 0.1007\n",
      "Epoch 45/100\n",
      "107/107 [==============================] - 22s 206ms/step - loss: 0.0970\n",
      "Epoch 46/100\n",
      "107/107 [==============================] - 22s 205ms/step - loss: 0.0951\n",
      "Epoch 47/100\n",
      "107/107 [==============================] - 22s 205ms/step - loss: 0.0951\n",
      "Epoch 48/100\n",
      "107/107 [==============================] - 22s 205ms/step - loss: 0.0939\n",
      "Epoch 49/100\n",
      "107/107 [==============================] - 22s 205ms/step - loss: 0.0911\n",
      "Epoch 50/100\n",
      "107/107 [==============================] - 22s 205ms/step - loss: 0.0913\n",
      "Epoch 51/100\n",
      "107/107 [==============================] - 22s 205ms/step - loss: 0.0907\n",
      "Epoch 52/100\n",
      "107/107 [==============================] - 22s 206ms/step - loss: 0.0903\n",
      "Epoch 53/100\n",
      "107/107 [==============================] - 22s 206ms/step - loss: 0.0882\n",
      "Epoch 54/100\n",
      "107/107 [==============================] - 22s 205ms/step - loss: 0.0873\n",
      "Epoch 55/100\n",
      "107/107 [==============================] - 22s 205ms/step - loss: 0.0862\n",
      "Epoch 56/100\n",
      "107/107 [==============================] - 22s 205ms/step - loss: 0.0860\n",
      "Epoch 57/100\n",
      "107/107 [==============================] - 22s 205ms/step - loss: 0.0874\n",
      "Epoch 58/100\n",
      "107/107 [==============================] - 22s 206ms/step - loss: 0.0830\n",
      "Epoch 59/100\n",
      "107/107 [==============================] - 22s 205ms/step - loss: 0.0831\n",
      "Epoch 60/100\n",
      "107/107 [==============================] - 22s 205ms/step - loss: 0.0823\n",
      "Epoch 61/100\n",
      "107/107 [==============================] - 22s 205ms/step - loss: 0.0810\n",
      "Epoch 62/100\n",
      "107/107 [==============================] - 22s 205ms/step - loss: 0.0787\n",
      "Epoch 63/100\n",
      "107/107 [==============================] - 22s 205ms/step - loss: 0.0796\n",
      "Epoch 64/100\n",
      "107/107 [==============================] - 22s 205ms/step - loss: 0.0781\n",
      "Epoch 65/100\n",
      "107/107 [==============================] - 22s 205ms/step - loss: 0.0798\n",
      "Epoch 66/100\n",
      "107/107 [==============================] - 22s 205ms/step - loss: 0.0775\n",
      "Epoch 67/100\n",
      "107/107 [==============================] - 22s 205ms/step - loss: 0.0785\n",
      "Epoch 68/100\n",
      "107/107 [==============================] - 22s 205ms/step - loss: 0.0764\n",
      "Epoch 69/100\n",
      "107/107 [==============================] - 22s 205ms/step - loss: 0.0766\n",
      "Epoch 70/100\n",
      "107/107 [==============================] - 22s 205ms/step - loss: 0.0755\n",
      "Epoch 71/100\n",
      "107/107 [==============================] - 22s 206ms/step - loss: 0.0752\n",
      "Epoch 72/100\n",
      "107/107 [==============================] - 22s 205ms/step - loss: 0.0740\n",
      "Epoch 73/100\n",
      "107/107 [==============================] - 22s 206ms/step - loss: 0.0750\n",
      "Epoch 74/100\n",
      "107/107 [==============================] - 22s 206ms/step - loss: 0.0732\n",
      "Epoch 75/100\n",
      "107/107 [==============================] - 22s 206ms/step - loss: 0.0732\n",
      "Epoch 76/100\n",
      "107/107 [==============================] - 22s 205ms/step - loss: 0.0712\n",
      "Epoch 77/100\n",
      "107/107 [==============================] - 22s 205ms/step - loss: 0.0697\n",
      "Epoch 78/100\n",
      "107/107 [==============================] - 22s 205ms/step - loss: 0.0699\n",
      "Epoch 79/100\n",
      "107/107 [==============================] - 22s 206ms/step - loss: 0.0699\n",
      "Epoch 80/100\n",
      "107/107 [==============================] - 22s 205ms/step - loss: 0.0687\n",
      "Epoch 81/100\n",
      "107/107 [==============================] - 22s 205ms/step - loss: 0.0683\n",
      "Epoch 82/100\n",
      "107/107 [==============================] - 22s 205ms/step - loss: 0.0679\n",
      "Epoch 83/100\n",
      "107/107 [==============================] - 22s 205ms/step - loss: 0.0682\n",
      "Epoch 84/100\n",
      "107/107 [==============================] - 22s 205ms/step - loss: 0.0671\n",
      "Epoch 85/100\n",
      "107/107 [==============================] - 22s 205ms/step - loss: 0.0670\n",
      "Epoch 86/100\n",
      "107/107 [==============================] - 22s 205ms/step - loss: 0.0662\n",
      "Epoch 87/100\n",
      "107/107 [==============================] - 22s 205ms/step - loss: 0.0657\n",
      "Epoch 88/100\n",
      "107/107 [==============================] - 22s 205ms/step - loss: 0.0659\n",
      "Epoch 89/100\n",
      "107/107 [==============================] - 22s 205ms/step - loss: 0.0653\n",
      "Epoch 90/100\n",
      "107/107 [==============================] - 22s 206ms/step - loss: 0.0667\n",
      "Epoch 91/100\n",
      "107/107 [==============================] - 22s 205ms/step - loss: 0.0652\n",
      "Epoch 92/100\n",
      "107/107 [==============================] - 22s 205ms/step - loss: 0.0632\n",
      "Epoch 93/100\n",
      "107/107 [==============================] - 22s 205ms/step - loss: 0.0632\n",
      "Epoch 94/100\n",
      "107/107 [==============================] - 22s 205ms/step - loss: 0.0641\n",
      "Epoch 95/100\n",
      "107/107 [==============================] - 22s 204ms/step - loss: 0.0628\n",
      "Epoch 96/100\n",
      "107/107 [==============================] - 22s 205ms/step - loss: 0.0626\n",
      "Epoch 97/100\n",
      "107/107 [==============================] - 22s 205ms/step - loss: 0.0615\n",
      "Epoch 98/100\n",
      "107/107 [==============================] - 22s 205ms/step - loss: 0.0619\n",
      "Epoch 99/100\n",
      "107/107 [==============================] - 22s 205ms/step - loss: 0.0607\n",
      "Epoch 100/100\n",
      "107/107 [==============================] - 22s 204ms/step - loss: 0.0608\n"
     ]
    }
   ],
   "source": [
    "_history = _model.fit(\n",
    "    _x_train,\n",
    "    _y_train_sc,\n",
    "    epochs=100,\n",
    "    batch_size=512\n",
    ")"
   ]
  },
  {
   "cell_type": "code",
   "execution_count": 60,
   "metadata": {},
   "outputs": [],
   "source": [
    "_history_df = pd.DataFrame.from_dict(_history.history)"
   ]
  },
  {
   "cell_type": "code",
   "execution_count": 61,
   "metadata": {},
   "outputs": [
    {
     "data": {
      "text/plain": [
       "<Axes: >"
      ]
     },
     "execution_count": 61,
     "metadata": {},
     "output_type": "execute_result"
    },
    {
     "data": {
      "image/png": "[encoded data removed]",
      "text/plain": [
       "<Figure size 640x480 with 1 Axes>"
      ]
     },
     "metadata": {},
     "output_type": "display_data"
    }
   ],
   "source": [
    "_history_df.plot()"
   ]
  },
  {
   "cell_type": "code",
   "execution_count": 62,
   "metadata": {},
   "outputs": [
    {
     "name": "stdout",
     "output_type": "stream",
     "text": [
      "1704/1704 [==============================] - 27s 16ms/step\n",
      "731/731 [==============================] - 12s 16ms/step\n"
     ]
    }
   ],
   "source": [
    "_y_train_hat_sc = _model.predict(_x_train)\n",
    "_y_test_hat_sc = _model.predict(_x_test)"
   ]
  },
  {
   "cell_type": "code",
   "execution_count": 63,
   "metadata": {},
   "outputs": [],
   "source": [
    "_y_train_hat = _scaler.inverse_transform(_y_train_hat_sc)\n",
    "_y_test_hat = _scaler.inverse_transform(_y_test_hat_sc)"
   ]
  },
  {
   "cell_type": "code",
   "execution_count": 67,
   "metadata": {},
   "outputs": [
    {
     "data": {
      "image/png": "[encoded data removed]",
      "text/plain": [
       "<Figure size 640x480 with 1 Axes>"
      ]
     },
     "metadata": {},
     "output_type": "display_data"
    }
   ],
   "source": [
    "from matplotlib import pyplot as plt\n",
    "\n",
    "plt.scatter(_y_test, _y_test_hat)\n",
    "plt.scatter(_y_train, _y_train_hat)\n",
    "\n",
    "plt.show()"
   ]
  },
  {
   "cell_type": "code",
   "execution_count": 70,
   "metadata": {},
   "outputs": [],
   "source": [
    "_model.save(\"C:\\\\Temp\\\\cnn_model.keras\", save_format=\"keras\")"
   ]
  },
  {
   "cell_type": "code",
   "execution_count": null,
   "metadata": {},
   "outputs": [],
   "source": []
  }
 ],
 "metadata": {
  "kernelspec": {
   "display_name": "Python 3 (ipykernel)",
   "language": "python",
   "name": "python3"
  },
  "language_info": {
   "codemirror_mode": {
    "name": "ipython",
    "version": 3
   },
   "file_extension": ".py",
   "mimetype": "text/x-python",
   "name": "python",
   "nbconvert_exporter": "python",
   "pygments_lexer": "ipython3",
   "version": "3.10.6"
  }
 },
 "nbformat": 4,
 "nbformat_minor": 4
}
