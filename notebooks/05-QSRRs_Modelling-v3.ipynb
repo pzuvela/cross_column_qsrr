{
 "cells": [
  {
   "cell_type": "markdown",
   "metadata": {},
   "source": [
    "# Imports"
   ]
  },
  {
   "cell_type": "code",
   "execution_count": 88,
   "metadata": {},
   "outputs": [],
   "source": [
    "import os\n",
    "import pickle\n",
    "from typing import Tuple\n",
    "\n",
    "import pandas as pd\n",
    "from pandas import DataFrame\n",
    "\n",
    "import numpy as np\n",
    "from numpy import ndarray\n",
    "\n",
    "from sklearn.model_selection import train_test_split\n",
    "\n",
    "from keras.models import Sequential\n",
    "from keras.layers import (\n",
    "    Conv2D,\n",
    "    Dense,\n",
    "    Dropout,\n",
    "    MaxPooling2D,\n",
    "    Flatten\n",
    ")\n",
    "from keras.optimizers import Adam"
   ]
  },
  {
   "cell_type": "markdown",
   "metadata": {},
   "source": [
    "# Code"
   ]
  },
  {
   "cell_type": "code",
   "execution_count": 89,
   "metadata": {},
   "outputs": [],
   "source": [
    "def get_model(\n",
    "    input_shape: Tuple[int, ...]\n",
    "):\n",
    "    \n",
    "    _model: Sequential = Sequential()\n",
    "    \n",
    "    _model.add(\n",
    "        Conv2D(\n",
    "            filters=64,\n",
    "            kernel_size=(3, 3),\n",
    "            input_shape=input_shape,\n",
    "            activation='relu'\n",
    "        )\n",
    "    )\n",
    "    _model.add(\n",
    "        MaxPooling2D(pool_size=(2, 2))\n",
    "    )\n",
    "        \n",
    "    _model.add(Flatten())\n",
    "\n",
    "    _model.add(Dense(512, activation='relu'))\n",
    "        \n",
    "    _model.add(Dropout(0.1))\n",
    "    \n",
    "    _model.add(Dense(256, activation='relu'))\n",
    "    _model.add(Dense(128, activation='relu'))\n",
    "    \n",
    "    _model.add(Dense(1, activation='linear'))\n",
    "\n",
    "    _model.compile(\n",
    "        loss='mean_squared_error',\n",
    "        optimizer=Adam(0.01)\n",
    "    )\n",
    "\n",
    "    return _model"
   ]
  },
  {
   "cell_type": "markdown",
   "metadata": {},
   "source": [
    "# Load Data"
   ]
  },
  {
   "cell_type": "code",
   "execution_count": 57,
   "metadata": {},
   "outputs": [],
   "source": [
    "CROSS_COLUMN_QSRR_PATH: str = os.path.dirname(os.getcwd())\n",
    "DATA_PATH: str = os.path.join(CROSS_COLUMN_QSRR_PATH, \"data\")\n",
    "SMRT_DATASET: str = os.path.join(DATA_PATH, \"2023-11-18-smrt_dataset.csv\")\n",
    "SMRT_DATASET_SMILES: str = os.path.join(DATA_PATH, \"2023-11-18-smrt_dataset_smiles.csv\")\n",
    "SMRT_DATASET_ENCODED_SMILES: str = os.path.join(DATA_PATH, \"2023-11-18-smrt_dataset_encoded_smiles.pkl\")"
   ]
  },
  {
   "cell_type": "code",
   "execution_count": 58,
   "metadata": {},
   "outputs": [],
   "source": [
    "_data_df = pd.read_csv(\n",
    "    SMRT_DATASET_SMILES, \n",
    "    delimiter=','\n",
    ")"
   ]
  },
  {
   "cell_type": "code",
   "execution_count": 59,
   "metadata": {},
   "outputs": [
    {
     "data": {
      "text/html": [
       "<div>\n",
       "<style scoped>\n",
       "    .dataframe tbody tr th:only-of-type {\n",
       "        vertical-align: middle;\n",
       "    }\n",
       "\n",
       "    .dataframe tbody tr th {\n",
       "        vertical-align: top;\n",
       "    }\n",
       "\n",
       "    .dataframe thead th {\n",
       "        text-align: right;\n",
       "    }\n",
       "</style>\n",
       "<table border=\"1\" class=\"dataframe\">\n",
       "  <thead>\n",
       "    <tr style=\"text-align: right;\">\n",
       "      <th></th>\n",
       "      <th>smiles</th>\n",
       "      <th>rt</th>\n",
       "    </tr>\n",
       "  </thead>\n",
       "  <tbody>\n",
       "    <tr>\n",
       "      <th>0</th>\n",
       "      <td>COC(=O)N1CCN(C(=O)Cc2ccc(Cl)c(Cl)c2)[C@H](CN2C...</td>\n",
       "      <td>687.8</td>\n",
       "    </tr>\n",
       "    <tr>\n",
       "      <th>1</th>\n",
       "      <td>CCN1CCC[C@@H]1CN=C(O)c1cc(S(=O)(=O)CC)c(N)cc1OC</td>\n",
       "      <td>590.7</td>\n",
       "    </tr>\n",
       "    <tr>\n",
       "      <th>2</th>\n",
       "      <td>Oc1cccc2c(O)nccc12</td>\n",
       "      <td>583.6</td>\n",
       "    </tr>\n",
       "    <tr>\n",
       "      <th>3</th>\n",
       "      <td>OC1=NCC2(CCN(CCc3ccccc3)CC2)O1</td>\n",
       "      <td>579.0</td>\n",
       "    </tr>\n",
       "    <tr>\n",
       "      <th>4</th>\n",
       "      <td>CC(C)(C)NC[C@H](O)COc1cccc2nc(O)[nH]c12</td>\n",
       "      <td>603.1</td>\n",
       "    </tr>\n",
       "    <tr>\n",
       "      <th>...</th>\n",
       "      <td>...</td>\n",
       "      <td>...</td>\n",
       "    </tr>\n",
       "    <tr>\n",
       "      <th>77890</th>\n",
       "      <td>CCOc1ccc(OCC)c(NS(=O)(=O)c2ccc(/C=C/c3onc(C)c3...</td>\n",
       "      <td>946.4</td>\n",
       "    </tr>\n",
       "    <tr>\n",
       "      <th>77891</th>\n",
       "      <td>COCCCN=C(O)N1C[C@@H]2CN(S(=O)(=O)c3cccc(F)c3)C...</td>\n",
       "      <td>653.1</td>\n",
       "    </tr>\n",
       "    <tr>\n",
       "      <th>77892</th>\n",
       "      <td>COCCN=C(O)N1C[C@@H]2CN(S(=O)(=O)c3cccc(C)c3)C[...</td>\n",
       "      <td>648.2</td>\n",
       "    </tr>\n",
       "    <tr>\n",
       "      <th>77893</th>\n",
       "      <td>Cc1ccc(S(=O)(=O)N2C[C@@H]3CN(C(O)=Nc4ccccc4C)C...</td>\n",
       "      <td>783.9</td>\n",
       "    </tr>\n",
       "    <tr>\n",
       "      <th>77894</th>\n",
       "      <td>O=C1[C@H]2CNC[C@H]2C(=O)N1CCc1ccccc1</td>\n",
       "      <td>603.7</td>\n",
       "    </tr>\n",
       "  </tbody>\n",
       "</table>\n",
       "<p>77895 rows × 2 columns</p>\n",
       "</div>"
      ],
      "text/plain": [
       "                                                  smiles     rt\n",
       "0      COC(=O)N1CCN(C(=O)Cc2ccc(Cl)c(Cl)c2)[C@H](CN2C...  687.8\n",
       "1        CCN1CCC[C@@H]1CN=C(O)c1cc(S(=O)(=O)CC)c(N)cc1OC  590.7\n",
       "2                                     Oc1cccc2c(O)nccc12  583.6\n",
       "3                         OC1=NCC2(CCN(CCc3ccccc3)CC2)O1  579.0\n",
       "4                CC(C)(C)NC[C@H](O)COc1cccc2nc(O)[nH]c12  603.1\n",
       "...                                                  ...    ...\n",
       "77890  CCOc1ccc(OCC)c(NS(=O)(=O)c2ccc(/C=C/c3onc(C)c3...  946.4\n",
       "77891  COCCCN=C(O)N1C[C@@H]2CN(S(=O)(=O)c3cccc(F)c3)C...  653.1\n",
       "77892  COCCN=C(O)N1C[C@@H]2CN(S(=O)(=O)c3cccc(C)c3)C[...  648.2\n",
       "77893  Cc1ccc(S(=O)(=O)N2C[C@@H]3CN(C(O)=Nc4ccccc4C)C...  783.9\n",
       "77894               O=C1[C@H]2CNC[C@H]2C(=O)N1CCc1ccccc1  603.7\n",
       "\n",
       "[77895 rows x 2 columns]"
      ]
     },
     "metadata": {},
     "output_type": "display_data"
    }
   ],
   "source": [
    "display(_data_df)"
   ]
  },
  {
   "cell_type": "code",
   "execution_count": 60,
   "metadata": {},
   "outputs": [],
   "source": [
    "with open(SMRT_DATASET_ENCODED_SMILES, \"rb\") as f:\n",
    "    _encoded_smiles_arr: ndarray = pickle.load(f)"
   ]
  },
  {
   "cell_type": "code",
   "execution_count": 61,
   "metadata": {},
   "outputs": [
    {
     "data": {
      "text/plain": [
       "array([[[0., 0., 0., ..., 0., 0., 0.],\n",
       "        [0., 0., 0., ..., 0., 0., 0.],\n",
       "        [0., 0., 0., ..., 0., 0., 0.],\n",
       "        ...,\n",
       "        [1., 0., 0., ..., 0., 0., 0.],\n",
       "        [1., 0., 0., ..., 0., 0., 0.],\n",
       "        [1., 0., 0., ..., 0., 0., 0.]],\n",
       "\n",
       "       [[0., 0., 0., ..., 0., 0., 0.],\n",
       "        [0., 0., 0., ..., 0., 0., 0.],\n",
       "        [0., 0., 0., ..., 0., 0., 0.],\n",
       "        ...,\n",
       "        [1., 0., 0., ..., 0., 0., 0.],\n",
       "        [1., 0., 0., ..., 0., 0., 0.],\n",
       "        [1., 0., 0., ..., 0., 0., 0.]],\n",
       "\n",
       "       [[0., 0., 0., ..., 0., 0., 0.],\n",
       "        [0., 0., 0., ..., 0., 0., 0.],\n",
       "        [0., 0., 0., ..., 0., 0., 0.],\n",
       "        ...,\n",
       "        [1., 0., 0., ..., 0., 0., 0.],\n",
       "        [1., 0., 0., ..., 0., 0., 0.],\n",
       "        [1., 0., 0., ..., 0., 0., 0.]],\n",
       "\n",
       "       ...,\n",
       "\n",
       "       [[0., 0., 0., ..., 0., 0., 0.],\n",
       "        [0., 0., 0., ..., 0., 0., 0.],\n",
       "        [0., 0., 0., ..., 0., 0., 0.],\n",
       "        ...,\n",
       "        [1., 0., 0., ..., 0., 0., 0.],\n",
       "        [1., 0., 0., ..., 0., 0., 0.],\n",
       "        [1., 0., 0., ..., 0., 0., 0.]],\n",
       "\n",
       "       [[0., 0., 0., ..., 0., 0., 0.],\n",
       "        [0., 0., 0., ..., 0., 0., 0.],\n",
       "        [0., 0., 0., ..., 0., 0., 0.],\n",
       "        ...,\n",
       "        [1., 0., 0., ..., 0., 0., 0.],\n",
       "        [1., 0., 0., ..., 0., 0., 0.],\n",
       "        [1., 0., 0., ..., 0., 0., 0.]],\n",
       "\n",
       "       [[0., 0., 0., ..., 0., 0., 0.],\n",
       "        [0., 0., 0., ..., 0., 0., 0.],\n",
       "        [0., 0., 0., ..., 0., 0., 0.],\n",
       "        ...,\n",
       "        [1., 0., 0., ..., 0., 0., 0.],\n",
       "        [1., 0., 0., ..., 0., 0., 0.],\n",
       "        [1., 0., 0., ..., 0., 0., 0.]]])"
      ]
     },
     "execution_count": 61,
     "metadata": {},
     "output_type": "execute_result"
    }
   ],
   "source": [
    "_encoded_smiles_arr"
   ]
  },
  {
   "cell_type": "markdown",
   "metadata": {},
   "source": [
    "# Train/Test Split"
   ]
  },
  {
   "cell_type": "code",
   "execution_count": 62,
   "metadata": {},
   "outputs": [],
   "source": [
    "TEST_RATIO: float = 0.3\n",
    "RANDOM_STATE: int = 12345"
   ]
  },
  {
   "cell_type": "code",
   "execution_count": 63,
   "metadata": {},
   "outputs": [],
   "source": [
    "_y_train, _y_test, _x_train, _x_test = train_test_split(\n",
    "    _data_df[\"rt\"],\n",
    "    _encoded_smiles_arr,\n",
    "    test_size=TEST_RATIO,\n",
    "    random_state=RANDOM_STATE\n",
    ")"
   ]
  },
  {
   "cell_type": "code",
   "execution_count": 64,
   "metadata": {},
   "outputs": [
    {
     "data": {
      "text/plain": [
       "(54526, 90, 54)"
      ]
     },
     "metadata": {},
     "output_type": "display_data"
    },
    {
     "data": {
      "text/plain": [
       "(23369, 90, 54)"
      ]
     },
     "metadata": {},
     "output_type": "display_data"
    }
   ],
   "source": [
    "display(_x_train.shape)\n",
    "display(_x_test.shape)"
   ]
  },
  {
   "cell_type": "code",
   "execution_count": 65,
   "metadata": {},
   "outputs": [
    {
     "data": {
      "text/plain": [
       "(54526,)"
      ]
     },
     "metadata": {},
     "output_type": "display_data"
    },
    {
     "data": {
      "text/plain": [
       "(23369,)"
      ]
     },
     "metadata": {},
     "output_type": "display_data"
    }
   ],
   "source": [
    "display(_y_train.shape)\n",
    "display(_y_test.shape)"
   ]
  },
  {
   "cell_type": "code",
   "execution_count": 69,
   "metadata": {},
   "outputs": [],
   "source": [
    "max_length, vocabulary_size = _x_train.shape[1:]"
   ]
  },
  {
   "cell_type": "code",
   "execution_count": 76,
   "metadata": {},
   "outputs": [],
   "source": [
    "_x_train = _x_train.reshape(_x_train.shape[0], max_length, vocabulary_size, 1)\n",
    "_x_test = _x_test.reshape(_x_test.shape[0], max_length, vocabulary_size, 1)\n",
    "_input_shape = (max_length, vocabulary_size, 1)"
   ]
  },
  {
   "cell_type": "code",
   "execution_count": 77,
   "metadata": {},
   "outputs": [
    {
     "data": {
      "text/plain": [
       "(90, 54, 1)"
      ]
     },
     "metadata": {},
     "output_type": "display_data"
    }
   ],
   "source": [
    "display(_input_shape)"
   ]
  },
  {
   "cell_type": "markdown",
   "metadata": {},
   "source": [
    "# Get & Train Model"
   ]
  },
  {
   "cell_type": "code",
   "execution_count": 90,
   "metadata": {},
   "outputs": [],
   "source": [
    "_model = get_model(input_shape=_input_shape)"
   ]
  },
  {
   "cell_type": "code",
   "execution_count": 95,
   "metadata": {},
   "outputs": [
    {
     "name": "stdout",
     "output_type": "stream",
     "text": [
      "Model: \"sequential_10\"\n",
      "_________________________________________________________________\n",
      " Layer (type)                Output Shape              Param #   \n",
      "=================================================================\n",
      " conv2d_10 (Conv2D)          (None, 88, 52, 64)        640       \n",
      "                                                                 \n",
      " max_pooling2d_6 (MaxPoolin  (None, 44, 26, 64)        0         \n",
      " g2D)                                                            \n",
      "                                                                 \n",
      " flatten_6 (Flatten)         (None, 73216)             0         \n",
      "                                                                 \n",
      " dense_15 (Dense)            (None, 512)               37487104  \n",
      "                                                                 \n",
      " dropout_3 (Dropout)         (None, 512)               0         \n",
      "                                                                 \n",
      " dense_16 (Dense)            (None, 256)               131328    \n",
      "                                                                 \n",
      " dense_17 (Dense)            (None, 128)               32896     \n",
      "                                                                 \n",
      " dense_18 (Dense)            (None, 1)                 129       \n",
      "                                                                 \n",
      "=================================================================\n",
      "Total params: 37652097 (143.63 MB)\n",
      "Trainable params: 37652097 (143.63 MB)\n",
      "Non-trainable params: 0 (0.00 Byte)\n",
      "_________________________________________________________________\n"
     ]
    }
   ],
   "source": [
    "_model.summary()"
   ]
  },
  {
   "cell_type": "code",
   "execution_count": null,
   "metadata": {},
   "outputs": [],
   "source": [
    "# 10 + 10 + 20 + "
   ]
  },
  {
   "cell_type": "code",
   "execution_count": 94,
   "metadata": {},
   "outputs": [
    {
     "name": "stdout",
     "output_type": "stream",
     "text": [
      "Epoch 1/20\n",
      "852/852 [==============================] - 368s 432ms/step - loss: 2602.7439\n",
      "Epoch 2/20\n",
      "852/852 [==============================] - 368s 432ms/step - loss: 2529.6755\n",
      "Epoch 3/20\n",
      "852/852 [==============================] - 368s 432ms/step - loss: 2558.2959\n",
      "Epoch 4/20\n",
      "852/852 [==============================] - 368s 432ms/step - loss: 2502.0422\n",
      "Epoch 5/20\n",
      "852/852 [==============================] - 368s 432ms/step - loss: 2481.9949\n",
      "Epoch 6/20\n",
      "852/852 [==============================] - 368s 432ms/step - loss: 2500.6633\n",
      "Epoch 7/20\n",
      "852/852 [==============================] - 368s 432ms/step - loss: 2415.5623\n",
      "Epoch 8/20\n",
      "852/852 [==============================] - 368s 432ms/step - loss: 2438.8772\n",
      "Epoch 9/20\n",
      "852/852 [==============================] - 368s 432ms/step - loss: 2408.9143\n",
      "Epoch 10/20\n",
      "852/852 [==============================] - 368s 432ms/step - loss: 2420.5403\n",
      "Epoch 11/20\n",
      "852/852 [==============================] - 368s 432ms/step - loss: 2385.0234\n",
      "Epoch 12/20\n",
      "852/852 [==============================] - 368s 432ms/step - loss: 2338.3691\n",
      "Epoch 13/20\n",
      "852/852 [==============================] - 369s 433ms/step - loss: 2309.3577\n",
      "Epoch 14/20\n",
      "852/852 [==============================] - 368s 432ms/step - loss: 2322.9346\n",
      "Epoch 15/20\n",
      "852/852 [==============================] - 368s 432ms/step - loss: 2284.5293\n",
      "Epoch 16/20\n",
      "852/852 [==============================] - 368s 432ms/step - loss: 2299.0056\n",
      "Epoch 17/20\n",
      "852/852 [==============================] - 369s 433ms/step - loss: 2324.5273\n",
      "Epoch 18/20\n",
      "852/852 [==============================] - 370s 434ms/step - loss: 2276.2014\n",
      "Epoch 19/20\n",
      "852/852 [==============================] - 371s 435ms/step - loss: 2268.1787\n",
      "Epoch 20/20\n",
      "852/852 [==============================] - 371s 436ms/step - loss: 2268.8628\n"
     ]
    }
   ],
   "source": [
    "_history = _model.fit(\n",
    "    _x_train,\n",
    "    _y_train,\n",
    "    epochs=20,\n",
    "    batch_size=64\n",
    ")"
   ]
  },
  {
   "cell_type": "code",
   "execution_count": null,
   "metadata": {},
   "outputs": [],
   "source": []
  }
 ],
 "metadata": {
  "kernelspec": {
   "display_name": "Python 3 (ipykernel)",
   "language": "python",
   "name": "python3"
  },
  "language_info": {
   "codemirror_mode": {
    "name": "ipython",
    "version": 3
   },
   "file_extension": ".py",
   "mimetype": "text/x-python",
   "name": "python",
   "nbconvert_exporter": "python",
   "pygments_lexer": "ipython3",
   "version": "3.9.10"
  }
 },
 "nbformat": 4,
 "nbformat_minor": 4
}
