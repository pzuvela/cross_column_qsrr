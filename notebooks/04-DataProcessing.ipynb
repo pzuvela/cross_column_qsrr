{
 "cells": [
  {
   "cell_type": "markdown",
   "metadata": {},
   "source": [
    "# Imports"
   ]
  },
  {
   "cell_type": "code",
   "execution_count": 1,
   "metadata": {
    "ExecuteTime": {
     "start_time": "2023-11-19T04:12:01.355951Z"
    }
   },
   "outputs": [],
   "source": [
    "import os\n",
    "import sys\n",
    "import re\n",
    "import pickle\n",
    "import random\n",
    "import collections\n",
    "from enum import (\n",
    "    Enum,\n",
    "    unique\n",
    ")\n",
    "from typing import (\n",
    "    Dict,\n",
    "    List,\n",
    "    Optional\n",
    ")\n",
    "\n",
    "import numpy as np\n",
    "from numpy import ndarray\n",
    "\n",
    "import pandas as pd\n",
    "from pandas import DataFrame\n",
    "\n",
    "from matplotlib import pyplot as plt"
   ]
  },
  {
   "cell_type": "code",
   "execution_count": 2,
   "metadata": {},
   "outputs": [],
   "source": [
    "# Place the package on the path\n",
    "\n",
    "QSRR_PATH: str = os.path.join(os.path.dirname(os.getcwd()))\n",
    "\n",
    "if QSRR_PATH not in sys.path:\n",
    "    sys.path.insert(0, QSRR_PATH)"
   ]
  },
  {
   "cell_type": "code",
   "execution_count": 3,
   "metadata": {},
   "outputs": [],
   "source": [
    "from qsrr.enums import MoleculeEncodingType\n",
    "from qsrr.process import (\n",
    "    MoleculeEncoder,\n",
    "    MoleculeParser\n",
    ")"
   ]
  },
  {
   "cell_type": "markdown",
   "metadata": {},
   "source": [
    "# Load and Process Data"
   ]
  },
  {
   "cell_type": "code",
   "execution_count": 4,
   "metadata": {},
   "outputs": [],
   "source": [
    "DATA_PATH: str = os.path.join(QSRR_PATH, \"data\")\n",
    "SMRT_DATASET: str = os.path.join(DATA_PATH, \"2023-11-18-smrt_dataset.csv\")\n",
    "SMRT_DATASET_SMILES: str = os.path.join(DATA_PATH, \"2023-11-18-smrt_dataset_smiles.csv\")\n",
    "SMRT_DATASET_ENCODED_SMILES: str = os.path.join(DATA_PATH, \"2023-11-18-smrt_dataset_encoded_smiles.pkl\")"
   ]
  },
  {
   "cell_type": "code",
   "execution_count": 5,
   "metadata": {},
   "outputs": [],
   "source": [
    "_data_df = pd.read_csv(\n",
    "    SMRT_DATASET, \n",
    "    delimiter=';'\n",
    ")"
   ]
  },
  {
   "cell_type": "code",
   "execution_count": 6,
   "metadata": {},
   "outputs": [
    {
     "data": {
      "text/html": [
       "<div>\n",
       "<style scoped>\n",
       "    .dataframe tbody tr th:only-of-type {\n",
       "        vertical-align: middle;\n",
       "    }\n",
       "\n",
       "    .dataframe tbody tr th {\n",
       "        vertical-align: top;\n",
       "    }\n",
       "\n",
       "    .dataframe thead th {\n",
       "        text-align: right;\n",
       "    }\n",
       "</style>\n",
       "<table border=\"1\" class=\"dataframe\">\n",
       "  <thead>\n",
       "    <tr style=\"text-align: right;\">\n",
       "      <th></th>\n",
       "      <th>pubchem</th>\n",
       "      <th>rt</th>\n",
       "      <th>inchi</th>\n",
       "    </tr>\n",
       "  </thead>\n",
       "  <tbody>\n",
       "    <tr>\n",
       "      <th>0</th>\n",
       "      <td>5139</td>\n",
       "      <td>93.5</td>\n",
       "      <td>InChI=1S/C3H8N2S/c1-2-6-3(4)5/h2H2,1H3,(H3,4,5)</td>\n",
       "    </tr>\n",
       "    <tr>\n",
       "      <th>1</th>\n",
       "      <td>3505</td>\n",
       "      <td>687.8</td>\n",
       "      <td>InChI=1S/C19H25Cl2N3O3/c1-27-19(26)23-8-9-24(1...</td>\n",
       "    </tr>\n",
       "    <tr>\n",
       "      <th>2</th>\n",
       "      <td>2159</td>\n",
       "      <td>590.7</td>\n",
       "      <td>InChI=1S/C17H27N3O4S/c1-4-20-8-6-7-12(20)11-19...</td>\n",
       "    </tr>\n",
       "    <tr>\n",
       "      <th>3</th>\n",
       "      <td>1340</td>\n",
       "      <td>583.6</td>\n",
       "      <td>InChI=1S/C9H7NO2/c11-8-3-1-2-7-6(8)4-5-10-9(7)...</td>\n",
       "    </tr>\n",
       "    <tr>\n",
       "      <th>4</th>\n",
       "      <td>3344</td>\n",
       "      <td>579.0</td>\n",
       "      <td>InChI=1S/C15H20N2O2/c18-14-16-12-15(19-14)7-10...</td>\n",
       "    </tr>\n",
       "  </tbody>\n",
       "</table>\n",
       "</div>"
      ],
      "text/plain": [
       "   pubchem     rt                                              inchi\n",
       "0     5139   93.5    InChI=1S/C3H8N2S/c1-2-6-3(4)5/h2H2,1H3,(H3,4,5)\n",
       "1     3505  687.8  InChI=1S/C19H25Cl2N3O3/c1-27-19(26)23-8-9-24(1...\n",
       "2     2159  590.7  InChI=1S/C17H27N3O4S/c1-4-20-8-6-7-12(20)11-19...\n",
       "3     1340  583.6  InChI=1S/C9H7NO2/c11-8-3-1-2-7-6(8)4-5-10-9(7)...\n",
       "4     3344  579.0  InChI=1S/C15H20N2O2/c18-14-16-12-15(19-14)7-10..."
      ]
     },
     "metadata": {},
     "output_type": "display_data"
    }
   ],
   "source": [
    "display(_data_df.head())"
   ]
  },
  {
   "cell_type": "code",
   "execution_count": 7,
   "metadata": {},
   "outputs": [
    {
     "data": {
      "text/plain": [
       "count    80038.00\n",
       "mean       790.22\n",
       "std        206.68\n",
       "min          0.30\n",
       "25%        661.00\n",
       "50%        773.50\n",
       "75%        912.50\n",
       "max       1471.70\n",
       "Name: rt, dtype: float64"
      ]
     },
     "execution_count": 7,
     "metadata": {},
     "output_type": "execute_result"
    }
   ],
   "source": [
    "_data_df['rt'].describe().round(2)"
   ]
  },
  {
   "cell_type": "code",
   "execution_count": 8,
   "metadata": {},
   "outputs": [
    {
     "data": {
      "image/png": "[encoded data removed]",
      "text/plain": [
       "<Figure size 640x480 with 1 Axes>"
      ]
     },
     "metadata": {},
     "output_type": "display_data"
    }
   ],
   "source": [
    "# Plot the distribution of the retention times\n",
    "plt.hist(\n",
    "    _data_df['rt'] / 60, \n",
    "    bins=50, \n",
    "    edgecolor='black'\n",
    ")\n",
    "plt.xlabel('Retention time (min)')\n",
    "plt.ylabel('Number of molecules')\n",
    "plt.show()"
   ]
  },
  {
   "cell_type": "code",
   "execution_count": 9,
   "metadata": {},
   "outputs": [],
   "source": [
    "# Filter out data with RT < 7 minutes\n",
    "_threshold_rt = 7 * 60\n",
    "_data_adjusted_df = _data_df.loc[_data_df['rt'] > _threshold_rt].reset_index(drop=True)\n",
    "_count = _data_df[_data_df['rt'] < _threshold_rt].count()"
   ]
  },
  {
   "cell_type": "code",
   "execution_count": 10,
   "metadata": {},
   "outputs": [
    {
     "name": "stdout",
     "output_type": "stream",
     "text": [
      "Number of rows with rt values less than 7 minutes:  2063\n"
     ]
    }
   ],
   "source": [
    "print(f'Number of rows with rt values less than {_threshold_rt // 60} minutes: ', _count.iloc[0])"
   ]
  },
  {
   "cell_type": "code",
   "execution_count": 11,
   "metadata": {},
   "outputs": [
    {
     "data": {
      "text/plain": [
       "count    77975.00\n",
       "mean       808.75\n",
       "std        174.67\n",
       "min        431.70\n",
       "25%        669.00\n",
       "50%        779.90\n",
       "75%        917.20\n",
       "max       1471.70\n",
       "Name: rt, dtype: float64"
      ]
     },
     "metadata": {},
     "output_type": "display_data"
    }
   ],
   "source": [
    "display(_data_adjusted_df['rt'].describe().round(2))"
   ]
  },
  {
   "cell_type": "code",
   "execution_count": 12,
   "metadata": {},
   "outputs": [
    {
     "data": {
      "image/png": "[encoded data removed]",
      "text/plain": [
       "<Figure size 640x480 with 1 Axes>"
      ]
     },
     "metadata": {},
     "output_type": "display_data"
    }
   ],
   "source": [
    "# Plot the distribution of the retention times\n",
    "plt.hist(\n",
    "    _data_adjusted_df['rt'] / 60, \n",
    "    bins=50, \n",
    "    edgecolor='black'\n",
    ")\n",
    "plt.xlabel('Retention time (min)')\n",
    "plt.ylabel('Number of molecules')\n",
    "plt.show()"
   ]
  },
  {
   "cell_type": "markdown",
   "metadata": {},
   "source": [
    "# Generate Descriptors"
   ]
  },
  {
   "cell_type": "code",
   "execution_count": 13,
   "metadata": {},
   "outputs": [
    {
     "name": "stderr",
     "output_type": "stream",
     "text": [
      "[15:01:44] Explicit valence for atom # 14 N, 4, is greater than permitted\n",
      "[15:01:44] ERROR: Explicit valence for atom # 14 N, 4, is greater than permitted\n",
      "\n",
      "[15:01:44] Explicit valence for atom # 16 N, 4, is greater than permitted\n",
      "[15:01:44] ERROR: Explicit valence for atom # 16 N, 4, is greater than permitted\n",
      "\n",
      "[15:01:44] Explicit valence for atom # 18 N, 4, is greater than permitted\n",
      "[15:01:44] ERROR: Explicit valence for atom # 18 N, 4, is greater than permitted\n",
      "\n",
      "[15:01:45] Explicit valence for atom # 17 N, 4, is greater than permitted\n",
      "[15:01:45] ERROR: Explicit valence for atom # 17 N, 4, is greater than permitted\n",
      "\n"
     ]
    },
    {
     "name": "stdout",
     "output_type": "stream",
     "text": [
      "Error while parsing inchi to SMILES...\n",
      "Error while parsing inchi to SMILES...\n",
      "Error while parsing inchi to SMILES...\n",
      "Error while parsing inchi to SMILES...\n"
     ]
    },
    {
     "name": "stderr",
     "output_type": "stream",
     "text": [
      "[15:01:45] Explicit valence for atom # 15 N, 4, is greater than permitted\n",
      "[15:01:45] ERROR: Explicit valence for atom # 15 N, 4, is greater than permitted\n",
      "\n",
      "[15:01:45] Explicit valence for atom # 16 N, 4, is greater than permitted\n",
      "[15:01:45] ERROR: Explicit valence for atom # 16 N, 4, is greater than permitted\n",
      "\n",
      "[15:01:45] Explicit valence for atom # 23 N, 4, is greater than permitted\n",
      "[15:01:45] ERROR: Explicit valence for atom # 23 N, 4, is greater than permitted\n",
      "\n",
      "[15:01:45] Explicit valence for atom # 15 N, 4, is greater than permitted\n",
      "[15:01:45] ERROR: Explicit valence for atom # 15 N, 4, is greater than permitted\n",
      "\n",
      "[15:01:45] Explicit valence for atom # 20 N, 4, is greater than permitted\n",
      "[15:01:45] ERROR: Explicit valence for atom # 20 N, 4, is greater than permitted\n",
      "\n",
      "[15:01:45] Explicit valence for atom # 15 N, 4, is greater than permitted\n",
      "[15:01:45] ERROR: Explicit valence for atom # 15 N, 4, is greater than permitted\n",
      "\n",
      "[15:01:45] Explicit valence for atom # 14 N, 4, is greater than permitted\n",
      "[15:01:45] ERROR: Explicit valence for atom # 14 N, 4, is greater than permitted\n",
      "\n",
      "[15:01:45] Explicit valence for atom # 15 N, 4, is greater than permitted\n",
      "[15:01:45] ERROR: Explicit valence for atom # 15 N, 4, is greater than permitted\n",
      "\n"
     ]
    },
    {
     "name": "stdout",
     "output_type": "stream",
     "text": [
      "Error while parsing inchi to SMILES...\n",
      "Error while parsing inchi to SMILES...\n",
      "Error while parsing inchi to SMILES...\n",
      "Error while parsing inchi to SMILES...\n",
      "Error while parsing inchi to SMILES...\n",
      "Error while parsing inchi to SMILES...\n",
      "Error while parsing inchi to SMILES...\n",
      "Error while parsing inchi to SMILES...\n"
     ]
    },
    {
     "name": "stderr",
     "output_type": "stream",
     "text": [
      "[15:01:45] Explicit valence for atom # 17 N, 4, is greater than permitted\n",
      "[15:01:45] ERROR: Explicit valence for atom # 17 N, 4, is greater than permitted\n",
      "\n",
      "[15:01:45] Explicit valence for atom # 13 N, 4, is greater than permitted\n",
      "[15:01:45] ERROR: Explicit valence for atom # 13 N, 4, is greater than permitted\n",
      "\n"
     ]
    },
    {
     "name": "stdout",
     "output_type": "stream",
     "text": [
      "Error while parsing inchi to SMILES...\n",
      "Error while parsing inchi to SMILES...\n"
     ]
    },
    {
     "name": "stderr",
     "output_type": "stream",
     "text": [
      "[15:01:46] Explicit valence for atom # 26 N, 4, is greater than permitted\n",
      "[15:01:46] ERROR: Explicit valence for atom # 26 N, 4, is greater than permitted\n",
      "\n",
      "[15:01:46] Explicit valence for atom # 16 N, 4, is greater than permitted\n",
      "[15:01:46] ERROR: Explicit valence for atom # 16 N, 4, is greater than permitted\n",
      "\n",
      "[15:01:46] Explicit valence for atom # 25 N, 4, is greater than permitted\n",
      "[15:01:46] ERROR: Explicit valence for atom # 25 N, 4, is greater than permitted\n",
      "\n",
      "[15:01:46] Explicit valence for atom # 11 N, 4, is greater than permitted\n",
      "[15:01:46] ERROR: Explicit valence for atom # 11 N, 4, is greater than permitted\n",
      "\n",
      "[15:01:46] Explicit valence for atom # 16 N, 4, is greater than permitted\n",
      "[15:01:46] ERROR: Explicit valence for atom # 16 N, 4, is greater than permitted\n",
      "\n",
      "[15:01:46] Explicit valence for atom # 18 N, 4, is greater than permitted\n",
      "[15:01:46] ERROR: Explicit valence for atom # 18 N, 4, is greater than permitted\n",
      "\n",
      "[15:01:46] Explicit valence for atom # 16 N, 4, is greater than permitted\n",
      "[15:01:46] ERROR: Explicit valence for atom # 16 N, 4, is greater than permitted\n",
      "\n",
      "[15:01:46] Explicit valence for atom # 26 N, 4, is greater than permitted\n",
      "[15:01:46] ERROR: Explicit valence for atom # 26 N, 4, is greater than permitted\n",
      "\n",
      "[15:01:46] Explicit valence for atom # 19 N, 4, is greater than permitted\n",
      "[15:01:46] ERROR: Explicit valence for atom # 19 N, 4, is greater than permitted\n",
      "\n",
      "[15:01:46] Explicit valence for atom # 16 N, 4, is greater than permitted\n",
      "[15:01:46] ERROR: Explicit valence for atom # 16 N, 4, is greater than permitted\n",
      "\n",
      "[15:01:46] Explicit valence for atom # 18 N, 4, is greater than permitted\n",
      "[15:01:46] ERROR: Explicit valence for atom # 18 N, 4, is greater than permitted\n",
      "\n",
      "[15:01:46] Explicit valence for atom # 19 N, 4, is greater than permitted\n",
      "[15:01:46] ERROR: Explicit valence for atom # 19 N, 4, is greater than permitted\n",
      "\n"
     ]
    },
    {
     "name": "stdout",
     "output_type": "stream",
     "text": [
      "Error while parsing inchi to SMILES...\n",
      "Error while parsing inchi to SMILES...\n",
      "Error while parsing inchi to SMILES...\n",
      "Error while parsing inchi to SMILES...\n",
      "Error while parsing inchi to SMILES...\n",
      "Error while parsing inchi to SMILES...\n",
      "Error while parsing inchi to SMILES...\n",
      "Error while parsing inchi to SMILES...\n",
      "Error while parsing inchi to SMILES...\n",
      "Error while parsing inchi to SMILES...\n",
      "Error while parsing inchi to SMILES...\n",
      "Error while parsing inchi to SMILES...\n"
     ]
    },
    {
     "name": "stderr",
     "output_type": "stream",
     "text": [
      "[15:01:46] Explicit valence for atom # 16 N, 4, is greater than permitted\n",
      "[15:01:46] ERROR: Explicit valence for atom # 16 N, 4, is greater than permitted\n",
      "\n",
      "[15:01:46] Explicit valence for atom # 24 N, 4, is greater than permitted\n",
      "[15:01:46] ERROR: Explicit valence for atom # 24 N, 4, is greater than permitted\n",
      "\n",
      "[15:01:46] Explicit valence for atom # 14 N, 4, is greater than permitted\n",
      "[15:01:46] ERROR: Explicit valence for atom # 14 N, 4, is greater than permitted\n",
      "\n",
      "[15:01:46] Explicit valence for atom # 21 N, 4, is greater than permitted\n",
      "[15:01:46] ERROR: Explicit valence for atom # 21 N, 4, is greater than permitted\n",
      "\n",
      "[15:01:46] Explicit valence for atom # 24 N, 4, is greater than permitted\n",
      "[15:01:46] ERROR: Explicit valence for atom # 24 N, 4, is greater than permitted\n",
      "\n",
      "[15:01:46] Explicit valence for atom # 20 N, 4, is greater than permitted\n",
      "[15:01:46] ERROR: Explicit valence for atom # 20 N, 4, is greater than permitted\n",
      "\n",
      "[15:01:46] Explicit valence for atom # 19 N, 4, is greater than permitted\n",
      "[15:01:46] ERROR: Explicit valence for atom # 19 N, 4, is greater than permitted\n",
      "\n"
     ]
    },
    {
     "name": "stdout",
     "output_type": "stream",
     "text": [
      "Error while parsing inchi to SMILES...\n",
      "Error while parsing inchi to SMILES...\n",
      "Error while parsing inchi to SMILES...\n",
      "Error while parsing inchi to SMILES...\n",
      "Error while parsing inchi to SMILES...\n",
      "Error while parsing inchi to SMILES...\n",
      "Error while parsing inchi to SMILES...\n"
     ]
    },
    {
     "name": "stderr",
     "output_type": "stream",
     "text": [
      "[15:01:46] Explicit valence for atom # 16 N, 4, is greater than permitted\n",
      "[15:01:46] ERROR: Explicit valence for atom # 16 N, 4, is greater than permitted\n",
      "\n",
      "[15:01:46] Explicit valence for atom # 14 N, 4, is greater than permitted\n",
      "[15:01:46] ERROR: Explicit valence for atom # 14 N, 4, is greater than permitted\n",
      "\n",
      "[15:01:46] Explicit valence for atom # 25 N, 4, is greater than permitted\n",
      "[15:01:46] ERROR: Explicit valence for atom # 25 N, 4, is greater than permitted\n",
      "\n",
      "[15:01:47] Explicit valence for atom # 25 N, 4, is greater than permitted\n",
      "[15:01:47] ERROR: Explicit valence for atom # 25 N, 4, is greater than permitted\n",
      "\n",
      "[15:01:47] Explicit valence for atom # 10 N, 4, is greater than permitted\n",
      "[15:01:47] ERROR: Explicit valence for atom # 10 N, 4, is greater than permitted\n",
      "\n",
      "[15:01:47] Explicit valence for atom # 15 N, 4, is greater than permitted\n",
      "[15:01:47] ERROR: Explicit valence for atom # 15 N, 4, is greater than permitted\n",
      "\n",
      "[15:01:47] Explicit valence for atom # 20 N, 4, is greater than permitted\n",
      "[15:01:47] ERROR: Explicit valence for atom # 20 N, 4, is greater than permitted\n",
      "\n"
     ]
    },
    {
     "name": "stdout",
     "output_type": "stream",
     "text": [
      "Error while parsing inchi to SMILES...\n",
      "Error while parsing inchi to SMILES...\n",
      "Error while parsing inchi to SMILES...\n",
      "Error while parsing inchi to SMILES...\n",
      "Error while parsing inchi to SMILES...\n",
      "Error while parsing inchi to SMILES...\n",
      "Error while parsing inchi to SMILES...\n"
     ]
    },
    {
     "name": "stderr",
     "output_type": "stream",
     "text": [
      "[15:01:47] Explicit valence for atom # 19 N, 4, is greater than permitted\n",
      "[15:01:47] ERROR: Explicit valence for atom # 19 N, 4, is greater than permitted\n",
      "\n",
      "[15:01:47] Explicit valence for atom # 26 N, 4, is greater than permitted\n",
      "[15:01:47] ERROR: Explicit valence for atom # 26 N, 4, is greater than permitted\n",
      "\n"
     ]
    },
    {
     "name": "stdout",
     "output_type": "stream",
     "text": [
      "Error while parsing inchi to SMILES...\n",
      "Error while parsing inchi to SMILES...\n"
     ]
    },
    {
     "name": "stderr",
     "output_type": "stream",
     "text": [
      "[15:01:48] Explicit valence for atom # 27 N, 4, is greater than permitted\n",
      "[15:01:48] ERROR: Explicit valence for atom # 27 N, 4, is greater than permitted\n",
      "\n",
      "[15:01:48] Explicit valence for atom # 13 N, 4, is greater than permitted\n",
      "[15:01:48] ERROR: Explicit valence for atom # 13 N, 4, is greater than permitted\n",
      "\n"
     ]
    },
    {
     "name": "stdout",
     "output_type": "stream",
     "text": [
      "Error while parsing inchi to SMILES...\n",
      "Error while parsing inchi to SMILES...\n"
     ]
    },
    {
     "name": "stderr",
     "output_type": "stream",
     "text": [
      "[15:01:48] Explicit valence for atom # 16 N, 4, is greater than permitted\n",
      "[15:01:48] ERROR: Explicit valence for atom # 16 N, 4, is greater than permitted\n",
      "\n",
      "[15:01:48] Explicit valence for atom # 23 N, 4, is greater than permitted\n",
      "[15:01:48] ERROR: Explicit valence for atom # 23 N, 4, is greater than permitted\n",
      "\n",
      "[15:01:48] Explicit valence for atom # 17 N, 4, is greater than permitted\n",
      "[15:01:48] ERROR: Explicit valence for atom # 17 N, 4, is greater than permitted\n",
      "\n"
     ]
    },
    {
     "name": "stdout",
     "output_type": "stream",
     "text": [
      "Error while parsing inchi to SMILES...\n",
      "Error while parsing inchi to SMILES...\n",
      "Error while parsing inchi to SMILES...\n"
     ]
    },
    {
     "name": "stderr",
     "output_type": "stream",
     "text": [
      "[15:01:48] Explicit valence for atom # 24 N, 4, is greater than permitted\n",
      "[15:01:48] ERROR: Explicit valence for atom # 24 N, 4, is greater than permitted\n",
      "\n",
      "[15:01:49] Explicit valence for atom # 22 N, 4, is greater than permitted\n",
      "[15:01:49] ERROR: Explicit valence for atom # 22 N, 4, is greater than permitted\n",
      "\n"
     ]
    },
    {
     "name": "stdout",
     "output_type": "stream",
     "text": [
      "Error while parsing inchi to SMILES...\n",
      "Error while parsing inchi to SMILES...\n"
     ]
    },
    {
     "name": "stderr",
     "output_type": "stream",
     "text": [
      "[15:01:49] Explicit valence for atom # 18 N, 4, is greater than permitted\n",
      "[15:01:49] ERROR: Explicit valence for atom # 18 N, 4, is greater than permitted\n",
      "\n",
      "[15:01:49] Explicit valence for atom # 17 N, 4, is greater than permitted\n",
      "[15:01:49] ERROR: Explicit valence for atom # 17 N, 4, is greater than permitted\n",
      "\n"
     ]
    },
    {
     "name": "stdout",
     "output_type": "stream",
     "text": [
      "Error while parsing inchi to SMILES...\n",
      "Error while parsing inchi to SMILES...\n"
     ]
    },
    {
     "name": "stderr",
     "output_type": "stream",
     "text": [
      "[15:01:49] Explicit valence for atom # 17 N, 4, is greater than permitted\n",
      "[15:01:49] ERROR: Explicit valence for atom # 17 N, 4, is greater than permitted\n",
      "\n"
     ]
    },
    {
     "name": "stdout",
     "output_type": "stream",
     "text": [
      "Error while parsing inchi to SMILES...\n"
     ]
    },
    {
     "name": "stderr",
     "output_type": "stream",
     "text": [
      "[15:01:50] Explicit valence for atom # 22 N, 4, is greater than permitted\n",
      "[15:01:50] ERROR: Explicit valence for atom # 22 N, 4, is greater than permitted\n",
      "\n",
      "[15:01:50] Explicit valence for atom # 18 N, 4, is greater than permitted\n",
      "[15:01:50] ERROR: Explicit valence for atom # 18 N, 4, is greater than permitted\n",
      "\n",
      "[15:01:50] Explicit valence for atom # 20 N, 4, is greater than permitted\n",
      "[15:01:50] ERROR: Explicit valence for atom # 20 N, 4, is greater than permitted\n",
      "\n",
      "[15:01:50] Explicit valence for atom # 21 N, 4, is greater than permitted\n",
      "[15:01:50] ERROR: Explicit valence for atom # 21 N, 4, is greater than permitted\n",
      "\n",
      "[15:01:50] Explicit valence for atom # 18 N, 4, is greater than permitted\n",
      "[15:01:50] ERROR: Explicit valence for atom # 18 N, 4, is greater than permitted\n",
      "\n",
      "[15:01:50] Explicit valence for atom # 19 N, 4, is greater than permitted\n",
      "[15:01:50] ERROR: Explicit valence for atom # 19 N, 4, is greater than permitted\n",
      "\n"
     ]
    },
    {
     "name": "stdout",
     "output_type": "stream",
     "text": [
      "Error while parsing inchi to SMILES...\n",
      "Error while parsing inchi to SMILES...\n",
      "Error while parsing inchi to SMILES...\n",
      "Error while parsing inchi to SMILES...\n",
      "Error while parsing inchi to SMILES...\n",
      "Error while parsing inchi to SMILES...\n"
     ]
    },
    {
     "name": "stderr",
     "output_type": "stream",
     "text": [
      "[15:01:50] Explicit valence for atom # 15 N, 4, is greater than permitted\n",
      "[15:01:50] ERROR: Explicit valence for atom # 15 N, 4, is greater than permitted\n",
      "\n",
      "[15:01:50] Explicit valence for atom # 19 N, 4, is greater than permitted\n",
      "[15:01:50] ERROR: Explicit valence for atom # 19 N, 4, is greater than permitted\n",
      "\n",
      "[15:01:50] Explicit valence for atom # 22 N, 4, is greater than permitted\n",
      "[15:01:50] ERROR: Explicit valence for atom # 22 N, 4, is greater than permitted\n",
      "\n",
      "[15:01:50] Explicit valence for atom # 18 N, 4, is greater than permitted\n",
      "[15:01:50] ERROR: Explicit valence for atom # 18 N, 4, is greater than permitted\n",
      "\n",
      "[15:01:50] Explicit valence for atom # 24 N, 4, is greater than permitted\n",
      "[15:01:50] ERROR: Explicit valence for atom # 24 N, 4, is greater than permitted\n",
      "\n",
      "[15:01:50] Explicit valence for atom # 19 N, 4, is greater than permitted\n",
      "[15:01:50] ERROR: Explicit valence for atom # 19 N, 4, is greater than permitted\n",
      "\n"
     ]
    },
    {
     "name": "stdout",
     "output_type": "stream",
     "text": [
      "Error while parsing inchi to SMILES...\n",
      "Error while parsing inchi to SMILES...\n",
      "Error while parsing inchi to SMILES...\n",
      "Error while parsing inchi to SMILES...\n",
      "Error while parsing inchi to SMILES...\n",
      "Error while parsing inchi to SMILES...\n"
     ]
    },
    {
     "name": "stderr",
     "output_type": "stream",
     "text": [
      "[15:01:51] WARNING:  Problems/mismatches: Mobile-H( Hydrogens: Locations or number; Mobile-H groups: Attachment points, Number)\n",
      "\n",
      "[15:01:55] Explicit valence for atom # 22 N, 4, is greater than permitted\n",
      "[15:01:55] ERROR: Explicit valence for atom # 22 N, 4, is greater than permitted\n",
      "\n"
     ]
    },
    {
     "name": "stdout",
     "output_type": "stream",
     "text": [
      "Error while parsing inchi to SMILES...\n"
     ]
    },
    {
     "name": "stderr",
     "output_type": "stream",
     "text": [
      "[15:01:56] Explicit valence for atom # 25 N, 4, is greater than permitted\n",
      "[15:01:56] ERROR: Explicit valence for atom # 25 N, 4, is greater than permitted\n",
      "\n",
      "[15:01:56] Explicit valence for atom # 21 N, 4, is greater than permitted\n",
      "[15:01:56] ERROR: Explicit valence for atom # 21 N, 4, is greater than permitted\n",
      "\n",
      "[15:01:56] Explicit valence for atom # 21 N, 4, is greater than permitted\n",
      "[15:01:56] ERROR: Explicit valence for atom # 21 N, 4, is greater than permitted\n",
      "\n",
      "[15:01:56] Explicit valence for atom # 23 N, 4, is greater than permitted\n",
      "[15:01:56] ERROR: Explicit valence for atom # 23 N, 4, is greater than permitted\n",
      "\n"
     ]
    },
    {
     "name": "stdout",
     "output_type": "stream",
     "text": [
      "Error while parsing inchi to SMILES...\n",
      "Error while parsing inchi to SMILES...\n",
      "Error while parsing inchi to SMILES...\n",
      "Error while parsing inchi to SMILES...\n"
     ]
    },
    {
     "name": "stderr",
     "output_type": "stream",
     "text": [
      "[15:01:56] Explicit valence for atom # 22 N, 4, is greater than permitted\n",
      "[15:01:56] ERROR: Explicit valence for atom # 22 N, 4, is greater than permitted\n",
      "\n",
      "[15:01:56] Explicit valence for atom # 22 N, 4, is greater than permitted\n",
      "[15:01:56] ERROR: Explicit valence for atom # 22 N, 4, is greater than permitted\n",
      "\n",
      "[15:01:56] Explicit valence for atom # 22 N, 4, is greater than permitted\n",
      "[15:01:56] ERROR: Explicit valence for atom # 22 N, 4, is greater than permitted\n",
      "\n",
      "[15:01:56] Explicit valence for atom # 18 N, 4, is greater than permitted\n",
      "[15:01:56] ERROR: Explicit valence for atom # 18 N, 4, is greater than permitted\n",
      "\n"
     ]
    },
    {
     "name": "stdout",
     "output_type": "stream",
     "text": [
      "Error while parsing inchi to SMILES...\n",
      "Error while parsing inchi to SMILES...\n",
      "Error while parsing inchi to SMILES...\n",
      "Error while parsing inchi to SMILES...\n"
     ]
    },
    {
     "name": "stderr",
     "output_type": "stream",
     "text": [
      "[15:01:58] Explicit valence for atom # 24 N, 4, is greater than permitted\n",
      "[15:01:58] ERROR: Explicit valence for atom # 24 N, 4, is greater than permitted\n",
      "\n"
     ]
    },
    {
     "name": "stdout",
     "output_type": "stream",
     "text": [
      "Error while parsing inchi to SMILES...\n"
     ]
    },
    {
     "name": "stderr",
     "output_type": "stream",
     "text": [
      "[15:02:01] Explicit valence for atom # 16 N, 4, is greater than permitted\n",
      "[15:02:01] ERROR: Explicit valence for atom # 16 N, 4, is greater than permitted\n",
      "\n"
     ]
    },
    {
     "name": "stdout",
     "output_type": "stream",
     "text": [
      "Error while parsing inchi to SMILES...\n"
     ]
    },
    {
     "name": "stderr",
     "output_type": "stream",
     "text": [
      "[15:02:03] Explicit valence for atom # 25 N, 4, is greater than permitted\n",
      "[15:02:03] ERROR: Explicit valence for atom # 25 N, 4, is greater than permitted\n",
      "\n"
     ]
    },
    {
     "name": "stdout",
     "output_type": "stream",
     "text": [
      "Error while parsing inchi to SMILES...\n"
     ]
    },
    {
     "name": "stderr",
     "output_type": "stream",
     "text": [
      "[15:02:06] Explicit valence for atom # 19 N, 4, is greater than permitted\n",
      "[15:02:06] ERROR: Explicit valence for atom # 19 N, 4, is greater than permitted\n",
      "\n"
     ]
    },
    {
     "name": "stdout",
     "output_type": "stream",
     "text": [
      "Error while parsing inchi to SMILES...\n"
     ]
    },
    {
     "name": "stderr",
     "output_type": "stream",
     "text": [
      "[15:02:07] Explicit valence for atom # 16 N, 4, is greater than permitted\n",
      "[15:02:07] ERROR: Explicit valence for atom # 16 N, 4, is greater than permitted\n",
      "\n"
     ]
    },
    {
     "name": "stdout",
     "output_type": "stream",
     "text": [
      "Error while parsing inchi to SMILES...\n"
     ]
    },
    {
     "name": "stderr",
     "output_type": "stream",
     "text": [
      "[15:02:08] Explicit valence for atom # 21 N, 4, is greater than permitted\n",
      "[15:02:08] ERROR: Explicit valence for atom # 21 N, 4, is greater than permitted\n",
      "\n"
     ]
    },
    {
     "name": "stdout",
     "output_type": "stream",
     "text": [
      "Error while parsing inchi to SMILES...\n"
     ]
    },
    {
     "name": "stderr",
     "output_type": "stream",
     "text": [
      "[15:02:27] Explicit valence for atom # 16 N, 4, is greater than permitted\n",
      "[15:02:27] ERROR: Explicit valence for atom # 16 N, 4, is greater than permitted\n",
      "\n"
     ]
    },
    {
     "name": "stdout",
     "output_type": "stream",
     "text": [
      "Error while parsing inchi to SMILES...\n"
     ]
    }
   ],
   "source": [
    "_data_adjusted_smiles_df = MoleculeParser(_data_adjusted_df).inchi2smiles()"
   ]
  },
  {
   "cell_type": "code",
   "execution_count": 14,
   "metadata": {},
   "outputs": [],
   "source": [
    "_data_adjusted_smiles_df.to_csv(\n",
    "    SMRT_DATASET_SMILES, \n",
    "    index=False\n",
    ")"
   ]
  },
  {
   "cell_type": "code",
   "execution_count": 15,
   "metadata": {},
   "outputs": [
    {
     "data": {
      "text/html": [
       "<div>\n",
       "<style scoped>\n",
       "    .dataframe tbody tr th:only-of-type {\n",
       "        vertical-align: middle;\n",
       "    }\n",
       "\n",
       "    .dataframe tbody tr th {\n",
       "        vertical-align: top;\n",
       "    }\n",
       "\n",
       "    .dataframe thead th {\n",
       "        text-align: right;\n",
       "    }\n",
       "</style>\n",
       "<table border=\"1\" class=\"dataframe\">\n",
       "  <thead>\n",
       "    <tr style=\"text-align: right;\">\n",
       "      <th></th>\n",
       "      <th>smiles</th>\n",
       "      <th>rt</th>\n",
       "    </tr>\n",
       "  </thead>\n",
       "  <tbody>\n",
       "    <tr>\n",
       "      <th>0</th>\n",
       "      <td>COC(=O)N1CCN(C(=O)Cc2ccc(Cl)c(Cl)c2)[C@H](CN2C...</td>\n",
       "      <td>687.8</td>\n",
       "    </tr>\n",
       "    <tr>\n",
       "      <th>1</th>\n",
       "      <td>CCN1CCC[C@@H]1CN=C(O)c1cc(S(=O)(=O)CC)c(N)cc1OC</td>\n",
       "      <td>590.7</td>\n",
       "    </tr>\n",
       "    <tr>\n",
       "      <th>2</th>\n",
       "      <td>Oc1cccc2c(O)nccc12</td>\n",
       "      <td>583.6</td>\n",
       "    </tr>\n",
       "    <tr>\n",
       "      <th>3</th>\n",
       "      <td>OC1=NCC2(CCN(CCc3ccccc3)CC2)O1</td>\n",
       "      <td>579.0</td>\n",
       "    </tr>\n",
       "    <tr>\n",
       "      <th>4</th>\n",
       "      <td>CC(C)(C)NC[C@H](O)COc1cccc2nc(O)[nH]c12</td>\n",
       "      <td>603.1</td>\n",
       "    </tr>\n",
       "  </tbody>\n",
       "</table>\n",
       "</div>"
      ],
      "text/plain": [
       "                                              smiles     rt\n",
       "0  COC(=O)N1CCN(C(=O)Cc2ccc(Cl)c(Cl)c2)[C@H](CN2C...  687.8\n",
       "1    CCN1CCC[C@@H]1CN=C(O)c1cc(S(=O)(=O)CC)c(N)cc1OC  590.7\n",
       "2                                 Oc1cccc2c(O)nccc12  583.6\n",
       "3                     OC1=NCC2(CCN(CCc3ccccc3)CC2)O1  579.0\n",
       "4            CC(C)(C)NC[C@H](O)COc1cccc2nc(O)[nH]c12  603.1"
      ]
     },
     "execution_count": 15,
     "metadata": {},
     "output_type": "execute_result"
    }
   ],
   "source": [
    "_data_adjusted_smiles_df.head()"
   ]
  },
  {
   "cell_type": "markdown",
   "metadata": {},
   "source": [
    "# Create Dataset\n"
   ]
  },
  {
   "cell_type": "code",
   "execution_count": 16,
   "metadata": {},
   "outputs": [],
   "source": [
    "# Build vocabulary of SMILES characters\n",
    "_vocabulary, _inverse_vocabulary = MoleculeEncoder.build(_data_adjusted_smiles_df, file_path=None)"
   ]
  },
  {
   "cell_type": "code",
   "execution_count": 17,
   "metadata": {},
   "outputs": [
    {
     "name": "stdout",
     "output_type": "stream",
     "text": [
      "{'<PAD>': 0, '<UNK>': 1, '[CH]': 2, '1': 3, '[N@]': 4, '9': 5, '[H]': 6, 'n': 7, '[O-]': 8, '[S@]': 9, '[N+]': 10, 'c': 11, 'o': 12, 's': 13, '8': 14, '(': 15, '[C@@]': 16, 'F': 17, '[Si]': 18, '5': 19, '=': 20, '7': 21, '-': 22, '[nH]': 23, 'Br': 24, '[S+]': 25, '2': 26, '[P@@]': 27, '4': 28, '#': 29, '3': 30, 'O': 31, '[C@@H]': 32, '\\\\': 33, '[S@@]': 34, '/': 35, '[NH+]': 36, '[P@]': 37, '[N-]': 38, '[C@]': 39, ')': 40, '[N@+]': 41, 'S': 42, 'I': 43, '[Si@]': 44, '6': 45, '[N@@]': 46, 'P': 47, 'N': 48, 'Cl': 49, '[C-]': 50, '[C@H]': 51, '[n+]': 52, 'C': 53}\n"
     ]
    }
   ],
   "source": [
    "print(_vocabulary)"
   ]
  },
  {
   "cell_type": "code",
   "execution_count": 18,
   "metadata": {},
   "outputs": [],
   "source": [
    "# Encode SMILES to integers\n",
    "_encoded_smiles_array = MoleculeEncoder.encode(_data_adjusted_smiles_df, _vocabulary, 90, MoleculeEncodingType.OneHot)"
   ]
  },
  {
   "cell_type": "code",
   "execution_count": 19,
   "metadata": {},
   "outputs": [
    {
     "data": {
      "text/plain": [
       "(77895, 90, 54)"
      ]
     },
     "execution_count": 19,
     "metadata": {},
     "output_type": "execute_result"
    }
   ],
   "source": [
    "_encoded_smiles_array.shape"
   ]
  },
  {
   "cell_type": "code",
   "execution_count": 20,
   "metadata": {
    "collapsed": false,
    "jupyter": {
     "outputs_hidden": false
    }
   },
   "outputs": [],
   "source": [
    "# Check if the process is reversible\n",
    "_random_compound_idx: int = random.randint(0, _encoded_smiles_array.shape[0])\n",
    "_random_smiles_encoded: str = _encoded_smiles_array[_random_compound_idx, :, :]\n",
    "_random_smiles_decoded: str = MoleculeEncoder.decode(_random_smiles_encoded, _inverse_vocabulary, MoleculeEncodingType.OneHot)"
   ]
  },
  {
   "cell_type": "code",
   "execution_count": 21,
   "metadata": {},
   "outputs": [
    {
     "data": {
      "text/plain": [
       "array([[0., 0., 0., ..., 0., 0., 1.],\n",
       "       [0., 0., 0., ..., 0., 0., 0.],\n",
       "       [0., 0., 0., ..., 0., 0., 0.],\n",
       "       ...,\n",
       "       [1., 0., 0., ..., 0., 0., 0.],\n",
       "       [1., 0., 0., ..., 0., 0., 0.],\n",
       "       [1., 0., 0., ..., 0., 0., 0.]])"
      ]
     },
     "execution_count": 21,
     "metadata": {},
     "output_type": "execute_result"
    }
   ],
   "source": [
    "_random_smiles_encoded"
   ]
  },
  {
   "cell_type": "code",
   "execution_count": 22,
   "metadata": {},
   "outputs": [
    {
     "data": {
      "text/plain": [
       "True"
      ]
     },
     "execution_count": 22,
     "metadata": {},
     "output_type": "execute_result"
    }
   ],
   "source": [
    "_random_smiles_decoded == _data_adjusted_smiles_df.loc[_random_compound_idx, \"smiles\"]"
   ]
  },
  {
   "cell_type": "markdown",
   "metadata": {},
   "source": [
    "# Save the Dataset"
   ]
  },
  {
   "cell_type": "code",
   "execution_count": 23,
   "metadata": {},
   "outputs": [],
   "source": [
    "with open(SMRT_DATASET_ENCODED_SMILES, \"wb\") as f:\n",
    "    pickle.dump(_encoded_smiles_array, f)"
   ]
  },
  {
   "cell_type": "code",
   "execution_count": null,
   "metadata": {},
   "outputs": [],
   "source": []
  }
 ],
 "metadata": {
  "kernelspec": {
   "display_name": "Python 3 (ipykernel)",
   "language": "python",
   "name": "python3"
  },
  "language_info": {
   "codemirror_mode": {
    "name": "ipython",
    "version": 3
   },
   "file_extension": ".py",
   "mimetype": "text/x-python",
   "name": "python",
   "nbconvert_exporter": "python",
   "pygments_lexer": "ipython3",
   "version": "3.10.6"
  }
 },
 "nbformat": 4,
 "nbformat_minor": 4
}
