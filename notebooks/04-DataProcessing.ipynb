{
 "cells": [
  {
   "cell_type": "markdown",
   "metadata": {},
   "source": [
    "# Imports"
   ]
  },
  {
   "cell_type": "code",
   "execution_count": 2,
   "metadata": {
    "ExecuteTime": {
     "start_time": "2023-11-19T04:12:01.355951Z"
    }
   },
   "outputs": [],
   "source": [
    "import os\n",
    "import sys\n",
    "import re\n",
    "import pickle\n",
    "import random\n",
    "import collections\n",
    "from enum import (\n",
    "    Enum,\n",
    "    unique\n",
    ")\n",
    "from typing import (\n",
    "    Dict,\n",
    "    List,\n",
    "    Optional\n",
    ")\n",
    "\n",
    "import numpy as np\n",
    "from numpy import ndarray\n",
    "\n",
    "import pandas as pd\n",
    "from pandas import DataFrame"
   ]
  },
  {
   "cell_type": "code",
   "execution_count": 3,
   "metadata": {},
   "outputs": [],
   "source": [
    "# Place the package on the path\n",
    "\n",
    "QSRR_PATH: str = os.path.join(os.path.dirname(os.getcwd()))\n",
    "\n",
    "if QSRR_PATH not in sys.path:\n",
    "    sys.path.insert(0, QSRR_PATH)"
   ]
  },
  {
   "cell_type": "code",
   "execution_count": 4,
   "metadata": {},
   "outputs": [],
   "source": [
    "from qsrr.process import MoleculeEncoder"
   ]
  },
  {
   "cell_type": "markdown",
   "metadata": {},
   "source": [
    "# Load and Process Data"
   ]
  },
  {
   "cell_type": "code",
   "execution_count": null,
   "metadata": {},
   "outputs": [],
   "source": [
    "DATA_PATH: str = os.path.join(QSRR_PATH, \"data\")\n",
    "SMRT_DATASET: str = os.path.join(DATA_PATH, \"2023-11-18-smrt_dataset.csv\")\n",
    "SMRT_DATASET_SMILES: str = os.path.join(DATA_PATH, \"2023-11-18-smrt_dataset_smiles.csv\")\n",
    "SMRT_DATASET_ENCODED_SMILES: str = os.path.join(DATA_PATH, \"2023-11-18-smrt_dataset_encoded_smiles.pkl\")"
   ]
  },
  {
   "cell_type": "code",
   "execution_count": null,
   "metadata": {},
   "outputs": [],
   "source": [
    "_data_df = pd.read_csv(\n",
    "    SMRT_DATASET, \n",
    "    delimiter=';'\n",
    ")"
   ]
  },
  {
   "cell_type": "code",
   "execution_count": null,
   "metadata": {},
   "outputs": [],
   "source": [
    "display(_data_df.head())"
   ]
  },
  {
   "cell_type": "code",
   "execution_count": null,
   "metadata": {},
   "outputs": [],
   "source": [
    "_data_df['rt'].describe().round(2)"
   ]
  },
  {
   "cell_type": "code",
   "execution_count": null,
   "metadata": {},
   "outputs": [],
   "source": [
    "# Plot the distribution of the retention times\n",
    "plt.hist(\n",
    "    _data_df['rt'] / 60, \n",
    "    bins=50, \n",
    "    edgecolor='black'\n",
    ")\n",
    "plt.xlabel('Retention time (min)')\n",
    "plt.ylabel('Number of molecules')\n",
    "plt.show()"
   ]
  },
  {
   "cell_type": "code",
   "execution_count": null,
   "metadata": {},
   "outputs": [],
   "source": [
    "# Filter out data with RT < 7 minutes\n",
    "_threshold_rt = 7 * 60\n",
    "_data_adjusted_df = _data_df.loc[_data_df['rt'] > _threshold_rt].reset_index(drop=True)\n",
    "_count = _data_df[_data_df['rt'] < _threshold_rt].count()"
   ]
  },
  {
   "cell_type": "code",
   "execution_count": null,
   "metadata": {},
   "outputs": [],
   "source": [
    "print(f'Number of rows with rt values less than {_threshold_rt // 60} minutes: ', _count.iloc[0])"
   ]
  },
  {
   "cell_type": "code",
   "execution_count": null,
   "metadata": {},
   "outputs": [],
   "source": [
    "display(_data_adjusted_df['rt'].describe().round(2))"
   ]
  },
  {
   "cell_type": "code",
   "execution_count": null,
   "metadata": {},
   "outputs": [],
   "source": [
    "# Plot the distribution of the retention times\n",
    "plt.hist(\n",
    "    _data_adjusted_df['rt'] / 60, \n",
    "    bins=50, \n",
    "    edgecolor='black'\n",
    ")\n",
    "plt.xlabel('Retention time (min)')\n",
    "plt.ylabel('Number of molecules')\n",
    "plt.show()"
   ]
  },
  {
   "cell_type": "markdown",
   "metadata": {},
   "source": [
    "# Generate Descriptors"
   ]
  },
  {
   "cell_type": "code",
   "execution_count": null,
   "metadata": {},
   "outputs": [],
   "source": [
    "# Convert InChi to SMILES\n",
    "_smiles_list = []\n",
    "_rt_list = []\n",
    "\n",
    "for _col, _row in _data_adjusted_df.iterrows():\n",
    "    try:\n",
    "        _smiles_list.append(\n",
    "            Chem.MolToSmiles(\n",
    "                Chem.MolFromInchi(\n",
    "                    _row[\"inchi\"]\n",
    "                )\n",
    "            )\n",
    "        )\n",
    "        _rt_list.append(_row['rt'])\n",
    "    except:\n",
    "        pass"
   ]
  },
  {
   "cell_type": "code",
   "execution_count": null,
   "metadata": {},
   "outputs": [],
   "source": [
    "_data_adjusted_smiles_df = pd.DataFrame().from_dict(\n",
    "    {'smiles': _smiles_list, 'rt': _rt_list}\n",
    ")\n",
    "_data_adjusted_smiles_df.to_csv(\n",
    "    SMRT_DATASET_SMILES, \n",
    "    index=False\n",
    ")"
   ]
  },
  {
   "cell_type": "code",
   "execution_count": null,
   "metadata": {},
   "outputs": [],
   "source": [
    "_data_adjusted_smiles_df.head()"
   ]
  },
  {
   "cell_type": "markdown",
   "metadata": {},
   "source": [
    "# Create Dataset\n"
   ]
  },
  {
   "cell_type": "code",
   "execution_count": null,
   "metadata": {},
   "outputs": [],
   "source": [
    "# Build vocabulary of SMILES characters\n",
    "_vocabulary, _inverse_vocabulary = Encoder.build(_data_adjusted_smiles_df, file_path=None)"
   ]
  },
  {
   "cell_type": "code",
   "execution_count": null,
   "metadata": {},
   "outputs": [],
   "source": [
    "print(_inverse_vocabulary)"
   ]
  },
  {
   "cell_type": "code",
   "execution_count": null,
   "metadata": {},
   "outputs": [],
   "source": [
    "# Encode SMILES to integers\n",
    "_encoded_smiles_array = Encoder.encode(_data_adjusted_smiles_df, _vocabulary, 90, EncodingType.OneHot)"
   ]
  },
  {
   "cell_type": "code",
   "execution_count": null,
   "metadata": {},
   "outputs": [],
   "source": [
    "_encoded_smiles_array.shape"
   ]
  },
  {
   "cell_type": "code",
   "execution_count": null,
   "metadata": {
    "collapsed": false,
    "jupyter": {
     "outputs_hidden": false
    }
   },
   "outputs": [],
   "source": [
    "# Check if the process is reversible\n",
    "_random_compound_idx: int = random.randint(0, _encoded_smiles_array.shape[0])\n",
    "_random_smiles_encoded: str = _encoded_smiles_array[_random_compound_idx, :, :]\n",
    "_random_smiles_decoded: str = Encoder.decode(_random_smiles_encoded, _inverse_vocabulary, EncodingType.OneHot)"
   ]
  },
  {
   "cell_type": "code",
   "execution_count": null,
   "metadata": {},
   "outputs": [],
   "source": [
    "_random_smiles_encoded"
   ]
  },
  {
   "cell_type": "code",
   "execution_count": null,
   "metadata": {},
   "outputs": [],
   "source": [
    "_random_smiles_decoded == _data_adjusted_smiles_df.loc[_random_compound_idx, \"smiles\"]"
   ]
  },
  {
   "cell_type": "markdown",
   "metadata": {},
   "source": [
    "# Save the Dataset"
   ]
  },
  {
   "cell_type": "code",
   "execution_count": null,
   "metadata": {},
   "outputs": [],
   "source": [
    "with open(SMRT_DATASET_ENCODED_SMILES, \"wb\") as f:\n",
    "    pickle.dump(_encoded_smiles_array, f)"
   ]
  },
  {
   "cell_type": "code",
   "execution_count": null,
   "metadata": {},
   "outputs": [],
   "source": []
  }
 ],
 "metadata": {
  "kernelspec": {
   "display_name": "Python 3 (ipykernel)",
   "language": "python",
   "name": "python3"
  },
  "language_info": {
   "codemirror_mode": {
    "name": "ipython",
    "version": 3
   },
   "file_extension": ".py",
   "mimetype": "text/x-python",
   "name": "python",
   "nbconvert_exporter": "python",
   "pygments_lexer": "ipython3",
   "version": "3.10.2"
  }
 },
 "nbformat": 4,
 "nbformat_minor": 4
}
